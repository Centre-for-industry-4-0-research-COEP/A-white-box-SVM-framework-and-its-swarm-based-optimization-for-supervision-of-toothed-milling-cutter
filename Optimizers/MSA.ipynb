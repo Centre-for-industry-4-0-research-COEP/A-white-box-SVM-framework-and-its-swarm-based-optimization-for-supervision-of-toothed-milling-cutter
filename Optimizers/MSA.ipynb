{
 "cells": [
  {
   "cell_type": "code",
   "execution_count": 1,
   "metadata": {
    "id": "SJFGHkZGKNs9"
   },
   "outputs": [],
   "source": [
    "import numpy as np\n",
    "import pandas as pd\n",
    "import matplotlib.pyplot as plt\n",
    "import seaborn as sns\n",
    "import math\n",
    "from numpy import mean, abs, power, pi, sin\n",
    "from numpy.random import uniform, randint\n",
    "from copy import deepcopy\n",
    "from math import floor, ceil\n",
    "from sklearn.svm import SVC\n",
    "from sklearn.metrics import accuracy_score, confusion_matrix\n",
    "from sklearn.model_selection import KFold\n",
    "from random import random"
   ]
  },
  {
   "cell_type": "markdown",
   "metadata": {},
   "source": [
    "### Importing data"
   ]
  },
  {
   "cell_type": "code",
   "execution_count": 2,
   "metadata": {
    "colab": {
     "base_uri": "https://localhost:8080/",
     "height": 237
    },
    "id": "ivtBPR52oajw",
    "outputId": "9cda3cac-c05e-4994-ed9b-32e05bba257e"
   },
   "outputs": [
    {
     "data": {
      "text/html": [
       "<div>\n",
       "<style scoped>\n",
       "    .dataframe tbody tr th:only-of-type {\n",
       "        vertical-align: middle;\n",
       "    }\n",
       "\n",
       "    .dataframe tbody tr th {\n",
       "        vertical-align: top;\n",
       "    }\n",
       "\n",
       "    .dataframe thead th {\n",
       "        text-align: right;\n",
       "    }\n",
       "</style>\n",
       "<table border=\"1\" class=\"dataframe\">\n",
       "  <thead>\n",
       "    <tr style=\"text-align: right;\">\n",
       "      <th></th>\n",
       "      <th>Mean</th>\n",
       "      <th>SD</th>\n",
       "      <th>Kurtosis</th>\n",
       "      <th>sum</th>\n",
       "      <th>Skewness</th>\n",
       "      <th>max</th>\n",
       "      <th>min</th>\n",
       "      <th>range</th>\n",
       "      <th>RMS</th>\n",
       "      <th>Shape factor</th>\n",
       "      <th>condition</th>\n",
       "    </tr>\n",
       "  </thead>\n",
       "  <tbody>\n",
       "    <tr>\n",
       "      <th>0</th>\n",
       "      <td>-1.166491</td>\n",
       "      <td>-0.641888</td>\n",
       "      <td>-0.631950</td>\n",
       "      <td>-1.166651</td>\n",
       "      <td>0.326382</td>\n",
       "      <td>-0.407618</td>\n",
       "      <td>1.058829</td>\n",
       "      <td>-0.740012</td>\n",
       "      <td>0.033720</td>\n",
       "      <td>-0.413015</td>\n",
       "      <td>5</td>\n",
       "    </tr>\n",
       "    <tr>\n",
       "      <th>1</th>\n",
       "      <td>0.389329</td>\n",
       "      <td>0.830822</td>\n",
       "      <td>1.604929</td>\n",
       "      <td>0.389247</td>\n",
       "      <td>0.082017</td>\n",
       "      <td>1.090784</td>\n",
       "      <td>-1.204128</td>\n",
       "      <td>1.196487</td>\n",
       "      <td>0.744678</td>\n",
       "      <td>-0.432032</td>\n",
       "      <td>3</td>\n",
       "    </tr>\n",
       "    <tr>\n",
       "      <th>2</th>\n",
       "      <td>1.439655</td>\n",
       "      <td>-0.488640</td>\n",
       "      <td>0.576646</td>\n",
       "      <td>1.439758</td>\n",
       "      <td>1.949726</td>\n",
       "      <td>0.773832</td>\n",
       "      <td>0.418404</td>\n",
       "      <td>0.236606</td>\n",
       "      <td>0.108506</td>\n",
       "      <td>-0.619835</td>\n",
       "      <td>1</td>\n",
       "    </tr>\n",
       "    <tr>\n",
       "      <th>3</th>\n",
       "      <td>-0.641116</td>\n",
       "      <td>-0.718663</td>\n",
       "      <td>-0.972769</td>\n",
       "      <td>-0.641185</td>\n",
       "      <td>-0.538460</td>\n",
       "      <td>-1.190899</td>\n",
       "      <td>0.873037</td>\n",
       "      <td>-1.093864</td>\n",
       "      <td>-0.003179</td>\n",
       "      <td>-0.486737</td>\n",
       "      <td>5</td>\n",
       "    </tr>\n",
       "    <tr>\n",
       "      <th>4</th>\n",
       "      <td>0.658361</td>\n",
       "      <td>-0.764562</td>\n",
       "      <td>-0.388668</td>\n",
       "      <td>0.658378</td>\n",
       "      <td>-0.370158</td>\n",
       "      <td>-0.387232</td>\n",
       "      <td>-0.437583</td>\n",
       "      <td>-0.008617</td>\n",
       "      <td>-0.024884</td>\n",
       "      <td>-0.598013</td>\n",
       "      <td>1</td>\n",
       "    </tr>\n",
       "  </tbody>\n",
       "</table>\n",
       "</div>"
      ],
      "text/plain": [
       "      Mean         SD  Kurtosis       sum  Skewness        max       min  \\\n",
       "0 -1.166491 -0.641888 -0.631950 -1.166651   0.326382 -0.407618  1.058829   \n",
       "1  0.389329  0.830822  1.604929  0.389247   0.082017  1.090784 -1.204128   \n",
       "2  1.439655 -0.488640  0.576646  1.439758   1.949726  0.773832  0.418404   \n",
       "3 -0.641116 -0.718663 -0.972769 -0.641185  -0.538460 -1.190899  0.873037   \n",
       "4  0.658361 -0.764562 -0.388668  0.658378  -0.370158 -0.387232 -0.437583   \n",
       "\n",
       "      range       RMS  Shape factor  condition  \n",
       "0 -0.740012  0.033720     -0.413015          5  \n",
       "1  1.196487  0.744678     -0.432032          3  \n",
       "2  0.236606  0.108506     -0.619835          1  \n",
       "3 -1.093864 -0.003179     -0.486737          5  \n",
       "4 -0.008617 -0.024884     -0.598013          1  "
      ]
     },
     "execution_count": 2,
     "metadata": {},
     "output_type": "execute_result"
    }
   ],
   "source": [
    "# to import the stored data\n",
    "training = pd.read_csv('D:/tejas paper/final_training_df.csv')\n",
    "training.head()"
   ]
  },
  {
   "cell_type": "code",
   "execution_count": 3,
   "metadata": {},
   "outputs": [],
   "source": [
    "X_train = training.drop(['condition'], axis = 1)\n",
    "Y_train = training['condition']"
   ]
  },
  {
   "cell_type": "code",
   "execution_count": 4,
   "metadata": {},
   "outputs": [
    {
     "data": {
      "text/html": [
       "<div>\n",
       "<style scoped>\n",
       "    .dataframe tbody tr th:only-of-type {\n",
       "        vertical-align: middle;\n",
       "    }\n",
       "\n",
       "    .dataframe tbody tr th {\n",
       "        vertical-align: top;\n",
       "    }\n",
       "\n",
       "    .dataframe thead th {\n",
       "        text-align: right;\n",
       "    }\n",
       "</style>\n",
       "<table border=\"1\" class=\"dataframe\">\n",
       "  <thead>\n",
       "    <tr style=\"text-align: right;\">\n",
       "      <th></th>\n",
       "      <th>Mean</th>\n",
       "      <th>SD</th>\n",
       "      <th>Kurtosis</th>\n",
       "      <th>sum</th>\n",
       "      <th>Skewness</th>\n",
       "      <th>max</th>\n",
       "      <th>min</th>\n",
       "      <th>range</th>\n",
       "      <th>RMS</th>\n",
       "      <th>Shape factor</th>\n",
       "      <th>condition</th>\n",
       "    </tr>\n",
       "  </thead>\n",
       "  <tbody>\n",
       "    <tr>\n",
       "      <th>0</th>\n",
       "      <td>-0.460915</td>\n",
       "      <td>-0.860746</td>\n",
       "      <td>-1.036939</td>\n",
       "      <td>-0.460855</td>\n",
       "      <td>-0.569580</td>\n",
       "      <td>-1.479807</td>\n",
       "      <td>1.343628</td>\n",
       "      <td>-1.483727</td>\n",
       "      <td>-0.071674</td>\n",
       "      <td>-0.520886</td>\n",
       "      <td>5</td>\n",
       "    </tr>\n",
       "    <tr>\n",
       "      <th>1</th>\n",
       "      <td>-0.224031</td>\n",
       "      <td>-0.100869</td>\n",
       "      <td>0.983163</td>\n",
       "      <td>-0.224191</td>\n",
       "      <td>0.073753</td>\n",
       "      <td>0.313520</td>\n",
       "      <td>-0.810453</td>\n",
       "      <td>0.567283</td>\n",
       "      <td>0.294995</td>\n",
       "      <td>-0.462754</td>\n",
       "      <td>4</td>\n",
       "    </tr>\n",
       "    <tr>\n",
       "      <th>2</th>\n",
       "      <td>-0.336128</td>\n",
       "      <td>0.531163</td>\n",
       "      <td>1.835477</td>\n",
       "      <td>-0.336130</td>\n",
       "      <td>2.019024</td>\n",
       "      <td>2.423654</td>\n",
       "      <td>-0.684162</td>\n",
       "      <td>1.700572</td>\n",
       "      <td>0.599914</td>\n",
       "      <td>-0.383252</td>\n",
       "      <td>4</td>\n",
       "    </tr>\n",
       "    <tr>\n",
       "      <th>3</th>\n",
       "      <td>0.331800</td>\n",
       "      <td>-0.372152</td>\n",
       "      <td>-0.920667</td>\n",
       "      <td>0.331941</td>\n",
       "      <td>-0.372720</td>\n",
       "      <td>-1.306980</td>\n",
       "      <td>0.615906</td>\n",
       "      <td>-1.035855</td>\n",
       "      <td>-1.967718</td>\n",
       "      <td>1.283732</td>\n",
       "      <td>0</td>\n",
       "    </tr>\n",
       "    <tr>\n",
       "      <th>4</th>\n",
       "      <td>0.415132</td>\n",
       "      <td>-0.535673</td>\n",
       "      <td>-0.822137</td>\n",
       "      <td>0.415019</td>\n",
       "      <td>-0.178914</td>\n",
       "      <td>-0.447551</td>\n",
       "      <td>0.309443</td>\n",
       "      <td>-0.402112</td>\n",
       "      <td>-1.968440</td>\n",
       "      <td>2.551908</td>\n",
       "      <td>0</td>\n",
       "    </tr>\n",
       "  </tbody>\n",
       "</table>\n",
       "</div>"
      ],
      "text/plain": [
       "      Mean         SD  Kurtosis       sum  Skewness        max       min  \\\n",
       "0 -0.460915 -0.860746 -1.036939 -0.460855  -0.569580 -1.479807  1.343628   \n",
       "1 -0.224031 -0.100869  0.983163 -0.224191   0.073753  0.313520 -0.810453   \n",
       "2 -0.336128  0.531163  1.835477 -0.336130   2.019024  2.423654 -0.684162   \n",
       "3  0.331800 -0.372152 -0.920667  0.331941  -0.372720 -1.306980  0.615906   \n",
       "4  0.415132 -0.535673 -0.822137  0.415019  -0.178914 -0.447551  0.309443   \n",
       "\n",
       "      range       RMS  Shape factor  condition  \n",
       "0 -1.483727 -0.071674     -0.520886          5  \n",
       "1  0.567283  0.294995     -0.462754          4  \n",
       "2  1.700572  0.599914     -0.383252          4  \n",
       "3 -1.035855 -1.967718      1.283732          0  \n",
       "4 -0.402112 -1.968440      2.551908          0  "
      ]
     },
     "execution_count": 4,
     "metadata": {},
     "output_type": "execute_result"
    }
   ],
   "source": [
    "testing = pd.read_csv('D:/tejas paper/final_testing_df.csv')\n",
    "testing.head()"
   ]
  },
  {
   "cell_type": "code",
   "execution_count": 5,
   "metadata": {},
   "outputs": [],
   "source": [
    "X_test = testing.drop(['condition'], axis = 1)\n",
    "Y_test = testing['condition']"
   ]
  },
  {
   "cell_type": "markdown",
   "metadata": {},
   "source": [
    "### MSA"
   ]
  },
  {
   "cell_type": "code",
   "execution_count": 6,
   "metadata": {},
   "outputs": [],
   "source": [
    "def initialize(N, dim):\n",
    "    #if not isinstance(lb, list):\n",
    "     #   lb = [lb for _ in range(dim)]\n",
    "      #  ub = [ub for _ in range(dim)]\n",
    "    #lb = np.asarray(lb)\n",
    "    #ub = np.asarray(ub)\n",
    "         \n",
    "    #Initialize the locations of Harris' hawks\n",
    "    #X = np.asarray([x*(ub-lb)+lb for x in uniform(0,1,(N, dim))])\n",
    "    X = np.zeros((N, dim))\n",
    "    \n",
    "    reg_parameter = np.random.uniform(low = 0.0000001, high = 300, size = N)\n",
    "    gam = np.random.uniform(low = 0.0000001, high = 50, size = N)\n",
    "\n",
    "    for i in range(N):\n",
    "        X[i, 0] = reg_parameter[i]\n",
    "        X[i, 1] = gam[i]\n",
    "    \n",
    "    return X"
   ]
  },
  {
   "cell_type": "code",
   "execution_count": 7,
   "metadata": {},
   "outputs": [],
   "source": [
    "def get_fitness(pos, X, Y):\n",
    "    X = X.reset_index(drop=True)\n",
    "    \n",
    "    kf = KFold(n_splits = 10, random_state = None, shuffle = False)\n",
    "    \n",
    "    total_score = 0\n",
    "    for train_index, test_index in kf.split(X):\n",
    "        X_train_fold, X_cv_fold = X.iloc[train_index], X.iloc[test_index]\n",
    "        Y_train_fold, Y_cv_fold = Y[train_index], Y[test_index]\n",
    "\n",
    "        svm_model = SVC(C = pos[0], kernel='rbf', gamma = pos[1], verbose = False)\n",
    "        svm_model.fit(X_train_fold, Y_train_fold)\n",
    "\n",
    "        predicted_value = svm_model.predict(X_cv_fold)\n",
    "        score = accuracy_score(Y_cv_fold, predicted_value)\n",
    "\n",
    "        total_score = total_score + score\n",
    "    \n",
    "    acc = total_score/10\n",
    "     \n",
    "    return acc"
   ]
  },
  {
   "cell_type": "code",
   "execution_count": 8,
   "metadata": {},
   "outputs": [],
   "source": [
    "def _levy_walk__(t, Smax):\n",
    "\n",
    "        '''beta = 1.5      # Eq. 2.23 in paper\n",
    "        sigma_N = math.gamma(1+beta) * np.sin(np.pi*beta/2)\n",
    "        sigma_D = math.gamma((1+beta)/2) * beta * (2**((beta-1)/2))\n",
    "        sigma = (sigma_N / sigma_D)**(1/beta)\n",
    "        u = np.array([uniform(0.0000001), uniform(300)]) * sigma\n",
    "        v = np.array([uniform(0.0000001), uniform(50)])\n",
    "        step = np.divide(u, np.power(np.absolute(v),(1/beta)))'''\n",
    "        sigma = 1.5\n",
    "        L_num = (sigma-1)*math.gamma(sigma-1)*np.sin(np.pi*(sigma-1)/2)\n",
    "        L_den = np.pi*np.power(t+1, sigma)\n",
    "        L = L_num/L_den\n",
    "        step = np.array([L, L])\n",
    "        ## scale is same as alpha from eqn 2\n",
    "        scale = Smax / ((t+1)**2)\n",
    "        delta_x = scale * step\n",
    "        \n",
    "        return delta_x"
   ]
  },
  {
   "cell_type": "code",
   "execution_count": 9,
   "metadata": {},
   "outputs": [],
   "source": [
    "def MSA_train(T, N, Smax, dim, X_train, Y_train):\n",
    "    ## defining golden ratio and its array\n",
    "    golden_ratio = (np.sqrt(5) - 1) / 2\n",
    "    psi = np.array([golden_ratio, golden_ratio])\n",
    "    \n",
    "    #initialize locations\n",
    "    pos = initialize(N, dim)\n",
    "    pop = pd.DataFrame(columns = ('position', 'fitness'), index = [i for i in range(0, N)])\n",
    "    for i in range(0, N):\n",
    "        pop.iloc[i, 0] = pos[i, :]\n",
    "        pop.iloc[i, 1] = 0\n",
    "    \n",
    "    # initialize convergence\n",
    "    convergence_curve = np.zeros(T)\n",
    "    \n",
    "    for t in range(T):\n",
    "        for i in range(0, N):\n",
    "            # Check boundries          \n",
    "            pop.iloc[i, 0][0] = np.clip(pop.iloc[i, 0][0], 0.0000001, 300)\n",
    "            if pos[i, 1] < 0:\n",
    "                pop.iloc[i, 0][1] = -pop.iloc[i, 0][1]\n",
    "            else:\n",
    "                pop.iloc[i, 0][1] = np.clip(pop.iloc[i, 0][1], 0.0000001, 50)\n",
    "                \n",
    "            # fitness of locations\n",
    "            pop.iloc[i, 1] = get_fitness(pop.iloc[i, 0], X_train, Y_train)\n",
    "            \n",
    "        # sorting the population from lowest fitness to highest fitness\n",
    "        pop = pop.sort_values('fitness', ignore_index = True)\n",
    "        \n",
    "        # best moth is the one that has highest fitness i.e. the last one after sorting in ascending order\n",
    "        bestLocation = pop.iloc[N-1, 0]\n",
    "        bestFitness = pop.iloc[N-1, 1]\n",
    "        \n",
    "        # updating subpopulation 1 using levy flight according to equation 2\n",
    "        # function _levy_walk__ returns alpha*L(s)\n",
    "        for i in range(int(ceil(N/2))):\n",
    "            X1 = pop.iloc[i, 0] + _levy_walk__(t, Smax)\n",
    "            X1[0] = np.clip(X1[0], 0.0000001, 300)\n",
    "            if X1[1] < 0:\n",
    "                X1[1] = -X1[1]\n",
    "            #else:\n",
    "            #    X1[1] = np.clip(X1[1], 0.001, 100)\n",
    "            fit_X1 = get_fitness(X1, X_train, Y_train)\n",
    "            \n",
    "            # the moth is replaced only if its fitness is less than the new one\n",
    "            if fit_X1 > pop.iloc[i, 1]:  ### line from mealpy inverted for maximisation\n",
    "                pop.iloc[i, 0] = X1.copy()\n",
    "                pop.iloc[i, 1] = fit_X1\n",
    "        \n",
    "        # updating subpopulation 2 using moths fly straightly eq 5 and 6\n",
    "        for i in range(int(ceil(N/2)), N):\n",
    "            lam = np.array([uniform(0.0000001, 300), uniform(0.0000001, 50)])\n",
    "            #for j in range(dim):\n",
    "            if uniform() > 0.5:\n",
    "                X1 = lam * (pop.iloc[i, 0] + psi * (bestLocation-pop.iloc[i, 0]))\n",
    "            else:\n",
    "                X1 = lam * (pop.iloc[i, 0] + (1/psi) * (bestLocation-pop.iloc[i, 0]))\n",
    "            X1[0] = np.clip(X1[0], 0.0000001, 300)\n",
    "            if X1[1] < 0:\n",
    "                X1[1] = -X1[1]\n",
    "            #else:\n",
    "            #    X1[1] = np.clip(X1[1], 0.001, 100)\n",
    "            fit_X1 = get_fitness(X1, X_train, Y_train)\n",
    "            \n",
    "            # the moth is replaced only if its fitness is less than the new one\n",
    "            if fit_X1 > pop.iloc[i, 1]:  ### line from mealpy inverted for maximisation\n",
    "                pop.iloc[i, 0] = X1.copy()\n",
    "                pop.iloc[i, 1] = fit_X1\n",
    "        \n",
    "        # replacing worst moth with the best one\n",
    "        # this was implemented in mealpy\n",
    "        pop.iloc[0, 0] = bestLocation\n",
    "        pop.iloc[0, 1] = bestFitness\n",
    "        \n",
    "        # sorting newly updated  population\n",
    "        pop = pop.sort_values('fitness', ignore_index = True)\n",
    "        # best location from the updated population\n",
    "        current_bestLocation = pop.iloc[N-1, 0]\n",
    "        current_bestFitness = pop.iloc[N-1, 1]\n",
    "        \n",
    "        # replacing the previous best moth with new one only if its fitness is less than new one\n",
    "        if bestFitness < current_bestFitness:\n",
    "            bestLocation = current_bestLocation\n",
    "            bestFitness = current_bestFitness\n",
    "        \n",
    "        convergence_curve[t] = bestFitness\n",
    "                    \n",
    "        if (t%1==0):\n",
    "               print(f'At iteration {t} the best fitness is {bestFitness} and the best location is {bestLocation}')\n",
    "    \n",
    "    print(f'Best location is {bestLocation}')\n",
    "    print(f'Best fitness is {bestFitness}')\n",
    "\n",
    "    return convergence_curve, bestFitness, bestLocation"
   ]
  },
  {
   "cell_type": "code",
   "execution_count": 15,
   "metadata": {},
   "outputs": [
    {
     "name": "stdout",
     "output_type": "stream",
     "text": [
      "At iteration 0 the best fitness is 0.8800000000000001 and the best location is [291.49720885   1.53144576]\n",
      "At iteration 1 the best fitness is 0.8800000000000001 and the best location is [291.49720885   1.53144576]\n",
      "At iteration 2 the best fitness is 0.8800000000000001 and the best location is [291.49720885   1.53144576]\n",
      "At iteration 3 the best fitness is 0.8800000000000001 and the best location is [291.49720885   1.53144576]\n",
      "At iteration 4 the best fitness is 0.8800000000000001 and the best location is [291.49720885   1.53144576]\n",
      "At iteration 5 the best fitness is 0.8800000000000001 and the best location is [291.49720885   1.53144576]\n",
      "At iteration 6 the best fitness is 0.8800000000000001 and the best location is [291.49720885   1.53144576]\n",
      "At iteration 7 the best fitness is 0.8800000000000001 and the best location is [291.49720885   1.53144576]\n",
      "At iteration 8 the best fitness is 0.8800000000000001 and the best location is [291.49720885   1.53144576]\n",
      "At iteration 9 the best fitness is 0.8800000000000001 and the best location is [291.49720885   1.53144576]\n",
      "At iteration 10 the best fitness is 0.8880000000000001 and the best location is [300.           0.39375468]\n",
      "At iteration 11 the best fitness is 0.8880000000000001 and the best location is [300.           0.39375468]\n",
      "At iteration 12 the best fitness is 0.8880000000000001 and the best location is [300.           0.39375468]\n",
      "At iteration 13 the best fitness is 0.8880000000000001 and the best location is [300.           0.39375468]\n",
      "At iteration 14 the best fitness is 0.8960000000000001 and the best location is [300.           0.83705162]\n",
      "At iteration 15 the best fitness is 0.8960000000000001 and the best location is [300.           0.83705162]\n",
      "At iteration 16 the best fitness is 0.9 and the best location is [300.           0.91254052]\n",
      "At iteration 17 the best fitness is 0.9120000000000001 and the best location is [3.00000000e+02 2.76917424e-02]\n",
      "At iteration 18 the best fitness is 0.9120000000000001 and the best location is [3.00000000e+02 2.76917424e-02]\n",
      "At iteration 19 the best fitness is 0.9359999999999999 and the best location is [3.00000000e+02 1.64861236e-02]\n",
      "At iteration 20 the best fitness is 0.9359999999999999 and the best location is [3.00000000e+02 1.64861236e-02]\n",
      "At iteration 21 the best fitness is 0.9359999999999999 and the best location is [3.00000000e+02 1.64861236e-02]\n",
      "At iteration 22 the best fitness is 0.9359999999999999 and the best location is [3.00000000e+02 1.64861236e-02]\n",
      "At iteration 23 the best fitness is 0.9359999999999999 and the best location is [3.00000000e+02 1.64861236e-02]\n",
      "At iteration 24 the best fitness is 0.9359999999999999 and the best location is [3.00000000e+02 1.64861236e-02]\n",
      "At iteration 25 the best fitness is 0.9359999999999999 and the best location is [3.00000000e+02 1.64861236e-02]\n",
      "At iteration 26 the best fitness is 0.9359999999999999 and the best location is [3.00000000e+02 1.64861236e-02]\n",
      "At iteration 27 the best fitness is 0.9359999999999999 and the best location is [3.00000000e+02 1.64861236e-02]\n",
      "At iteration 28 the best fitness is 0.9359999999999999 and the best location is [3.00000000e+02 1.64861236e-02]\n",
      "At iteration 29 the best fitness is 0.9400000000000001 and the best location is [3.00000000e+02 8.21011606e-03]\n",
      "At iteration 30 the best fitness is 0.9480000000000001 and the best location is [3.00000000e+02 5.07901663e-03]\n",
      "At iteration 31 the best fitness is 0.9480000000000001 and the best location is [3.00000000e+02 5.07901663e-03]\n",
      "At iteration 32 the best fitness is 0.9480000000000001 and the best location is [3.00000000e+02 5.07901663e-03]\n",
      "At iteration 33 the best fitness is 0.9480000000000001 and the best location is [3.00000000e+02 5.07901663e-03]\n",
      "At iteration 34 the best fitness is 0.9480000000000001 and the best location is [3.00000000e+02 5.07901663e-03]\n",
      "At iteration 35 the best fitness is 0.9480000000000001 and the best location is [3.00000000e+02 5.07901663e-03]\n",
      "At iteration 36 the best fitness is 0.9480000000000001 and the best location is [3.00000000e+02 5.07901663e-03]\n",
      "At iteration 37 the best fitness is 0.9480000000000001 and the best location is [3.00000000e+02 5.07901663e-03]\n",
      "At iteration 38 the best fitness is 0.9480000000000001 and the best location is [3.00000000e+02 5.07901663e-03]\n",
      "At iteration 39 the best fitness is 0.9480000000000001 and the best location is [3.00000000e+02 5.07901663e-03]\n",
      "At iteration 40 the best fitness is 0.9480000000000001 and the best location is [3.00000000e+02 5.07901663e-03]\n",
      "At iteration 41 the best fitness is 0.9480000000000001 and the best location is [3.00000000e+02 5.07901663e-03]\n",
      "At iteration 42 the best fitness is 0.9480000000000001 and the best location is [3.00000000e+02 5.07901663e-03]\n",
      "At iteration 43 the best fitness is 0.9480000000000001 and the best location is [3.00000000e+02 5.07901663e-03]\n",
      "At iteration 44 the best fitness is 0.9480000000000001 and the best location is [3.00000000e+02 5.07901663e-03]\n",
      "At iteration 45 the best fitness is 0.9480000000000001 and the best location is [3.00000000e+02 5.07901663e-03]\n",
      "At iteration 46 the best fitness is 0.9480000000000001 and the best location is [3.00000000e+02 5.07901663e-03]\n",
      "At iteration 47 the best fitness is 0.9480000000000001 and the best location is [3.00000000e+02 5.07901663e-03]\n",
      "At iteration 48 the best fitness is 0.9480000000000001 and the best location is [3.00000000e+02 5.07901663e-03]\n",
      "At iteration 49 the best fitness is 0.9480000000000001 and the best location is [3.00000000e+02 5.07901663e-03]\n",
      "Best location is [3.00000000e+02 5.07901663e-03]\n",
      "Best fitness is 0.9480000000000001\n"
     ]
    },
    {
     "data": {
      "text/plain": [
       "(array([0.88 , 0.88 , 0.88 , 0.88 , 0.88 , 0.88 , 0.88 , 0.88 , 0.88 ,\n",
       "        0.88 , 0.888, 0.888, 0.888, 0.888, 0.896, 0.896, 0.9  , 0.912,\n",
       "        0.912, 0.936, 0.936, 0.936, 0.936, 0.936, 0.936, 0.936, 0.936,\n",
       "        0.936, 0.936, 0.94 , 0.948, 0.948, 0.948, 0.948, 0.948, 0.948,\n",
       "        0.948, 0.948, 0.948, 0.948, 0.948, 0.948, 0.948, 0.948, 0.948,\n",
       "        0.948, 0.948, 0.948, 0.948, 0.948]),\n",
       " 0.9480000000000001,\n",
       " array([3.00000000e+02, 5.07901663e-03]))"
      ]
     },
     "execution_count": 15,
     "metadata": {},
     "output_type": "execute_result"
    }
   ],
   "source": [
    "N = 50 # number of hawks\n",
    "dim = 2\n",
    "T = 50 # number of iterations\n",
    "Smax = 0.5\n",
    "\n",
    "MSA_train(T, N, Smax, dim, X_train, Y_train)"
   ]
  },
  {
   "cell_type": "code",
   "execution_count": 16,
   "metadata": {
    "colab": {
     "base_uri": "https://localhost:8080/"
    },
    "id": "_MizLeBJ0CJJ",
    "outputId": "86a447e9-e29c-4bf8-8a7e-03c472ecc6ef"
   },
   "outputs": [
    {
     "name": "stdout",
     "output_type": "stream",
     "text": [
      "[LibSVM]The TESTING ACCURACY IS:-  0.9\n",
      "The TRAINING ACCURACY IS:-  0.968\n"
     ]
    }
   ],
   "source": [
    "from sklearn.svm import SVC\n",
    "from sklearn.metrics import accuracy_score\n",
    "\n",
    "######### N=50, Smax=0.1\n",
    "# C=300 gamma=0.0105767561 --> 10fold=94.4, training=97.2, testing=94, misclass_train=2.8%, misclass_test=6%\n",
    "# C=300 gamma=0.009146268  --> 10fold=94.4, training=96.8, testing=92, misclass_train=3.2%, misclass_test=8%\n",
    "# C=300 gamma=0.00491477312 --> 10fold=94.8, training=96.8, testing=90, misclass_train=3.2%, misclass_test=10%\n",
    "# C=300 gamma=0.00957350201 --> 10fold=94.8, training=96.8, testing=92, misclass_train=3.2%, misclass_test=8%\n",
    "\n",
    "######### N=50, Smax 0.5\n",
    "# C=300 gamma=0.00519543538 --> 10fold=94.8, training=96.8, testing=90\n",
    "\n",
    "\n",
    "######### N=50, Smax=0.75\n",
    "# C=300 gamma=8.79699634e-03 --> 10fold=94.4, training=96.8, testing=92\n",
    "# C=300 gamma=5.46827361e-03  --> 10fold=94.8, training=96.8, testing=90\n",
    "# C=300 gamma=5.13813576e-03 --> 10fold=94.8, training=96.8, testing=90\n",
    "\n",
    "######### N=100, Smax=0.1\n",
    "# C=4.99795924 gamma=0.100356 --> 10fold=95.2, training=96.8, testing=90\n",
    "# C=300 gamma=5.53272784e-03  --> 10fold=94.8, training=96.8, testing=90\n",
    "# C= gamma=0.00491477312 --> 10fold=94.8, training=96.8, testing=90\n",
    "# C= gamma=0.00957350201 --> 10fold=94.8, training=96.8, testing=92\n",
    "\n",
    "######### N=100, Smax=0.5\n",
    "# C=300 gamma=5.32959973e-03 --> 10fold=94.8, training=96.8, testing=90\n",
    "# C= gamma=0.009146268  --> 10fold=94.4, training=96.8, testing=92\n",
    "# C= gamma=0.00491477312 --> 10fold=94.8, training=96.8, testing=90\n",
    "# C= gamma=0.00957350201 --> 10fold=94.8, training=96.8, testing=92\n",
    "\n",
    "clf = SVC(kernel = 'rbf', C = 300, gamma = 5.07901663e-03, verbose = 1)\n",
    "clf.fit(X_train, Y_train)\n",
    "\n",
    "test_predicted_output = clf.predict(X_test)\n",
    "train_predicted_output = clf.predict(X_train)\n",
    "\n",
    "testing_accuracy = accuracy_score(Y_test, test_predicted_output)\n",
    "training_accuracy = accuracy_score(Y_train, train_predicted_output)\n",
    "\n",
    "print(\"The TESTING ACCURACY IS:- \", testing_accuracy)\n",
    "print('The TRAINING ACCURACY IS:- ', training_accuracy)"
   ]
  },
  {
   "cell_type": "code",
   "execution_count": 12,
   "metadata": {
    "id": "veOChb1V0CMR"
   },
   "outputs": [],
   "source": [
    "def plot_confusion_matrix(test_y, predict_y):\n",
    "    C = confusion_matrix(test_y, predict_y)\n",
    "  \n",
    "    print(\"Number of misclassified points \",(len(test_y)-np.trace(C))/len(test_y)*100, '%')\n",
    "\n",
    " \n",
    "    labels = [0,1,2,3,4,5]\n",
    "    cmap=sns.light_palette(\"green\")\n",
    "  \n",
    "    '''\n",
    "    CONFUSION MATRIX\n",
    "    '''\n",
    "    print(\"-\"*50, \"Confusion matrix\", \"-\"*50)\n",
    "    plt.figure(figsize=(10,5))\n",
    "    sns.heatmap(C, annot=True, cmap=cmap, fmt=\".3f\", xticklabels=labels, yticklabels=labels)\n",
    "    plt.xlabel('Predicted Class')\n",
    "    plt.ylabel('Original Class')\n",
    "    plt.show()"
   ]
  },
  {
   "cell_type": "code",
   "execution_count": 13,
   "metadata": {
    "colab": {
     "base_uri": "https://localhost:8080/",
     "height": 368
    },
    "id": "lg4QPYqXqQVd",
    "outputId": "ca18da93-5f98-48f1-b268-b2df6f7e995d"
   },
   "outputs": [
    {
     "name": "stdout",
     "output_type": "stream",
     "text": [
      "Number of misclassified points  3.2 %\n",
      "-------------------------------------------------- Confusion matrix --------------------------------------------------\n"
     ]
    },
    {
     "data": {
      "image/png": "[encoded data removed]",
      "text/plain": [
       "<Figure size 720x360 with 2 Axes>"
      ]
     },
     "metadata": {
      "needs_background": "light"
     },
     "output_type": "display_data"
    }
   ],
   "source": [
    "'''\n",
    "FOR TRAINING DATA POINTS\n",
    "'''\n",
    "plot_confusion_matrix(Y_train, train_predicted_output)"
   ]
  },
  {
   "cell_type": "code",
   "execution_count": 14,
   "metadata": {
    "colab": {
     "base_uri": "https://localhost:8080/",
     "height": 372
    },
    "id": "-2h70sGo09oK",
    "outputId": "eb70dc42-524c-4f8a-f596-7fec8a3e2e4d"
   },
   "outputs": [
    {
     "name": "stdout",
     "output_type": "stream",
     "text": [
      "Number of misclassified points  8.0 %\n",
      "-------------------------------------------------- Confusion matrix --------------------------------------------------\n"
     ]
    },
    {
     "data": {
      "image/png": "[encoded data removed]",
      "text/plain": [
       "<Figure size 720x360 with 2 Axes>"
      ]
     },
     "metadata": {
      "needs_background": "light"
     },
     "output_type": "display_data"
    }
   ],
   "source": [
    "'''\n",
    "FOR TESTING DATA POINTS\n",
    "'''\n",
    "plot_confusion_matrix(Y_test, test_predicted_output)"
   ]
  },
  {
   "cell_type": "code",
   "execution_count": null,
   "metadata": {},
   "outputs": [],
   "source": []
  }
 ],
 "metadata": {
  "colab": {
   "collapsed_sections": [],
   "name": "Elephant Herding Optimization with Actual Data.ipynb",
   "provenance": []
  },
  "kernelspec": {
   "display_name": "Python 3",
   "language": "python",
   "name": "python3"
  },
  "language_info": {
   "codemirror_mode": {
    "name": "ipython",
    "version": 3
   },
   "file_extension": ".py",
   "mimetype": "text/x-python",
   "name": "python",
   "nbconvert_exporter": "python",
   "pygments_lexer": "ipython3",
   "version": "3.8.3"
  }
 },
 "nbformat": 4,
 "nbformat_minor": 1
}
