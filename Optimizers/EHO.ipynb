{
 "cells": [
  {
   "cell_type": "code",
   "execution_count": 2,
   "metadata": {
    "id": "SJFGHkZGKNs9"
   },
   "outputs": [],
   "source": [
    "import numpy as np\n",
    "import pandas as pd\n",
    "import matplotlib.pyplot as plt\n",
    "import seaborn as sns"
   ]
  },
  {
   "cell_type": "code",
   "execution_count": 3,
   "metadata": {
    "colab": {
     "base_uri": "https://localhost:8080/",
     "height": 237
    },
    "id": "ivtBPR52oajw",
    "outputId": "9cda3cac-c05e-4994-ed9b-32e05bba257e"
   },
   "outputs": [
    {
     "name": "stdout",
     "output_type": "stream",
     "text": [
      "(300, 18)\n"
     ]
    },
    {
     "data": {
      "text/html": [
       "<div>\n",
       "<style scoped>\n",
       "    .dataframe tbody tr th:only-of-type {\n",
       "        vertical-align: middle;\n",
       "    }\n",
       "\n",
       "    .dataframe tbody tr th {\n",
       "        vertical-align: top;\n",
       "    }\n",
       "\n",
       "    .dataframe thead th {\n",
       "        text-align: right;\n",
       "    }\n",
       "</style>\n",
       "<table border=\"1\" class=\"dataframe\">\n",
       "  <thead>\n",
       "    <tr style=\"text-align: right;\">\n",
       "      <th></th>\n",
       "      <th>Mean</th>\n",
       "      <th>SD</th>\n",
       "      <th>Variance</th>\n",
       "      <th>Kurtosis</th>\n",
       "      <th>Median</th>\n",
       "      <th>Mode</th>\n",
       "      <th>sum</th>\n",
       "      <th>Skewness</th>\n",
       "      <th>max</th>\n",
       "      <th>min</th>\n",
       "      <th>range</th>\n",
       "      <th>RMS</th>\n",
       "      <th>Impulse Factor</th>\n",
       "      <th>Shape factor</th>\n",
       "      <th>k factor</th>\n",
       "      <th>Std error</th>\n",
       "      <th>count</th>\n",
       "      <th>condition</th>\n",
       "    </tr>\n",
       "  </thead>\n",
       "  <tbody>\n",
       "    <tr>\n",
       "      <th>0</th>\n",
       "      <td>0.012772</td>\n",
       "      <td>0.437381</td>\n",
       "      <td>0.191302</td>\n",
       "      <td>5.342062</td>\n",
       "      <td>0.014769</td>\n",
       "      <td>-0.008984</td>\n",
       "      <td>153.258346</td>\n",
       "      <td>0.032538</td>\n",
       "      <td>4.004789</td>\n",
       "      <td>-2.741048</td>\n",
       "      <td>6.745836</td>\n",
       "      <td>0.003993</td>\n",
       "      <td>0.437549</td>\n",
       "      <td>313.571589</td>\n",
       "      <td>34.259759</td>\n",
       "      <td>1.752293</td>\n",
       "      <td>12000</td>\n",
       "      <td>A</td>\n",
       "    </tr>\n",
       "    <tr>\n",
       "      <th>1</th>\n",
       "      <td>0.014417</td>\n",
       "      <td>0.418080</td>\n",
       "      <td>0.174791</td>\n",
       "      <td>4.385488</td>\n",
       "      <td>0.018220</td>\n",
       "      <td>0.094777</td>\n",
       "      <td>173.007315</td>\n",
       "      <td>0.032495</td>\n",
       "      <td>2.631105</td>\n",
       "      <td>-2.109695</td>\n",
       "      <td>4.740800</td>\n",
       "      <td>0.003817</td>\n",
       "      <td>0.418311</td>\n",
       "      <td>182.496682</td>\n",
       "      <td>29.014552</td>\n",
       "      <td>1.100620</td>\n",
       "      <td>12000</td>\n",
       "      <td>A</td>\n",
       "    </tr>\n",
       "    <tr>\n",
       "      <th>2</th>\n",
       "      <td>0.014378</td>\n",
       "      <td>0.431913</td>\n",
       "      <td>0.186549</td>\n",
       "      <td>5.562181</td>\n",
       "      <td>0.015721</td>\n",
       "      <td>0.045721</td>\n",
       "      <td>172.537400</td>\n",
       "      <td>0.114481</td>\n",
       "      <td>4.449711</td>\n",
       "      <td>-2.172830</td>\n",
       "      <td>6.622541</td>\n",
       "      <td>0.003943</td>\n",
       "      <td>0.432134</td>\n",
       "      <td>309.478007</td>\n",
       "      <td>30.055013</td>\n",
       "      <td>1.922873</td>\n",
       "      <td>12000</td>\n",
       "      <td>A</td>\n",
       "    </tr>\n",
       "    <tr>\n",
       "      <th>3</th>\n",
       "      <td>0.013630</td>\n",
       "      <td>0.427076</td>\n",
       "      <td>0.182394</td>\n",
       "      <td>4.709016</td>\n",
       "      <td>0.021047</td>\n",
       "      <td>0.052514</td>\n",
       "      <td>163.556063</td>\n",
       "      <td>-0.039930</td>\n",
       "      <td>2.915184</td>\n",
       "      <td>-2.337422</td>\n",
       "      <td>5.252606</td>\n",
       "      <td>0.003899</td>\n",
       "      <td>0.427276</td>\n",
       "      <td>213.885129</td>\n",
       "      <td>31.348952</td>\n",
       "      <td>1.245588</td>\n",
       "      <td>12000</td>\n",
       "      <td>A</td>\n",
       "    </tr>\n",
       "    <tr>\n",
       "      <th>4</th>\n",
       "      <td>0.012050</td>\n",
       "      <td>0.422334</td>\n",
       "      <td>0.178366</td>\n",
       "      <td>4.681749</td>\n",
       "      <td>0.016703</td>\n",
       "      <td>0.086143</td>\n",
       "      <td>144.594708</td>\n",
       "      <td>-0.096269</td>\n",
       "      <td>2.863474</td>\n",
       "      <td>-2.747296</td>\n",
       "      <td>5.610770</td>\n",
       "      <td>0.003855</td>\n",
       "      <td>0.422488</td>\n",
       "      <td>237.641385</td>\n",
       "      <td>35.062540</td>\n",
       "      <td>1.209784</td>\n",
       "      <td>12000</td>\n",
       "      <td>A</td>\n",
       "    </tr>\n",
       "  </tbody>\n",
       "</table>\n",
       "</div>"
      ],
      "text/plain": [
       "      Mean         SD  Variance  ...  Std error  count  condition \n",
       "0  0.012772  0.437381  0.191302  ...   1.752293  12000           A\n",
       "1  0.014417  0.418080  0.174791  ...   1.100620  12000           A\n",
       "2  0.014378  0.431913  0.186549  ...   1.922873  12000           A\n",
       "3  0.013630  0.427076  0.182394  ...   1.245588  12000           A\n",
       "4  0.012050  0.422334  0.178366  ...   1.209784  12000           A\n",
       "\n",
       "[5 rows x 18 columns]"
      ]
     },
     "execution_count": 3,
     "metadata": {
      "tags": []
     },
     "output_type": "execute_result"
    }
   ],
   "source": [
    "# to import the stored data\n",
    "data = pd.read_csv(r'/content/drive/MyDrive/Research Paper/DATA/REV_Right.csv')\n",
    "\n",
    "print(data.shape)\n",
    "\n",
    "data.head()"
   ]
  },
  {
   "cell_type": "code",
   "execution_count": 4,
   "metadata": {
    "colab": {
     "base_uri": "https://localhost:8080/"
    },
    "id": "LDOpgChtphOB",
    "outputId": "80c4de70-bb6e-4fd1-a4b9-302615db574f"
   },
   "outputs": [
    {
     "data": {
      "text/plain": [
       "F    50\n",
       "A    50\n",
       "B    50\n",
       "D    50\n",
       "C    50\n",
       "E    50\n",
       "Name: condition , dtype: int64"
      ]
     },
     "execution_count": 4,
     "metadata": {
      "tags": []
     },
     "output_type": "execute_result"
    }
   ],
   "source": [
    "# to check the data imbalance\n",
    "data['condition '].value_counts()"
   ]
  },
  {
   "cell_type": "markdown",
   "metadata": {
    "id": "eybA6SVVpqOR"
   },
   "source": [
    "**The above cell tells us that the data is BALANCED and we have total 6 classes i.e. [A,B,C,D,E,,F]**"
   ]
  },
  {
   "cell_type": "markdown",
   "metadata": {
    "id": "Cga5bed67x9k"
   },
   "source": [
    "# DATA PREPROCESSING"
   ]
  },
  {
   "cell_type": "code",
   "execution_count": 5,
   "metadata": {
    "colab": {
     "base_uri": "https://localhost:8080/",
     "height": 603
    },
    "id": "PofYFfk_7rTC",
    "outputId": "55cd4130-3fe8-4eba-fe64-524d3fed697c"
   },
   "outputs": [
    {
     "data": {
      "text/html": [
       "<div>\n",
       "<style scoped>\n",
       "    .dataframe tbody tr th:only-of-type {\n",
       "        vertical-align: middle;\n",
       "    }\n",
       "\n",
       "    .dataframe tbody tr th {\n",
       "        vertical-align: top;\n",
       "    }\n",
       "\n",
       "    .dataframe thead th {\n",
       "        text-align: right;\n",
       "    }\n",
       "</style>\n",
       "<table border=\"1\" class=\"dataframe\">\n",
       "  <thead>\n",
       "    <tr style=\"text-align: right;\">\n",
       "      <th></th>\n",
       "      <th>Column_name</th>\n",
       "      <th>Count</th>\n",
       "    </tr>\n",
       "  </thead>\n",
       "  <tbody>\n",
       "    <tr>\n",
       "      <th>0</th>\n",
       "      <td>Mean</td>\n",
       "      <td>0</td>\n",
       "    </tr>\n",
       "    <tr>\n",
       "      <th>1</th>\n",
       "      <td>SD</td>\n",
       "      <td>0</td>\n",
       "    </tr>\n",
       "    <tr>\n",
       "      <th>2</th>\n",
       "      <td>Variance</td>\n",
       "      <td>0</td>\n",
       "    </tr>\n",
       "    <tr>\n",
       "      <th>3</th>\n",
       "      <td>Kurtosis</td>\n",
       "      <td>0</td>\n",
       "    </tr>\n",
       "    <tr>\n",
       "      <th>4</th>\n",
       "      <td>Median</td>\n",
       "      <td>0</td>\n",
       "    </tr>\n",
       "    <tr>\n",
       "      <th>5</th>\n",
       "      <td>Mode</td>\n",
       "      <td>0</td>\n",
       "    </tr>\n",
       "    <tr>\n",
       "      <th>6</th>\n",
       "      <td>sum</td>\n",
       "      <td>0</td>\n",
       "    </tr>\n",
       "    <tr>\n",
       "      <th>7</th>\n",
       "      <td>Skewness</td>\n",
       "      <td>0</td>\n",
       "    </tr>\n",
       "    <tr>\n",
       "      <th>8</th>\n",
       "      <td>max</td>\n",
       "      <td>0</td>\n",
       "    </tr>\n",
       "    <tr>\n",
       "      <th>9</th>\n",
       "      <td>min</td>\n",
       "      <td>0</td>\n",
       "    </tr>\n",
       "    <tr>\n",
       "      <th>10</th>\n",
       "      <td>range</td>\n",
       "      <td>0</td>\n",
       "    </tr>\n",
       "    <tr>\n",
       "      <th>11</th>\n",
       "      <td>RMS</td>\n",
       "      <td>0</td>\n",
       "    </tr>\n",
       "    <tr>\n",
       "      <th>12</th>\n",
       "      <td>Impulse Factor</td>\n",
       "      <td>0</td>\n",
       "    </tr>\n",
       "    <tr>\n",
       "      <th>13</th>\n",
       "      <td>Shape factor</td>\n",
       "      <td>0</td>\n",
       "    </tr>\n",
       "    <tr>\n",
       "      <th>14</th>\n",
       "      <td>k factor</td>\n",
       "      <td>0</td>\n",
       "    </tr>\n",
       "    <tr>\n",
       "      <th>15</th>\n",
       "      <td>Std error</td>\n",
       "      <td>0</td>\n",
       "    </tr>\n",
       "    <tr>\n",
       "      <th>16</th>\n",
       "      <td>count</td>\n",
       "      <td>0</td>\n",
       "    </tr>\n",
       "    <tr>\n",
       "      <th>17</th>\n",
       "      <td>condition</td>\n",
       "      <td>0</td>\n",
       "    </tr>\n",
       "  </tbody>\n",
       "</table>\n",
       "</div>"
      ],
      "text/plain": [
       "        Column_name  Count\n",
       "0             Mean       0\n",
       "1                SD      0\n",
       "2          Variance      0\n",
       "3          Kurtosis      0\n",
       "4            Median      0\n",
       "5              Mode      0\n",
       "6               sum      0\n",
       "7         Skewness       0\n",
       "8               max      0\n",
       "9               min      0\n",
       "10            range      0\n",
       "11              RMS      0\n",
       "12   Impulse Factor      0\n",
       "13     Shape factor      0\n",
       "14         k factor      0\n",
       "15        Std error      0\n",
       "16            count      0\n",
       "17       condition       0"
      ]
     },
     "execution_count": 5,
     "metadata": {
      "tags": []
     },
     "output_type": "execute_result"
    }
   ],
   "source": [
    "# to check whether the data has any NAN values\n",
    "\n",
    "null_count_per_column = data.isna().sum().reset_index()\n",
    "\n",
    "null_count_per_column.columns = ['Column_name', \"Count\"]\n",
    "\n",
    "null_count_per_column"
   ]
  },
  {
   "cell_type": "markdown",
   "metadata": {
    "id": "nn-kmjmp9hJZ"
   },
   "source": [
    "**So we have NO NULL VALUES**"
   ]
  },
  {
   "cell_type": "code",
   "execution_count": 6,
   "metadata": {
    "colab": {
     "base_uri": "https://localhost:8080/",
     "height": 332
    },
    "id": "mRhZ4Yn17rWA",
    "outputId": "36ea02d9-042f-4f8a-baa5-256e66a7659a"
   },
   "outputs": [
    {
     "data": {
      "text/html": [
       "<div>\n",
       "<style scoped>\n",
       "    .dataframe tbody tr th:only-of-type {\n",
       "        vertical-align: middle;\n",
       "    }\n",
       "\n",
       "    .dataframe tbody tr th {\n",
       "        vertical-align: top;\n",
       "    }\n",
       "\n",
       "    .dataframe thead th {\n",
       "        text-align: right;\n",
       "    }\n",
       "</style>\n",
       "<table border=\"1\" class=\"dataframe\">\n",
       "  <thead>\n",
       "    <tr style=\"text-align: right;\">\n",
       "      <th></th>\n",
       "      <th>Mean</th>\n",
       "      <th>SD</th>\n",
       "      <th>Variance</th>\n",
       "      <th>Kurtosis</th>\n",
       "      <th>Median</th>\n",
       "      <th>Mode</th>\n",
       "      <th>sum</th>\n",
       "      <th>Skewness</th>\n",
       "      <th>max</th>\n",
       "      <th>min</th>\n",
       "      <th>range</th>\n",
       "      <th>RMS</th>\n",
       "      <th>Impulse Factor</th>\n",
       "      <th>Shape factor</th>\n",
       "      <th>k factor</th>\n",
       "      <th>Std error</th>\n",
       "      <th>count</th>\n",
       "    </tr>\n",
       "  </thead>\n",
       "  <tbody>\n",
       "    <tr>\n",
       "      <th>count</th>\n",
       "      <td>300.000000</td>\n",
       "      <td>300.000000</td>\n",
       "      <td>300.000000</td>\n",
       "      <td>300.000000</td>\n",
       "      <td>300.000000</td>\n",
       "      <td>300.000000</td>\n",
       "      <td>300.000000</td>\n",
       "      <td>300.000000</td>\n",
       "      <td>300.000000</td>\n",
       "      <td>300.000000</td>\n",
       "      <td>300.000000</td>\n",
       "      <td>300.000000</td>\n",
       "      <td>300.000000</td>\n",
       "      <td>300.000000</td>\n",
       "      <td>300.000000</td>\n",
       "      <td>300.000000</td>\n",
       "      <td>300.0</td>\n",
       "    </tr>\n",
       "    <tr>\n",
       "      <th>mean</th>\n",
       "      <td>0.011943</td>\n",
       "      <td>0.480069</td>\n",
       "      <td>0.240004</td>\n",
       "      <td>9.717797</td>\n",
       "      <td>0.012907</td>\n",
       "      <td>0.012471</td>\n",
       "      <td>143.317737</td>\n",
       "      <td>0.194175</td>\n",
       "      <td>4.518174</td>\n",
       "      <td>-3.601774</td>\n",
       "      <td>8.119948</td>\n",
       "      <td>0.409757</td>\n",
       "      <td>343.631531</td>\n",
       "      <td>79.472326</td>\n",
       "      <td>7.312935</td>\n",
       "      <td>0.250165</td>\n",
       "      <td>12000.0</td>\n",
       "    </tr>\n",
       "    <tr>\n",
       "      <th>std</th>\n",
       "      <td>0.002398</td>\n",
       "      <td>0.097822</td>\n",
       "      <td>0.107697</td>\n",
       "      <td>5.932031</td>\n",
       "      <td>0.003821</td>\n",
       "      <td>0.054514</td>\n",
       "      <td>28.773851</td>\n",
       "      <td>0.263950</td>\n",
       "      <td>1.666549</td>\n",
       "      <td>1.388466</td>\n",
       "      <td>2.914601</td>\n",
       "      <td>0.204951</td>\n",
       "      <td>203.849575</td>\n",
       "      <td>83.153513</td>\n",
       "      <td>11.075831</td>\n",
       "      <td>0.560553</td>\n",
       "      <td>0.0</td>\n",
       "    </tr>\n",
       "    <tr>\n",
       "      <th>min</th>\n",
       "      <td>0.005737</td>\n",
       "      <td>0.362894</td>\n",
       "      <td>0.131692</td>\n",
       "      <td>3.224990</td>\n",
       "      <td>0.003136</td>\n",
       "      <td>-0.134419</td>\n",
       "      <td>68.847354</td>\n",
       "      <td>-0.289862</td>\n",
       "      <td>1.380955</td>\n",
       "      <td>-7.757596</td>\n",
       "      <td>2.886788</td>\n",
       "      <td>0.003624</td>\n",
       "      <td>0.397132</td>\n",
       "      <td>20.742209</td>\n",
       "      <td>0.514370</td>\n",
       "      <td>0.003313</td>\n",
       "      <td>12000.0</td>\n",
       "    </tr>\n",
       "    <tr>\n",
       "      <th>25%</th>\n",
       "      <td>0.010375</td>\n",
       "      <td>0.410313</td>\n",
       "      <td>0.168357</td>\n",
       "      <td>4.618729</td>\n",
       "      <td>0.010209</td>\n",
       "      <td>-0.024159</td>\n",
       "      <td>124.497662</td>\n",
       "      <td>0.016784</td>\n",
       "      <td>3.238507</td>\n",
       "      <td>-4.655651</td>\n",
       "      <td>5.600103</td>\n",
       "      <td>0.396375</td>\n",
       "      <td>213.192309</td>\n",
       "      <td>37.310513</td>\n",
       "      <td>1.601732</td>\n",
       "      <td>0.003765</td>\n",
       "      <td>12000.0</td>\n",
       "    </tr>\n",
       "    <tr>\n",
       "      <th>50%</th>\n",
       "      <td>0.011695</td>\n",
       "      <td>0.438244</td>\n",
       "      <td>0.192058</td>\n",
       "      <td>7.723986</td>\n",
       "      <td>0.012939</td>\n",
       "      <td>0.012127</td>\n",
       "      <td>140.334742</td>\n",
       "      <td>0.122307</td>\n",
       "      <td>4.372383</td>\n",
       "      <td>-3.507954</td>\n",
       "      <td>8.109345</td>\n",
       "      <td>0.432514</td>\n",
       "      <td>376.170448</td>\n",
       "      <td>43.967744</td>\n",
       "      <td>2.612502</td>\n",
       "      <td>0.004429</td>\n",
       "      <td>12000.0</td>\n",
       "    </tr>\n",
       "    <tr>\n",
       "      <th>75%</th>\n",
       "      <td>0.013627</td>\n",
       "      <td>0.539621</td>\n",
       "      <td>0.291192</td>\n",
       "      <td>14.081282</td>\n",
       "      <td>0.015416</td>\n",
       "      <td>0.050667</td>\n",
       "      <td>163.526206</td>\n",
       "      <td>0.381310</td>\n",
       "      <td>5.701736</td>\n",
       "      <td>-2.377782</td>\n",
       "      <td>10.369079</td>\n",
       "      <td>0.539704</td>\n",
       "      <td>495.153857</td>\n",
       "      <td>62.770352</td>\n",
       "      <td>4.140746</td>\n",
       "      <td>0.005767</td>\n",
       "      <td>12000.0</td>\n",
       "    </tr>\n",
       "    <tr>\n",
       "      <th>max</th>\n",
       "      <td>0.019851</td>\n",
       "      <td>0.876043</td>\n",
       "      <td>0.767451</td>\n",
       "      <td>31.345290</td>\n",
       "      <td>0.023963</td>\n",
       "      <td>0.160339</td>\n",
       "      <td>238.215835</td>\n",
       "      <td>1.422589</td>\n",
       "      <td>9.290301</td>\n",
       "      <td>-1.460847</td>\n",
       "      <td>16.855100</td>\n",
       "      <td>0.876093</td>\n",
       "      <td>801.253904</td>\n",
       "      <td>424.848918</td>\n",
       "      <td>39.744871</td>\n",
       "      <td>2.057474</td>\n",
       "      <td>12000.0</td>\n",
       "    </tr>\n",
       "  </tbody>\n",
       "</table>\n",
       "</div>"
      ],
      "text/plain": [
       "            Mean           SD    Variance  ...    k factor   Std error    count\n",
       "count  300.000000  300.000000  300.000000  ...  300.000000  300.000000    300.0\n",
       "mean     0.011943    0.480069    0.240004  ...    7.312935    0.250165  12000.0\n",
       "std      0.002398    0.097822    0.107697  ...   11.075831    0.560553      0.0\n",
       "min      0.005737    0.362894    0.131692  ...    0.514370    0.003313  12000.0\n",
       "25%      0.010375    0.410313    0.168357  ...    1.601732    0.003765  12000.0\n",
       "50%      0.011695    0.438244    0.192058  ...    2.612502    0.004429  12000.0\n",
       "75%      0.013627    0.539621    0.291192  ...    4.140746    0.005767  12000.0\n",
       "max      0.019851    0.876043    0.767451  ...   39.744871    2.057474  12000.0\n",
       "\n",
       "[8 rows x 17 columns]"
      ]
     },
     "execution_count": 6,
     "metadata": {
      "tags": []
     },
     "output_type": "execute_result"
    }
   ],
   "source": [
    "data.describe()"
   ]
  },
  {
   "cell_type": "code",
   "execution_count": 7,
   "metadata": {
    "colab": {
     "base_uri": "https://localhost:8080/"
    },
    "id": "XvmAlm_H7rYi",
    "outputId": "d5a1d557-9364-4ea5-be61-c23cd30e43ca"
   },
   "outputs": [
    {
     "name": "stdout",
     "output_type": "stream",
     "text": [
      "{'Mean ': 300, 'SD': 300, 'Variance': 300, 'Kurtosis': 300, 'Median': 231, 'Mode': 300, 'sum': 300, 'Skewness ': 300, 'max': 300, 'min': 300, 'range': 300, 'RMS': 297, ' Impulse Factor': 300, 'Shape factor': 300, 'k factor': 300, 'Std error': 283, 'count': 1, 'condition ': 6}\n"
     ]
    }
   ],
   "source": [
    "# to check the number of unique values in each column\n",
    "column_names = data.columns\n",
    "column_names = np.array(column_names)\n",
    "\n",
    "column_name_unique_value = dict()\n",
    "\n",
    "for name in column_names:\n",
    "\n",
    "  unique_values = len(pd.unique(data[name]))\n",
    "  column_name_unique_value[name] = unique_values\n",
    "\n",
    "print(column_name_unique_value)"
   ]
  },
  {
   "cell_type": "markdown",
   "metadata": {
    "id": "Snz-kph3_QCm"
   },
   "source": [
    "**From the above cell output, you can see that the \"COUNT\" column consists of a single value and hence it is of no use**"
   ]
  },
  {
   "cell_type": "code",
   "execution_count": 8,
   "metadata": {
    "id": "IQEZX-XC0Dfg"
   },
   "outputs": [],
   "source": [
    "def return_TSNE_data(data, labels):\n",
    "\n",
    "    from sklearn.manifold import TSNE\n",
    "\n",
    "    visualization_data = data\n",
    "\n",
    "    # the \"visualization_data_labels\" should be a numpy array and so the \"labels\" argument should also be a numpy array\n",
    "    visualization_data_labels = labels\n",
    "\n",
    "\n",
    "    # to convert the pandas df into numpy array in order to pass the data to the TSNE object\n",
    "    visualization_data = np.array(visualization_data)\n",
    "\n",
    "    tsne = TSNE(n_components=2, perplexity = 15, random_state=0, n_iter=2000, n_iter_without_progress=400, learning_rate = 200)\n",
    "\n",
    "    transformed_visualization_data = tsne.fit_transform(visualization_data)\n",
    "\n",
    "    # to combine the data\n",
    "    final_tsne_data = np.vstack((transformed_visualization_data.T, visualization_data_labels))\n",
    "\n",
    "    final_tsne_data = final_tsne_data.T\n",
    "\n",
    "    print(final_tsne_data.shape, type(final_tsne_data))\n",
    "\n",
    "\n",
    "    #final_tsne_data = np.reshape(final_tsne_data, newshape = (300,3))\n",
    "\n",
    "\n",
    "    # to convert it into dataframe\n",
    "    tsne_df = pd.DataFrame(data = final_tsne_data, columns=['dim_1', 'dim_2', 'labels'])\n",
    "\n",
    "    # return this \"tsne_df\" which can be then used to visualize the data\n",
    "    return tsne_df"
   ]
  },
  {
   "cell_type": "code",
   "execution_count": 9,
   "metadata": {
    "colab": {
     "base_uri": "https://localhost:8080/"
    },
    "id": "Oh1GZOXy0Dhu",
    "outputId": "071bb4d0-c81d-45ba-b426-8b290b471031"
   },
   "outputs": [
    {
     "name": "stdout",
     "output_type": "stream",
     "text": [
      "<class 'numpy.ndarray'> (300,)\n"
     ]
    }
   ],
   "source": [
    "labels = data['condition ']\n",
    "\n",
    "from sklearn.preprocessing import LabelEncoder\n",
    "\n",
    "encoder = LabelEncoder()\n",
    "\n",
    "labels = encoder.fit_transform(labels)\n",
    "\n",
    "print(type(labels), labels.shape)"
   ]
  },
  {
   "cell_type": "code",
   "execution_count": 10,
   "metadata": {
    "colab": {
     "base_uri": "https://localhost:8080/",
     "height": 507
    },
    "id": "BCkeOlno7rw_",
    "outputId": "4d9c924b-e49a-464d-d855-d4784faaf002"
   },
   "outputs": [
    {
     "name": "stdout",
     "output_type": "stream",
     "text": [
      "(300, 3) <class 'numpy.ndarray'>\n"
     ]
    },
    {
     "name": "stderr",
     "output_type": "stream",
     "text": [
      "/usr/local/lib/python3.7/dist-packages/seaborn/axisgrid.py:316: UserWarning: The `size` parameter has been renamed to `height`; please update your code.\n",
      "  warnings.warn(msg, UserWarning)\n"
     ]
    },
    {
     "data": {
      "image/png": "[encoded data removed]",
      "text/plain": [
       "<Figure size 483.875x432 with 1 Axes>"
      ]
     },
     "metadata": {
      "needs_background": "light",
      "tags": []
     },
     "output_type": "display_data"
    }
   ],
   "source": [
    "temp_data = data.drop(['condition '], axis = 1)\n",
    "tsne_df = return_TSNE_data(temp_data, labels)\n",
    "\n",
    "sns.FacetGrid(tsne_df, hue='labels', size=6).map(plt.scatter, 'dim_1', 'dim_2').add_legend()\n",
    "plt.title('With Perplexity 5 and n_iter=1000')\n",
    "plt.show()"
   ]
  },
  {
   "cell_type": "markdown",
   "metadata": {
    "id": "JwHgnUg-n7Jl"
   },
   "source": [
    "**From the above figure, we can see that the 0th Class is only distinctively separable from others based on the data that we have collected. I ahve tried different combinations of TSNE parameters and only class A i.e. the 0th class shown above is distinctively separated from the total given classes**"
   ]
  },
  {
   "cell_type": "code",
   "execution_count": 11,
   "metadata": {
    "colab": {
     "base_uri": "https://localhost:8080/"
    },
    "id": "pnvF2JO8puTS",
    "outputId": "9bed1af7-0d7a-4caf-9987-6530afb9ea7f"
   },
   "outputs": [
    {
     "name": "stdout",
     "output_type": "stream",
     "text": [
      "<class 'pandas.core.frame.DataFrame'> <class 'pandas.core.series.Series'>\n",
      "(300, 17) (300,)\n"
     ]
    }
   ],
   "source": [
    "# now we will split the data into X and Y\n",
    "X = data.drop(['condition '], axis = 1)\n",
    "Y = data['condition ']\n",
    "\n",
    "print(type(X), type(Y))\n",
    "print(X.shape, Y.shape)"
   ]
  },
  {
   "cell_type": "code",
   "execution_count": 12,
   "metadata": {
    "colab": {
     "base_uri": "https://localhost:8080/"
    },
    "id": "FkM5RxIZxjw2",
    "outputId": "f6b7e58c-9bed-4978-ed0f-45ec01e75cf6"
   },
   "outputs": [
    {
     "data": {
      "text/plain": [
       "Index(['Mean ', 'SD', 'Variance', 'Kurtosis', 'Median', 'Mode', 'sum',\n",
       "       'Skewness ', 'max', 'min', 'range', 'RMS', ' Impulse Factor',\n",
       "       'Shape factor', 'k factor', 'Std error', 'count'],\n",
       "      dtype='object')"
      ]
     },
     "execution_count": 12,
     "metadata": {
      "tags": []
     },
     "output_type": "execute_result"
    }
   ],
   "source": [
    "X.columns"
   ]
  },
  {
   "cell_type": "code",
   "execution_count": 13,
   "metadata": {
    "colab": {
     "base_uri": "https://localhost:8080/"
    },
    "id": "juP6_gKL7UUn",
    "outputId": "9efa5128-9513-4f0c-80ed-7794eefa3017"
   },
   "outputs": [
    {
     "name": "stdout",
     "output_type": "stream",
     "text": [
      "(300, 16)\n"
     ]
    }
   ],
   "source": [
    "'''\n",
    "to remove the count column as it has a single value\n",
    "'''\n",
    "X = X.drop(['count'], axis = 1)\n",
    "print(X.shape)"
   ]
  },
  {
   "cell_type": "code",
   "execution_count": 14,
   "metadata": {
    "colab": {
     "base_uri": "https://localhost:8080/"
    },
    "id": "kI9z7LgTpuYB",
    "outputId": "e64ff24b-a1ba-49d3-87b0-0c2158a30b07"
   },
   "outputs": [
    {
     "name": "stdout",
     "output_type": "stream",
     "text": [
      "<class 'pandas.core.frame.DataFrame'> <class 'pandas.core.series.Series'>\n",
      "(250, 16) (50, 16)\n",
      "(250,) (50,)\n"
     ]
    }
   ],
   "source": [
    "# to split the data into train and test\n",
    "from sklearn.model_selection import train_test_split\n",
    "\n",
    "X_train, X_test, Y_train, Y_test = train_test_split(X, Y, test_size = 0.166, stratify = Y, random_state = 42)\n",
    "\n",
    "print(type(X_train), type(Y_train))\n",
    "print(X_train.shape, X_test.shape)\n",
    "print(Y_train.shape, Y_test.shape)"
   ]
  },
  {
   "cell_type": "code",
   "execution_count": 15,
   "metadata": {
    "colab": {
     "base_uri": "https://localhost:8080/"
    },
    "id": "j8HOM7L-p5xJ",
    "outputId": "729cedfa-f37a-4058-e6e5-5b1f71bb369c"
   },
   "outputs": [
    {
     "name": "stdout",
     "output_type": "stream",
     "text": [
      "<class 'numpy.ndarray'>\n",
      "[5 4 4 0 0 1 0 0 5 2 4 2 1 3 4 3 0 0 1 1 3 5 1 0 3 5 3 1 3 5 0 4 2 5 2 4 2\n",
      " 2 3 4 3 5 1 1 4 5 2 2 3 4]\n"
     ]
    }
   ],
   "source": [
    "'''\n",
    "To transform the output data labels\n",
    "'''\n",
    "from sklearn.preprocessing import LabelEncoder\n",
    "\n",
    "encoder = LabelEncoder()\n",
    "\n",
    "Y_train = encoder.fit_transform(Y_train)\n",
    "Y_test = encoder.transform(Y_test)\n",
    "\n",
    "print(type(Y_test))\n",
    "print(Y_test)"
   ]
  },
  {
   "cell_type": "code",
   "execution_count": 16,
   "metadata": {
    "colab": {
     "base_uri": "https://localhost:8080/"
    },
    "id": "pe3DGJJi7r51",
    "outputId": "c1d24b4e-3c0b-4d89-925d-7f848616280f"
   },
   "outputs": [
    {
     "data": {
      "text/plain": [
       "DecisionTreeClassifier(ccp_alpha=0.0, class_weight=None, criterion='gini',\n",
       "                       max_depth=8, max_features='auto', max_leaf_nodes=None,\n",
       "                       min_impurity_decrease=0.0, min_impurity_split=None,\n",
       "                       min_samples_leaf=1, min_samples_split=2,\n",
       "                       min_weight_fraction_leaf=0.0, presort='deprecated',\n",
       "                       random_state=None, splitter='best')"
      ]
     },
     "execution_count": 16,
     "metadata": {
      "tags": []
     },
     "output_type": "execute_result"
    }
   ],
   "source": [
    "'''\n",
    "I will now make use of Recursive Feature elimination in order to extract the best features. The estimator that I am going to use are\n",
    "Decision Trees. The reason behind using Decision Trees as the estimators is that, the number of data points and the data features are\n",
    "less comparatively. So decision trees is the best option to look for redundant data and remove that\n",
    "'''\n",
    "from sklearn.tree import DecisionTreeClassifier\n",
    "\n",
    "decision_tree_classifier = DecisionTreeClassifier(max_depth = 8, min_samples_split = 2, min_samples_leaf = 1, max_features = 'auto')\n",
    "\n",
    "decision_tree_classifier.fit(X_train, Y_train)"
   ]
  },
  {
   "cell_type": "code",
   "execution_count": 17,
   "metadata": {
    "colab": {
     "base_uri": "https://localhost:8080/"
    },
    "id": "zu6Yn7o6nXz9",
    "outputId": "b1dbe046-6d0b-4f35-dea5-06fc1e95491b"
   },
   "outputs": [
    {
     "name": "stdout",
     "output_type": "stream",
     "text": [
      "The accuracy of the Decision Tree classifier is:-  0.84\n"
     ]
    }
   ],
   "source": [
    "from sklearn.metrics import accuracy_score\n",
    "\n",
    "predicted_output = decision_tree_classifier.predict(X_test)\n",
    "\n",
    "accuracy = accuracy_score(Y_test, predicted_output)\n",
    "\n",
    "print(\"The accuracy of the Decision Tree classifier is:- \", accuracy)"
   ]
  },
  {
   "cell_type": "code",
   "execution_count": 18,
   "metadata": {
    "colab": {
     "base_uri": "https://localhost:8080/"
    },
    "id": "YmNQLupYnX2h",
    "outputId": "eada4cdb-779d-43e9-d39d-e197296ec5ef"
   },
   "outputs": [
    {
     "name": "stdout",
     "output_type": "stream",
     "text": [
      "Fitting estimator with 16 features.\n",
      "Fitting estimator with 15 features.\n"
     ]
    },
    {
     "data": {
      "text/plain": [
       "RFECV(cv=StratifiedKFold(n_splits=10, random_state=None, shuffle=False),\n",
       "      estimator=DecisionTreeClassifier(ccp_alpha=0.0, class_weight=None,\n",
       "                                       criterion='gini', max_depth=8,\n",
       "                                       max_features='auto', max_leaf_nodes=None,\n",
       "                                       min_impurity_decrease=0.0,\n",
       "                                       min_impurity_split=None,\n",
       "                                       min_samples_leaf=1, min_samples_split=2,\n",
       "                                       min_weight_fraction_leaf=0.0,\n",
       "                                       presort='deprecated', random_state=None,\n",
       "                                       splitter='best'),\n",
       "      min_features_to_select=5, n_jobs=-1, scoring='accuracy', step=1,\n",
       "      verbose=1)"
      ]
     },
     "execution_count": 18,
     "metadata": {
      "tags": []
     },
     "output_type": "execute_result"
    }
   ],
   "source": [
    "'''\n",
    "To use RECURSIVE FEATURE ELIMINATION CROSS VALIDATION to select the most useful features using decision Tree classifier as the \n",
    "estimator\n",
    "'''\n",
    "from sklearn.feature_selection import RFECV\n",
    "from sklearn.tree import DecisionTreeClassifier\n",
    "from sklearn.model_selection import StratifiedKFold\n",
    "\n",
    "estimator_decision_tree_classifier = DecisionTreeClassifier(max_depth = 8, min_samples_split = 2, min_samples_leaf = 1, \n",
    "                                                            max_features = 'auto')\n",
    "\n",
    "stratified_kfold_splitter = StratifiedKFold(10)\n",
    "\n",
    "feature_selector = RFECV(estimator_decision_tree_classifier, step = 1, min_features_to_select = 5, n_jobs=-1, \n",
    "                         cv = stratified_kfold_splitter, scoring = 'accuracy', verbose = 1)\n",
    "\n",
    "feature_selector.fit(X_train, Y_train)"
   ]
  },
  {
   "cell_type": "code",
   "execution_count": 19,
   "metadata": {
    "colab": {
     "base_uri": "https://localhost:8080/"
    },
    "id": "tXRUh6nZnX5A",
    "outputId": "f97799cf-1566-4119-dc34-9073ad524164"
   },
   "outputs": [
    {
     "data": {
      "text/plain": [
       "14"
      ]
     },
     "execution_count": 19,
     "metadata": {
      "tags": []
     },
     "output_type": "execute_result"
    }
   ],
   "source": [
    "feature_selector.n_features_"
   ]
  },
  {
   "cell_type": "code",
   "execution_count": 20,
   "metadata": {
    "colab": {
     "base_uri": "https://localhost:8080/"
    },
    "id": "pRPoyssAp4NM",
    "outputId": "89102561-70a5-432d-9846-3d34add11752"
   },
   "outputs": [
    {
     "data": {
      "text/plain": [
       "array([1, 1, 1, 1, 1, 3, 2, 1, 1, 1, 1, 1, 1, 1, 1, 1])"
      ]
     },
     "execution_count": 20,
     "metadata": {
      "tags": []
     },
     "output_type": "execute_result"
    }
   ],
   "source": [
    "ranking = feature_selector.ranking_\n",
    "ranking"
   ]
  },
  {
   "cell_type": "code",
   "execution_count": 24,
   "metadata": {
    "colab": {
     "base_uri": "https://localhost:8080/"
    },
    "id": "ZrXzw1Mh7ytq",
    "outputId": "3f5e39c6-bacc-4bb2-a8d5-8d601d63d356"
   },
   "outputs": [
    {
     "data": {
      "text/plain": [
       "Index(['Mean ', 'SD', 'Variance', 'Kurtosis', 'Median', 'Mode', 'sum',\n",
       "       'Skewness ', 'max', 'min', 'range', 'RMS', ' Impulse Factor',\n",
       "       'Shape factor', 'k factor', 'Std error'],\n",
       "      dtype='object')"
      ]
     },
     "execution_count": 24,
     "metadata": {
      "tags": []
     },
     "output_type": "execute_result"
    }
   ],
   "source": [
    "all_column_names = X.columns\n",
    "all_column_names"
   ]
  },
  {
   "cell_type": "code",
   "execution_count": 25,
   "metadata": {
    "colab": {
     "base_uri": "https://localhost:8080/"
    },
    "id": "aQbTExdw70pP",
    "outputId": "5c92b23a-633b-4952-f805-34f641145346"
   },
   "outputs": [
    {
     "name": "stdout",
     "output_type": "stream",
     "text": [
      "['Mean ', 'Variance', 'Kurtosis', 'sum', 'Skewness ', 'min', 'range', 'RMS', 'Shape factor', 'k factor', 'Std error']\n"
     ]
    }
   ],
   "source": [
    "# to iterate through the rankings and extract the column names\n",
    "column_names_13 = []\n",
    "\n",
    "for i in range(len(ranking)):\n",
    "  if ranking[i] == 1:\n",
    "    column_names_13.append(all_column_names[i])\n",
    "\n",
    "print(column_names_13)"
   ]
  },
  {
   "cell_type": "markdown",
   "metadata": {
    "id": "zixwEdjS4G_V"
   },
   "source": [
    "**The best features that I got after RFECV are ['Mean ', 'SD', 'Variance', 'Kurtosis', 'sum', 'Skewness ', 'max', 'min', 'range', 'RMS', 'Shape factor', 'k factor', 'Std error']**"
   ]
  },
  {
   "cell_type": "markdown",
   "metadata": {
    "id": "DEkaALui9ULh"
   },
   "source": [
    "**Making use of these 13 features to determine the accuracy of the Decision Trees**"
   ]
  },
  {
   "cell_type": "code",
   "execution_count": 21,
   "metadata": {
    "colab": {
     "base_uri": "https://localhost:8080/"
    },
    "id": "LVVxElpx70r5",
    "outputId": "c27d9042-eb5a-406b-8e23-0e4923e607f4"
   },
   "outputs": [
    {
     "name": "stdout",
     "output_type": "stream",
     "text": [
      "(250, 13) (50, 13)\n",
      "The accuracy of the Decision Tree classifier is:-  0.8\n"
     ]
    }
   ],
   "source": [
    "X_train_13 = X_train[['Mean ', 'SD', 'Variance', 'Kurtosis', 'sum', 'Skewness ', 'max', 'min', 'range', 'RMS', 'Shape factor', 'k factor', 'Std error']]\n",
    "X_test_13 = X_test[['Mean ', 'SD', 'Variance', 'Kurtosis', 'sum', 'Skewness ', 'max', 'min', 'range', 'RMS', 'Shape factor', 'k factor', 'Std error']]\n",
    "\n",
    "print(X_train_13.shape, X_test_13.shape)\n",
    "\n",
    "# to check the performance of DT on this data\n",
    "from sklearn.tree import DecisionTreeClassifier\n",
    "\n",
    "decision_tree_classifier = DecisionTreeClassifier(max_depth = 8, min_samples_split = 2, min_samples_leaf = 2, max_features = 'auto')\n",
    "\n",
    "decision_tree_classifier.fit(X_train_13, Y_train)\n",
    "\n",
    "predicted_output = decision_tree_classifier.predict(X_test_13)\n",
    "\n",
    "accuracy = accuracy_score(Y_test, predicted_output)\n",
    "\n",
    "print(\"The accuracy of the Decision Tree classifier is:- \", accuracy)"
   ]
  },
  {
   "cell_type": "code",
   "execution_count": 22,
   "metadata": {
    "colab": {
     "base_uri": "https://localhost:8080/"
    },
    "id": "7cX5Zqtb8cml",
    "outputId": "be183fef-8c59-407a-f035-d2bf847ae3df"
   },
   "outputs": [
    {
     "name": "stdout",
     "output_type": "stream",
     "text": [
      "The accuracy of the SVM Classifier is:-  0.82\n"
     ]
    }
   ],
   "source": [
    "from sklearn.svm import SVC\n",
    "\n",
    "svm_clf = SVC(kernel = 'rbf', gamma = 0.022721, C = 41.13)\n",
    "svm_clf.fit(X_train_13, Y_train)\n",
    "\n",
    "predicted_output = svm_clf.predict(X_test_13)\n",
    "\n",
    "accuracy = accuracy_score(Y_test, predicted_output)\n",
    "\n",
    "print(\"The accuracy of the SVM Classifier is:- \", accuracy)"
   ]
  },
  {
   "cell_type": "code",
   "execution_count": 23,
   "metadata": {
    "colab": {
     "base_uri": "https://localhost:8080/",
     "height": 841
    },
    "id": "o1BztHEN8cpR",
    "outputId": "7c9622d6-70f1-4fa0-dd55-2c4b6c3a2a5c"
   },
   "outputs": [
    {
     "data": {
      "text/plain": [
       "<matplotlib.axes._subplots.AxesSubplot at 0x7fe63d291290>"
      ]
     },
     "execution_count": 23,
     "metadata": {
      "tags": []
     },
     "output_type": "execute_result"
    },
    {
     "data": {
      "image/png": "[encoded data removed]",
      "text/plain": [
       "<Figure size 1008x936 with 2 Axes>"
      ]
     },
     "metadata": {
      "needs_background": "light",
      "tags": []
     },
     "output_type": "display_data"
    }
   ],
   "source": [
    "'''\n",
    "To check the correlation between the top 13 selected features\n",
    "'''\n",
    "correlation_matrix_for_13_features = X_train_13.corr()\n",
    "\n",
    "f, ax = plt.subplots(figsize =(14, 13))\n",
    "\n",
    "plt.title('Correlation matrix')\n",
    "\n",
    "sns.heatmap(correlation_matrix_for_13_features, ax = ax, cmap =\"YlGnBu\", linewidths = 0.1) "
   ]
  },
  {
   "cell_type": "code",
   "execution_count": 24,
   "metadata": {
    "colab": {
     "base_uri": "https://localhost:8080/"
    },
    "id": "RTZj8ENrsqL_",
    "outputId": "21a255a9-e7a9-4e4e-a94d-1bf588f41c18"
   },
   "outputs": [
    {
     "data": {
      "text/plain": [
       "Index(['Mean ', 'SD', 'Variance', 'Kurtosis', 'sum', 'Skewness ', 'max', 'min',\n",
       "       'range', 'RMS', 'Shape factor', 'k factor', 'Std error'],\n",
       "      dtype='object')"
      ]
     },
     "execution_count": 24,
     "metadata": {
      "tags": []
     },
     "output_type": "execute_result"
    }
   ],
   "source": [
    "X_train_13.columns"
   ]
  },
  {
   "cell_type": "code",
   "execution_count": 25,
   "metadata": {
    "colab": {
     "base_uri": "https://localhost:8080/"
    },
    "id": "wl3He3PKD0Pe",
    "outputId": "534f60c9-5cf4-4348-b984-ed269bad4851"
   },
   "outputs": [
    {
     "name": "stdout",
     "output_type": "stream",
     "text": [
      "<class 'pandas.core.frame.DataFrame'> (250, 11)\n",
      "<class 'pandas.core.frame.DataFrame'> (50, 11)\n"
     ]
    }
   ],
   "source": [
    "X_train_new = X_train_13.drop(['k factor', 'Std error'], axis = 1)\n",
    "X_test_new = X_test_13.drop(['k factor', 'Std error'], axis = 1)\n",
    "\n",
    "print(type(X_train_new), X_train_new.shape)\n",
    "print(type(X_test_new), X_test_new.shape)"
   ]
  },
  {
   "cell_type": "code",
   "execution_count": 26,
   "metadata": {
    "colab": {
     "base_uri": "https://localhost:8080/"
    },
    "id": "YsRV2-LIQygY",
    "outputId": "edb93cff-2288-4c88-d5bd-db20aa73536c"
   },
   "outputs": [
    {
     "data": {
      "text/plain": [
       "Index(['Mean ', 'SD', 'Variance', 'Kurtosis', 'sum', 'Skewness ', 'max', 'min',\n",
       "       'range', 'RMS', 'Shape factor'],\n",
       "      dtype='object')"
      ]
     },
     "execution_count": 26,
     "metadata": {
      "tags": []
     },
     "output_type": "execute_result"
    }
   ],
   "source": [
    "X_train_new.columns"
   ]
  },
  {
   "cell_type": "code",
   "execution_count": 27,
   "metadata": {
    "colab": {
     "base_uri": "https://localhost:8080/",
     "height": 507
    },
    "id": "8CZiXx3g2RAa",
    "outputId": "cf36ac6e-3246-4816-fcf1-37e36222221d"
   },
   "outputs": [
    {
     "name": "stdout",
     "output_type": "stream",
     "text": [
      "(250, 3) <class 'numpy.ndarray'>\n"
     ]
    },
    {
     "name": "stderr",
     "output_type": "stream",
     "text": [
      "/usr/local/lib/python3.7/dist-packages/seaborn/axisgrid.py:316: UserWarning: The `size` parameter has been renamed to `height`; please update your code.\n",
      "  warnings.warn(msg, UserWarning)\n"
     ]
    },
    {
     "data": {
      "image/png": "[encoded data removed]",
      "text/plain": [
       "<Figure size 483.875x432 with 1 Axes>"
      ]
     },
     "metadata": {
      "needs_background": "light",
      "tags": []
     },
     "output_type": "display_data"
    }
   ],
   "source": [
    "tsne_df = return_TSNE_data(X_train_new, Y_train)\n",
    "\n",
    "sns.FacetGrid(tsne_df, hue='labels', size=6).map(plt.scatter, 'dim_1', 'dim_2').add_legend()\n",
    "plt.title('With Perplexity 5 and n_iter=1000')\n",
    "plt.show()"
   ]
  },
  {
   "cell_type": "markdown",
   "metadata": {
    "id": "x7lKOwl6AzKK"
   },
   "source": [
    "**So from the above TSNE plot we can clearly see that, by using RFECV, using Correlation matrix and data standardization we are now very well able to distinguish different datapoints**"
   ]
  },
  {
   "cell_type": "code",
   "execution_count": null,
   "metadata": {
    "id": "NNy03uHZ2RF-"
   },
   "outputs": [],
   "source": []
  },
  {
   "cell_type": "code",
   "execution_count": null,
   "metadata": {
    "id": "1C_hQfZY2RPD"
   },
   "outputs": [],
   "source": []
  },
  {
   "cell_type": "code",
   "execution_count": null,
   "metadata": {
    "id": "0K2yKLgj7r8Q"
   },
   "outputs": [],
   "source": []
  },
  {
   "cell_type": "markdown",
   "metadata": {
    "id": "j9zF2QjAajUF"
   },
   "source": [
    "# KEY ELEMENTS BEFORE OPTIMIZING THE MODEL PARAMETERS\n",
    "\n",
    "I found out 13 features to be very useful using RFECV viz (['Mean ', 'SD', 'Variance', 'Kurtosis', 'sum', 'Skewness ', 'max', 'min','range', 'RMS', 'Shape factor', 'k factor', 'Std error']). \n",
    "\n",
    "I plotted a correlation matrix in order to analyse these datapoints and found out that [\"Shape factor\", \"k factor\", \"Std error\"], these features are highly positively correlated with each other. This can lead to overfitting as a slight exception in one of the feature will lead to distoring of the remaining to features. And so to avoid this, I removed [\"k factor\", \"std error\"]. Now I have 11 features left with me viz. **(['Mean ', 'SD', 'Variance', 'Kurtosis', 'sum', 'Skewness ', 'max', 'min','range', 'RMS', 'Shape factor']).**\n",
    "\n",
    "The TSNE plot shown above using this data is quite good and we can distinctively classify most of the datapoints. \n",
    "\n",
    "Before passing the data to the model, I standarized that data as a couple of features had higher ranges and this was hindering the model from having a high Cross Validation Accuracy. "
   ]
  },
  {
   "cell_type": "code",
   "execution_count": 28,
   "metadata": {
    "id": "aGcZvtSKsFHf"
   },
   "outputs": [],
   "source": [
    "'''\n",
    "to define certain parameters before writing the optimization code\n",
    "'''\n",
    "\n",
    "\n",
    "def initialize_population_locations():\n",
    "\n",
    "    # to store the regularization and gamma (the parameters of SVM)\n",
    "    parameters_list = []\n",
    "\n",
    "    total_population = 30\n",
    "    number_of_clans = 6\n",
    "    population_in_each_clan = (total_population)/(number_of_clans)\n",
    "\n",
    "\n",
    "    # to randomly initialize the regularization parameter and gamma values such that we have 50 of them\n",
    "    reg_parameter = np.random.uniform(low = 0, high = 500, size = total_population)\n",
    "    gamma = np.random.uniform(low = 0, high = 50, size = total_population)\n",
    "\n",
    "    for i,j in zip(reg_parameter, gamma):\n",
    "    parameters_list.append([round(i, 5),round(j, 5)])\n",
    "\n",
    "\n",
    "    return total_population, number_of_clans, population_in_each_clan, parameters_list"
   ]
  },
  {
   "cell_type": "code",
   "execution_count": 29,
   "metadata": {
    "id": "iOOgApQqsFPn"
   },
   "outputs": [],
   "source": [
    "'''\n",
    "to create a function which takes in the input parameters, data and returns the FITNESS of the parameters by calculating the accuracy\n",
    "using K-Fold CV\n",
    "'''\n",
    "\n",
    "\n",
    "def fitness_calculation(parameters, X, Y):\n",
    "\n",
    "    from sklearn.svm import SVC\n",
    "    from sklearn.metrics import accuracy_score\n",
    "    from sklearn.model_selection import KFold\n",
    "\n",
    "    # to create a list which will store the accuracy of all the elephants i.e. SVM parameters\n",
    "    accuracy_list = []\n",
    "\n",
    "    # to reset the index of the data which is passed to the function\n",
    "    X = X.reset_index(drop=True)\n",
    "\n",
    "    # to store the final accuracy for each parameter i.e. the elephant\n",
    "    final_accuracy = []\n",
    "\n",
    "    '''\n",
    "    so now, my training data which is of the size (100,4) will be split into 10 folds, where everytime it will be validated on each fold\n",
    "    and trained on the remaining 9 folds. \n",
    "    ''' \n",
    "    kf = KFold(n_splits = 10, random_state = None, shuffle = False)\n",
    "\n",
    "    for i in range(len(parameters)):\n",
    "\n",
    "    total_score = 0\n",
    "\n",
    "    for train_index, test_index in kf.split(X):\n",
    "\n",
    "        X_train_fold, X_cv_fold = X.iloc[train_index], X.iloc[test_index]\n",
    "        Y_train_fold, Y_cv_fold = Y[train_index], Y[test_index]\n",
    "\n",
    "        # now to use this data to train the model and store the validation accuracy for every fold\n",
    "        svm_model = SVC(C = parameters[i][0], kernel='rbf', gamma = parameters[i][1], verbose = False)\n",
    "        svm_model.fit(X_train_fold, Y_train_fold)\n",
    "\n",
    "        predicted_value = svm_model.predict(X_cv_fold)\n",
    "        score = accuracy_score(Y_cv_fold, predicted_value)\n",
    "\n",
    "        total_score = total_score + score\n",
    "\n",
    "    final_accuracy.append(total_score/10)\n",
    "\n",
    "    return final_accuracy"
   ]
  },
  {
   "cell_type": "code",
   "execution_count": 30,
   "metadata": {
    "id": "cNN_YXg80BE1"
   },
   "outputs": [],
   "source": [
    "'''\n",
    "To create function which will take in parameters and the accuracies as the input and will return the sorted order as the output. Here\n",
    "I will also consider the number of clans and divide the number of elephants into those clans after sorting them. \n",
    "'''\n",
    "\n",
    "\n",
    "def sort_elephants(accuracies, parameters):\n",
    "\n",
    "    accuracy_index_dict = dict()\n",
    "\n",
    "    for i in range(len(accuracies)):\n",
    "    accuracy_index_dict[i] = accuracies[i]\n",
    "\n",
    "    # to sort the elements stored in the accuray_index_dict. We are using reverse = TRUE\n",
    "    sorted_accuracy_index_dict = {k:v for k,v in sorted(accuracy_index_dict.items(), key = lambda item : item[1], reverse = True)}\n",
    "\n",
    "    '''\n",
    "    now to take the sorted_accuracy_index_dict, extract the index values and the corrresponding parameters fitness, store them in a list \n",
    "    and then divide it into 6 parts\n",
    "    '''\n",
    "    # first to extract the keys from the sorted dictionary and index the parameters accordingly\n",
    "    keys = sorted_accuracy_index_dict.keys()\n",
    "\n",
    "    sorted_parameters = []\n",
    "\n",
    "    for i in keys:\n",
    "    sorted_parameters.append(parameters[i])\n",
    "\n",
    "    # to convert the list into a numpy array so that we can divide the array into 6 parts. The output that we get is an array of arrays\n",
    "    splitted_array = np.array_split(sorted_parameters, 6)\n",
    "\n",
    "    return splitted_array"
   ]
  },
  {
   "cell_type": "code",
   "execution_count": 31,
   "metadata": {
    "id": "WyQmwTrz0BHt"
   },
   "outputs": [],
   "source": [
    "'''\n",
    "THIS FUNCTION CONTAINS THE ENTIRE PIPELINE (I.E. WORKFLOW OF EHO). All the definitions are called in this function and the \n",
    "CLAN UPDATING AND SEPRARTING OPERATOR are used here. The equivalent terminologies are as follows:-\n",
    "'''\n",
    "\n",
    "\n",
    "def EHO(epochs, X_train, Y_train):\n",
    "\n",
    "  # to initialize the elephant population i.e. to initialize the SVM parameters\n",
    "  total_population, number_of_clans, population_in_each_clan, parameters_list = initialize_population_locations()\n",
    "  #print(\"Population in each clan is:- \", population_in_each_clan)\n",
    "\n",
    "  # to evaluate the fitness of these SVM parameters i.e. to evaluate the elephant fitness\n",
    "  final_accuracies = fitness_calculation(parameters_list, X_train, Y_train)\n",
    "\n",
    "  # to store the maximum accuracy that I got after every epoch i.e. the elephant generation\n",
    "  best_accuracy_after_every_epoch  = []\n",
    "\n",
    "  # to store the parameters that I got after every epoch i.e. elephant generation that gave the maximum accuracy\n",
    "  best_parameter_after_every_epoch = []\n",
    "\n",
    "\n",
    "  for i in range(epochs):\n",
    "\n",
    "    new_parameters_list = []\n",
    "\n",
    "    # to sort the initial parameters i.e. the rearrange the elephant positions according to their fitness\n",
    "    sorted_elephants_in_clans = sort_elephants(final_accuracies, parameters_list)\n",
    "\n",
    "    '''\n",
    "    After sorting the all the SVM parameters (elephants) according to their fitness, I am applying the clan updating operator.\n",
    "    The clan operating operator depends upon the matriarch which is nothing but the fittest elephant in that particular clan.\n",
    "    So I will select the first element of every clan and treat it as the MATRIARCH; as they are sorted\n",
    "    '''\n",
    "    for clan_number in range(len(sorted_elephants_in_clans)):\n",
    "\n",
    "        \n",
    "      sum_of_parameters = 0\n",
    "\n",
    "\n",
    "      for elephant_number in range(len(sorted_elephants_in_clans[clan_number])):\n",
    "        # the uniform distribution \"r\" value to be used in the CLAN UPDATING OPERATOR\n",
    "        r = np.random.uniform(low = 0, high = 1)\n",
    "        #r = 0.5\n",
    "\n",
    "        # the uniform distribution \"rand\" value which is going to be used in the SEPARATING OPERATOR\n",
    "        rand = np.random.uniform(low = 0, high = 1)\n",
    "        #rand = 0.5\n",
    "\n",
    "        # this determines the influence of the best elephant to the elephants in the clan\n",
    "        #alpha = np.random.uniform(low = 0, high = 1)\n",
    "        alpha = 0.5\n",
    "\n",
    "        # this determines the factor that influences the x_center\n",
    "        #beta = np.random.uniform(low = 0, high = 1)\n",
    "        beta = 0.5\n",
    "\n",
    "\n",
    "        if elephant_number == 0:\n",
    "          '''\n",
    "          this is to just assign the MATRIARCH in order to update the position of the rest of the elephants\n",
    "          '''\n",
    "          MATRIARCH = sorted_elephants_in_clans[clan_number][elephant_number]\n",
    "          #print(\"MATRIARCH:- \", MATRIARCH)\n",
    "\n",
    "\n",
    "        if elephant_number != 0 and elephant_number != population_in_each_clan - 1:\n",
    "          '''\n",
    "          the formula written below is for the CLAN UPDATING OPERATOR\n",
    "          '''\n",
    "          # to extract the original parameters i.e. the initial elephant\n",
    "          X_original = sorted_elephants_in_clans[clan_number][elephant_number]\n",
    "          #print(\"ORIGINAL DATAPOINT:- \", X_original)\n",
    "\n",
    "          X_new = X_original + alpha * (MATRIARCH - X_original) * r\n",
    "          #print(\"New datapoint:- \", X_new)\n",
    "\n",
    "          new_parameters_list.append(X_new)\n",
    "\n",
    "\n",
    "        if elephant_number == 0:\n",
    "          '''\n",
    "          to calculate the X_centre i.e. the determine the centre of each clan. This is a part of CLAN UPDATING OPERATOR\n",
    "          '''\n",
    "          for i in sorted_elephants_in_clans[clan_number]:\n",
    "            sum_of_parameters = sum_of_parameters + i\n",
    "\n",
    "          X_centre = (sum_of_parameters) / (population_in_each_clan)\n",
    "          X_new = beta * X_centre\n",
    "\n",
    "          new_parameters_list.append(X_new)\n",
    "\n",
    "        \n",
    "        if elephant_number == population_in_each_clan - 1:\n",
    "          '''\n",
    "          to apply the CLAN SEPARATING OPERATOR as this is the worst elephant in the clan\n",
    "          '''\n",
    "          # to extract the minimum value or the lower bound and the upper bound to the regularization parameter i.e. C\n",
    "          X_new_0_min = min(x[0] for x in parameters_list)\n",
    "          X_new_0_max = max(x[0] for x in parameters_list)\n",
    "\n",
    "          # to extract the minimum value i.e. the lower bound and the upper bound to the gamma parameter\n",
    "          X_new_1_min = min(x[1] for x in parameters_list)\n",
    "          X_new_1_max = max(x[1] for x in parameters_list)\n",
    "\n",
    "\n",
    "          # to use the SEPARATING OPREATOR FORMULA to reset REGULARIZATION PARAMETER\n",
    "          new_reg_parameter = X_new_0_min + (X_new_0_max - X_new_0_min + 1) * rand\n",
    "\n",
    "          # to use the SEPARATING OPERATOR to reset the GAMMA PARAMETER\n",
    "          new_gamma_parameter = X_new_1_min + (X_new_1_max - X_new_1_min + 1) * rand\n",
    "\n",
    "          X_new = [new_reg_parameter, new_gamma_parameter]\n",
    "          X_new = np.array(X_new)\n",
    "\n",
    "          new_parameters_list.append(X_new)\n",
    "\n",
    "      #print(\"=================================END OF CLAN===================================\")\n",
    "\n",
    "\n",
    "    '''\n",
    "    to assign the new parameters found by using the CLAN UPDATING AND THE CLAN SEPARATING OPERATOR to the \"parameters_list\" variable\n",
    "    '''\n",
    "    parameters_list = new_parameters_list\n",
    "\n",
    "    #print(\"The updated parameters list is:- \", parameters_list)\n",
    "\n",
    "    '''\n",
    "    considering the new parameters and finding out the fitness value of these newly formed parameters\n",
    "    '''\n",
    "    new_accuracies = fitness_calculation(parameters_list, X_train, Y_train)\n",
    "\n",
    "    # to extract the maximum accuracy and the correspodning index value. After that, to use this index value to extract the corresponding parameters.\n",
    "    best_accuracy_after_every_epoch.append(max(new_accuracies))\n",
    "\n",
    "    index_value = new_accuracies.index(max(new_accuracies))\n",
    "\n",
    "    best_parameter_after_every_epoch.append(parameters_list[index_value])\n",
    "\n",
    "    # to assign the \"new_accuracies\" to the \"final_accuracies\" so that I can pass it to the \"SORT_ELEPHANTS\" function in the next epoch i.e. next generation\n",
    "    final_accuracies = new_accuracies\n",
    "\n",
    "    print('FINAL ACCURACY IS: ', final_accuracies)\n",
    "    print(\"BEST PARAMETER IS: \", parameters_list[index_value])\n",
    "    print(\"THE BEST ACCURACY IS: \", max(new_accuracies))\n",
    "    print(\"=\"*80)\n",
    "\n",
    "    #break;\n"
   ]
  },
  {
   "cell_type": "code",
   "execution_count": 32,
   "metadata": {
    "colab": {
     "base_uri": "https://localhost:8080/"
    },
    "id": "IiExaW5euN1h",
    "outputId": "ff45c500-c03f-4be7-c74a-4a97554f4650"
   },
   "outputs": [
    {
     "name": "stdout",
     "output_type": "stream",
     "text": [
      "<class 'pandas.core.frame.DataFrame'> (250, 11)\n",
      "<class 'pandas.core.frame.DataFrame'> (50, 11)\n"
     ]
    }
   ],
   "source": [
    "'''\n",
    "to standardize the data before passing it to the models\n",
    "'''\n",
    "from sklearn.preprocessing import StandardScaler\n",
    "\n",
    "scaler = StandardScaler()\n",
    "\n",
    "X_train_new_standardized = scaler.fit_transform(X_train_new)\n",
    "X_test_new_standardized = scaler.transform(X_test_new)\n",
    "\n",
    "X_train_new_standardized = pd.DataFrame(X_train_new_standardized)\n",
    "X_test_new_standardized = pd.DataFrame(X_test_new_standardized)\n",
    "\n",
    "print(type(X_train_new_standardized), X_train_new_standardized.shape)\n",
    "print(type(X_test_new_standardized), X_test_new_standardized.shape)"
   ]
  },
  {
   "cell_type": "code",
   "execution_count": 33,
   "metadata": {
    "colab": {
     "base_uri": "https://localhost:8080/",
     "height": 203
    },
    "id": "blXbC4a0uli0",
    "outputId": "f51749e3-1d12-49af-914f-2d606fc1e547"
   },
   "outputs": [
    {
     "data": {
      "text/html": [
       "<div>\n",
       "<style scoped>\n",
       "    .dataframe tbody tr th:only-of-type {\n",
       "        vertical-align: middle;\n",
       "    }\n",
       "\n",
       "    .dataframe tbody tr th {\n",
       "        vertical-align: top;\n",
       "    }\n",
       "\n",
       "    .dataframe thead th {\n",
       "        text-align: right;\n",
       "    }\n",
       "</style>\n",
       "<table border=\"1\" class=\"dataframe\">\n",
       "  <thead>\n",
       "    <tr style=\"text-align: right;\">\n",
       "      <th></th>\n",
       "      <th>0</th>\n",
       "      <th>1</th>\n",
       "      <th>2</th>\n",
       "      <th>3</th>\n",
       "      <th>4</th>\n",
       "      <th>5</th>\n",
       "      <th>6</th>\n",
       "      <th>7</th>\n",
       "      <th>8</th>\n",
       "      <th>9</th>\n",
       "      <th>10</th>\n",
       "    </tr>\n",
       "  </thead>\n",
       "  <tbody>\n",
       "    <tr>\n",
       "      <th>0</th>\n",
       "      <td>-1.166491</td>\n",
       "      <td>-0.641888</td>\n",
       "      <td>-0.610619</td>\n",
       "      <td>-0.631950</td>\n",
       "      <td>-1.166651</td>\n",
       "      <td>0.326382</td>\n",
       "      <td>-0.407618</td>\n",
       "      <td>1.058829</td>\n",
       "      <td>-0.740012</td>\n",
       "      <td>0.033720</td>\n",
       "      <td>-0.413015</td>\n",
       "    </tr>\n",
       "    <tr>\n",
       "      <th>1</th>\n",
       "      <td>0.389329</td>\n",
       "      <td>0.830822</td>\n",
       "      <td>0.694004</td>\n",
       "      <td>1.604929</td>\n",
       "      <td>0.389247</td>\n",
       "      <td>0.082017</td>\n",
       "      <td>1.090784</td>\n",
       "      <td>-1.204128</td>\n",
       "      <td>1.196487</td>\n",
       "      <td>0.744678</td>\n",
       "      <td>-0.432032</td>\n",
       "    </tr>\n",
       "    <tr>\n",
       "      <th>2</th>\n",
       "      <td>1.439655</td>\n",
       "      <td>-0.488640</td>\n",
       "      <td>-0.493056</td>\n",
       "      <td>0.576646</td>\n",
       "      <td>1.439758</td>\n",
       "      <td>1.949726</td>\n",
       "      <td>0.773832</td>\n",
       "      <td>0.418404</td>\n",
       "      <td>0.236606</td>\n",
       "      <td>0.108506</td>\n",
       "      <td>-0.619835</td>\n",
       "    </tr>\n",
       "    <tr>\n",
       "      <th>3</th>\n",
       "      <td>-0.641116</td>\n",
       "      <td>-0.718663</td>\n",
       "      <td>-0.667931</td>\n",
       "      <td>-0.972769</td>\n",
       "      <td>-0.641185</td>\n",
       "      <td>-0.538460</td>\n",
       "      <td>-1.190899</td>\n",
       "      <td>0.873037</td>\n",
       "      <td>-1.093864</td>\n",
       "      <td>-0.003179</td>\n",
       "      <td>-0.486737</td>\n",
       "    </tr>\n",
       "    <tr>\n",
       "      <th>4</th>\n",
       "      <td>0.658361</td>\n",
       "      <td>-0.764562</td>\n",
       "      <td>-0.701685</td>\n",
       "      <td>-0.388668</td>\n",
       "      <td>0.658378</td>\n",
       "      <td>-0.370158</td>\n",
       "      <td>-0.387232</td>\n",
       "      <td>-0.437583</td>\n",
       "      <td>-0.008617</td>\n",
       "      <td>-0.024884</td>\n",
       "      <td>-0.598013</td>\n",
       "    </tr>\n",
       "  </tbody>\n",
       "</table>\n",
       "</div>"
      ],
      "text/plain": [
       "         0         1         2   ...        8         9         10\n",
       "0 -1.166491 -0.641888 -0.610619  ... -0.740012  0.033720 -0.413015\n",
       "1  0.389329  0.830822  0.694004  ...  1.196487  0.744678 -0.432032\n",
       "2  1.439655 -0.488640 -0.493056  ...  0.236606  0.108506 -0.619835\n",
       "3 -0.641116 -0.718663 -0.667931  ... -1.093864 -0.003179 -0.486737\n",
       "4  0.658361 -0.764562 -0.701685  ... -0.008617 -0.024884 -0.598013\n",
       "\n",
       "[5 rows x 11 columns]"
      ]
     },
     "execution_count": 33,
     "metadata": {
      "tags": []
     },
     "output_type": "execute_result"
    }
   ],
   "source": [
    "X_train_new_standardized.head()"
   ]
  },
  {
   "cell_type": "code",
   "execution_count": 43,
   "metadata": {
    "colab": {
     "base_uri": "https://localhost:8080/"
    },
    "id": "JxrVKzel0BK3",
    "outputId": "0053d257-792a-4015-f1c6-7b6c94b91c3f"
   },
   "outputs": [
    {
     "name": "stdout",
     "output_type": "stream",
     "text": [
      "FINAL ACCURACY IS:  [0.828, 0.7479999999999999, 0.6240000000000001, 0.72, 0.27599999999999997, 0.6519999999999999, 0.476, 0.476, 0.43200000000000005, 0.484, 0.492, 0.352, 0.304, 0.24400000000000005, 0.26799999999999996, 0.3, 0.18799999999999994, 0.18799999999999994, 0.18799999999999994, 0.24000000000000005, 0.26399999999999996, 0.176, 0.176, 0.15999999999999998, 0.21599999999999997, 0.22399999999999998, 0.14, 0.14, 0.13600000000000004, 0.564]\n",
      "BEST PARAMETER IS:  [144.193097   2.719282]\n",
      "THE BEST ACCURACY IS:  0.828\n",
      "================================================================================\n",
      "FINAL ACCURACY IS:  [0.8320000000000001, 0.7719999999999999, 0.7679999999999999, 0.704, 0.20799999999999996, 0.72, 0.5119999999999999, 0.492, 0.4800000000000001, 0.21599999999999997, 0.5559999999999999, 0.352, 0.33199999999999996, 0.36, 0.23600000000000004, 0.45599999999999985, 0.26399999999999996, 0.25600000000000006, 0.25600000000000006, 0.13600000000000004, 0.304, 0.20399999999999996, 0.18799999999999994, 0.20399999999999996, 0.42799999999999994, 0.24800000000000005, 0.16399999999999998, 0.15599999999999997, 0.14, 0.3]\n",
      "BEST PARAMETER IS:  [121.34933237   2.35657234]\n",
      "THE BEST ACCURACY IS:  0.8320000000000001\n",
      "================================================================================\n",
      "FINAL ACCURACY IS:  [0.86, 0.7919999999999999, 0.7839999999999999, 0.728, 0.292, 0.728, 0.524, 0.492, 0.508, 0.20399999999999996, 0.596, 0.392, 0.372, 0.356, 0.6240000000000001, 0.4720000000000001, 0.27199999999999996, 0.26799999999999996, 0.26799999999999996, 0.27599999999999997, 0.368, 0.22399999999999998, 0.21599999999999997, 0.21599999999999997, 0.368, 0.25600000000000006, 0.16399999999999998, 0.16399999999999998, 0.15999999999999998, 0.8160000000000001]\n",
      "BEST PARAMETER IS:  [99.5379519   1.97345882]\n",
      "THE BEST ACCURACY IS:  0.86\n",
      "================================================================================\n",
      "FINAL ACCURACY IS:  [0.876, 0.8320000000000001, 0.7919999999999999, 0.7839999999999999, 0.27599999999999997, 0.7759999999999999, 0.6399999999999999, 0.604, 0.5559999999999999, 0.18799999999999994, 0.6399999999999999, 0.484, 0.39999999999999997, 0.41600000000000004, 0.176, 0.5319999999999999, 0.36, 0.3, 0.284, 0.8320000000000001, 0.43599999999999994, 0.26799999999999996, 0.25999999999999995, 0.24800000000000005, 0.5319999999999999, 0.288, 0.20399999999999996, 0.176, 0.184, 0.22399999999999998]\n",
      "BEST PARAMETER IS:  [81.78633529  1.60652113]\n",
      "THE BEST ACCURACY IS:  0.876\n",
      "================================================================================\n",
      "FINAL ACCURACY IS:  [0.8880000000000001, 0.8320000000000001, 0.828, 0.8119999999999999, 0.352, 0.8160000000000001, 0.704, 0.72, 0.692, 0.21999999999999997, 0.704, 0.5319999999999999, 0.492, 0.4800000000000001, 0.288, 0.552, 0.364, 0.3, 0.3, 0.24000000000000005, 0.476, 0.27199999999999996, 0.26399999999999996, 0.24800000000000005, 0.43200000000000005, 0.292, 0.19599999999999995, 0.18799999999999994, 0.184, 0.176]\n",
      "BEST PARAMETER IS:  [77.05432889  1.39243562]\n",
      "THE BEST ACCURACY IS:  0.8880000000000001\n",
      "================================================================================\n",
      "FINAL ACCURACY IS:  [0.8880000000000001, 0.8560000000000001, 0.8320000000000001, 0.8320000000000001, 0.27999999999999997, 0.8320000000000001, 0.704, 0.708, 0.692, 0.19599999999999995, 0.704, 0.516, 0.492, 0.492, 0.6719999999999999, 0.5559999999999999, 0.356, 0.33199999999999996, 0.304, 0.8640000000000001, 0.4720000000000001, 0.27599999999999997, 0.26399999999999996, 0.25600000000000006, 0.20399999999999996, 0.3, 0.20399999999999996, 0.20399999999999996, 0.20399999999999996, 0.3]\n",
      "BEST PARAMETER IS:  [53.22871014  1.249954  ]\n",
      "THE BEST ACCURACY IS:  0.8880000000000001\n",
      "================================================================================\n",
      "FINAL ACCURACY IS:  [0.9, 0.876, 0.8560000000000001, 0.8320000000000001, 0.692, 0.8320000000000001, 0.724, 0.72, 0.72, 0.21199999999999997, 0.732, 0.6, 0.5559999999999999, 0.492, 0.5039999999999999, 0.596, 0.41200000000000003, 0.352, 0.368, 0.304, 0.4959999999999999, 0.284, 0.284, 0.27599999999999997, 0.5, 0.352, 0.20399999999999996, 0.20399999999999996, 0.20399999999999996, 0.18799999999999994]\n",
      "BEST PARAMETER IS:  [30.19443149  1.00050757]\n",
      "THE BEST ACCURACY IS:  0.9\n",
      "================================================================================\n",
      "FINAL ACCURACY IS:  [0.8960000000000001, 0.876, 0.8720000000000001, 0.8560000000000001, 0.612, 0.8320000000000001, 0.728, 0.728, 0.724, 0.25600000000000006, 0.7439999999999999, 0.596, 0.564, 0.508, 0.372, 0.6399999999999999, 0.492, 0.43200000000000005, 0.42799999999999994, 0.5319999999999999, 0.5319999999999999, 0.308, 0.288, 0.288, 0.392, 0.352, 0.20799999999999996, 0.20399999999999996, 0.20399999999999996, 0.21199999999999997]\n",
      "BEST PARAMETER IS:  [25.33364141  0.93719564]\n",
      "THE BEST ACCURACY IS:  0.8960000000000001\n",
      "================================================================================\n",
      "FINAL ACCURACY IS:  [0.9, 0.884, 0.8880000000000001, 0.8640000000000001, 0.20399999999999996, 0.8320000000000001, 0.728, 0.728, 0.728, 0.21199999999999997, 0.7679999999999999, 0.6, 0.596, 0.5319999999999999, 0.21199999999999997, 0.6799999999999999, 0.492, 0.476, 0.42799999999999994, 0.508, 0.552, 0.356, 0.352, 0.32, 0.352, 0.368, 0.21199999999999997, 0.21599999999999997, 0.22399999999999998, 0.6519999999999999]\n",
      "BEST PARAMETER IS:  [22.53584282  0.87387241]\n",
      "THE BEST ACCURACY IS:  0.9\n",
      "================================================================================\n",
      "FINAL ACCURACY IS:  [0.9039999999999999, 0.892, 0.884, 0.868, 0.6, 0.836, 0.728, 0.728, 0.728, 0.352, 0.7799999999999999, 0.6240000000000001, 0.6080000000000001, 0.6, 0.23200000000000004, 0.6799999999999999, 0.5039999999999999, 0.476, 0.42799999999999994, 0.72, 0.5319999999999999, 0.352, 0.352, 0.352, 0.364, 0.364, 0.20799999999999996, 0.21199999999999997, 0.20799999999999996, 0.20399999999999996]\n",
      "BEST PARAMETER IS:  [19.61336077  0.80945621]\n",
      "THE BEST ACCURACY IS:  0.9039999999999999\n",
      "================================================================================\n",
      "FINAL ACCURACY IS:  [0.9039999999999999, 0.9, 0.892, 0.876, 0.41600000000000004, 0.852, 0.732, 0.732, 0.7439999999999999, 0.25600000000000006, 0.7999999999999999, 0.628, 0.6240000000000001, 0.6080000000000001, 0.26399999999999996, 0.688, 0.508, 0.484, 0.4720000000000001, 0.828, 0.588, 0.352, 0.352, 0.352, 0.288, 0.372, 0.21599999999999997, 0.21199999999999997, 0.20799999999999996, 0.21199999999999997]\n",
      "BEST PARAMETER IS:  [17.5662405   0.75486897]\n",
      "THE BEST ACCURACY IS:  0.9039999999999999\n",
      "================================================================================\n",
      "FINAL ACCURACY IS:  [0.9080000000000001, 0.9, 0.9, 0.884, 0.884, 0.868, 0.7999999999999999, 0.7599999999999999, 0.7679999999999999, 0.8320000000000001, 0.8039999999999999, 0.6399999999999999, 0.6240000000000001, 0.612, 0.8480000000000001, 0.676, 0.484, 0.4720000000000001, 0.43200000000000005, 0.5319999999999999, 0.5319999999999999, 0.352, 0.352, 0.3, 0.22399999999999998, 0.39599999999999996, 0.22399999999999998, 0.22399999999999998, 0.21199999999999997, 0.284]\n",
      "BEST PARAMETER IS:  [15.57114741  0.68568282]\n",
      "THE BEST ACCURACY IS:  0.9080000000000001\n",
      "================================================================================\n",
      "FINAL ACCURACY IS:  [0.9120000000000001, 0.9, 0.9, 0.884, 0.25600000000000006, 0.884, 0.8480000000000001, 0.8320000000000001, 0.8119999999999999, 0.43200000000000005, 0.828, 0.7679999999999999, 0.692, 0.6799999999999999, 0.33199999999999996, 0.728, 0.5319999999999999, 0.5680000000000001, 0.5319999999999999, 0.22399999999999998, 0.6, 0.39599999999999996, 0.38, 0.388, 0.27599999999999997, 0.40800000000000003, 0.22399999999999998, 0.25200000000000006, 0.24000000000000005, 0.628]\n",
      "BEST PARAMETER IS:  [14.02787975  0.58004974]\n",
      "THE BEST ACCURACY IS:  0.9120000000000001\n",
      "================================================================================\n",
      "FINAL ACCURACY IS:  [0.9080000000000001, 0.9039999999999999, 0.9039999999999999, 0.9, 0.9039999999999999, 0.8880000000000001, 0.8320000000000001, 0.828, 0.8160000000000001, 0.5319999999999999, 0.8320000000000001, 0.72, 0.7, 0.628, 0.25600000000000006, 0.728, 0.552, 0.5399999999999999, 0.5039999999999999, 0.284, 0.596, 0.388, 0.392, 0.352, 0.492, 0.42799999999999994, 0.25200000000000006, 0.24000000000000005, 0.23200000000000004, 0.8640000000000001]\n",
      "BEST PARAMETER IS:  [11.64544356  0.50855829]\n",
      "THE BEST ACCURACY IS:  0.9080000000000001\n",
      "================================================================================\n",
      "FINAL ACCURACY IS:  [0.9080000000000001, 0.9039999999999999, 0.9039999999999999, 0.9120000000000001, 0.524, 0.9, 0.876, 0.8560000000000001, 0.8320000000000001, 0.5319999999999999, 0.8320000000000001, 0.728, 0.728, 0.728, 0.3, 0.74, 0.5559999999999999, 0.544, 0.5319999999999999, 0.596, 0.6240000000000001, 0.45999999999999996, 0.392, 0.404, 0.696, 0.46799999999999997, 0.25600000000000006, 0.25600000000000006, 0.25200000000000006, 0.728]\n",
      "BEST PARAMETER IS:  [13.99252728  0.66745199]\n",
      "THE BEST ACCURACY IS:  0.9120000000000001\n",
      "================================================================================\n",
      "FINAL ACCURACY IS:  [0.9120000000000001, 0.9039999999999999, 0.9080000000000001, 0.9039999999999999, 0.24000000000000005, 0.884, 0.8640000000000001, 0.86, 0.8320000000000001, 0.32, 0.8320000000000001, 0.728, 0.728, 0.728, 0.876, 0.7719999999999999, 0.596, 0.564, 0.544, 0.7839999999999999, 0.7, 0.524, 0.4720000000000001, 0.476, 0.724, 0.508, 0.352, 0.27199999999999996, 0.26399999999999996, 0.352]\n",
      "BEST PARAMETER IS:  [7.34689337 0.36228899]\n",
      "THE BEST ACCURACY IS:  0.9120000000000001\n",
      "================================================================================\n",
      "FINAL ACCURACY IS:  [0.9080000000000001, 0.916, 0.9, 0.9080000000000001, 0.516, 0.8960000000000001, 0.868, 0.8640000000000001, 0.8320000000000001, 0.8320000000000001, 0.8560000000000001, 0.7759999999999999, 0.728, 0.732, 0.3, 0.7999999999999999, 0.7, 0.6399999999999999, 0.6240000000000001, 0.5319999999999999, 0.688, 0.508, 0.484, 0.492, 0.32, 0.516, 0.32, 0.288, 0.284, 0.26399999999999996]\n",
      "BEST PARAMETER IS:  [14.42110793  0.59569377]\n",
      "THE BEST ACCURACY IS:  0.916\n",
      "================================================================================\n",
      "FINAL ACCURACY IS:  [0.916, 0.9, 0.9120000000000001, 0.9080000000000001, 0.27599999999999997, 0.8960000000000001, 0.8640000000000001, 0.86, 0.852, 0.27199999999999996, 0.8560000000000001, 0.7759999999999999, 0.7719999999999999, 0.732, 0.476, 0.7799999999999999, 0.6399999999999999, 0.636, 0.5319999999999999, 0.296, 0.688, 0.508, 0.492, 0.4879999999999999, 0.26399999999999996, 0.5319999999999999, 0.308, 0.288, 0.292, 0.39599999999999996]\n",
      "BEST PARAMETER IS:  [5.97101315 0.31395831]\n",
      "THE BEST ACCURACY IS:  0.916\n",
      "================================================================================\n",
      "FINAL ACCURACY IS:  [0.9199999999999999, 0.9080000000000001, 0.9080000000000001, 0.9039999999999999, 0.42799999999999994, 0.892, 0.86, 0.8560000000000001, 0.8560000000000001, 0.27599999999999997, 0.836, 0.7759999999999999, 0.7559999999999999, 0.7, 0.7919999999999999, 0.732, 0.5319999999999999, 0.5319999999999999, 0.524, 0.25999999999999995, 0.62, 0.4720000000000001, 0.42799999999999994, 0.352, 0.284, 0.516, 0.292, 0.27599999999999997, 0.284, 0.8320000000000001]\n",
      "BEST PARAMETER IS:  [5.48960299 0.29860598]\n",
      "THE BEST ACCURACY IS:  0.9199999999999999\n",
      "================================================================================\n",
      "FINAL ACCURACY IS:  [0.924, 0.9039999999999999, 0.9039999999999999, 0.9120000000000001, 0.5319999999999999, 0.9040000000000001, 0.86, 0.86, 0.852, 0.41200000000000003, 0.8560000000000001, 0.7759999999999999, 0.7679999999999999, 0.74, 0.5319999999999999, 0.74, 0.552, 0.5319999999999999, 0.5319999999999999, 0.6799999999999999, 0.6240000000000001, 0.42799999999999994, 0.43200000000000005, 0.356, 0.4800000000000001, 0.5039999999999999, 0.284, 0.27599999999999997, 0.27599999999999997, 0.43200000000000005]\n",
      "BEST PARAMETER IS:  [5.05609644 0.29297479]\n",
      "THE BEST ACCURACY IS:  0.924\n",
      "================================================================================\n",
      "FINAL ACCURACY IS:  [0.932, 0.9080000000000001, 0.9, 0.9, 0.696, 0.892, 0.86, 0.8560000000000001, 0.852, 0.296, 0.8320000000000001, 0.7559999999999999, 0.7519999999999999, 0.6799999999999999, 0.552, 0.74, 0.5319999999999999, 0.5319999999999999, 0.5319999999999999, 0.7759999999999999, 0.692, 0.492, 0.45599999999999985, 0.45599999999999985, 0.648, 0.5319999999999999, 0.376, 0.284, 0.27999999999999997, 0.4720000000000001]\n",
      "BEST PARAMETER IS:  [4.47958971 0.27221012]\n",
      "THE BEST ACCURACY IS:  0.932\n",
      "================================================================================\n",
      "FINAL ACCURACY IS:  [0.9200000000000002, 0.916, 0.9039999999999999, 0.9, 0.352, 0.892, 0.8560000000000001, 0.852, 0.8320000000000001, 0.27199999999999996, 0.8320000000000001, 0.7559999999999999, 0.74, 0.696, 0.27199999999999996, 0.7799999999999999, 0.664, 0.6, 0.564, 0.7839999999999999, 0.728, 0.5319999999999999, 0.492, 0.5039999999999999, 0.39999999999999997, 0.5559999999999999, 0.39599999999999996, 0.356, 0.3, 0.356]\n",
      "BEST PARAMETER IS:  [4.26109098 0.31464465]\n",
      "THE BEST ACCURACY IS:  0.9200000000000002\n",
      "================================================================================\n",
      "FINAL ACCURACY IS:  [0.9280000000000002, 0.916, 0.9080000000000001, 0.9120000000000001, 0.9080000000000001, 0.892, 0.852, 0.8320000000000001, 0.8400000000000001, 0.636, 0.852, 0.7559999999999999, 0.74, 0.728, 0.524, 0.7759999999999999, 0.6240000000000001, 0.6080000000000001, 0.6, 0.6240000000000001, 0.648, 0.492, 0.40800000000000003, 0.42799999999999994, 0.44000000000000006, 0.5319999999999999, 0.352, 0.32, 0.27599999999999997, 0.7839999999999999]\n",
      "BEST PARAMETER IS:  [3.99899247 0.30982138]\n",
      "THE BEST ACCURACY IS:  0.9280000000000002\n",
      "================================================================================\n",
      "FINAL ACCURACY IS:  [0.9400000000000001, 0.916, 0.9120000000000001, 0.9080000000000001, 0.43200000000000005, 0.9, 0.8560000000000001, 0.868, 0.8720000000000001, 0.4720000000000001, 0.8640000000000001, 0.7759999999999999, 0.7599999999999999, 0.7519999999999999, 0.352, 0.808, 0.6399999999999999, 0.6240000000000001, 0.6240000000000001, 0.8160000000000001, 0.728, 0.5559999999999999, 0.5319999999999999, 0.5319999999999999, 0.36, 0.596, 0.41600000000000004, 0.356, 0.356, 0.8560000000000001]\n",
      "BEST PARAMETER IS:  [3.01762471 0.22100305]\n",
      "THE BEST ACCURACY IS:  0.9400000000000001\n",
      "================================================================================\n",
      "FINAL ACCURACY IS:  [0.9359999999999999, 0.916, 0.9200000000000002, 0.9080000000000001, 0.5760000000000001, 0.8960000000000001, 0.868, 0.8640000000000001, 0.8640000000000001, 0.352, 0.868, 0.808, 0.7839999999999999, 0.7839999999999999, 0.36, 0.8160000000000001, 0.664, 0.6240000000000001, 0.676, 0.544, 0.728, 0.5319999999999999, 0.5319999999999999, 0.4800000000000001, 0.656, 0.6, 0.376, 0.36, 0.372, 0.7439999999999999]\n",
      "BEST PARAMETER IS:  [3.09297211 0.24991281]\n",
      "THE BEST ACCURACY IS:  0.9359999999999999\n",
      "================================================================================\n",
      "FINAL ACCURACY IS:  [0.944, 0.9280000000000002, 0.9200000000000002, 0.916, 0.376, 0.8960000000000001, 0.868, 0.8640000000000001, 0.8640000000000001, 0.564, 0.8640000000000001, 0.7919999999999999, 0.7879999999999999, 0.7759999999999999, 0.692, 0.8160000000000001, 0.668, 0.6599999999999999, 0.6399999999999999, 0.828, 0.732, 0.5559999999999999, 0.5399999999999999, 0.544, 0.884, 0.6, 0.372, 0.368, 0.368, 0.7719999999999999]\n",
      "BEST PARAMETER IS:  [2.72535238 0.22857928]\n",
      "THE BEST ACCURACY IS:  0.944\n",
      "================================================================================\n",
      "FINAL ACCURACY IS:  [0.944, 0.9359999999999999, 0.9280000000000002, 0.916, 0.392, 0.8960000000000001, 0.876, 0.8640000000000001, 0.868, 0.6240000000000001, 0.8800000000000001, 0.8160000000000001, 0.8240000000000001, 0.8160000000000001, 0.9039999999999999, 0.8320000000000001, 0.74, 0.728, 0.688, 0.368, 0.7759999999999999, 0.6080000000000001, 0.596, 0.6, 0.368, 0.6240000000000001, 0.376, 0.43200000000000005, 0.384, 0.42400000000000004]\n",
      "BEST PARAMETER IS:  [2.53338657 0.22406843]\n",
      "THE BEST ACCURACY IS:  0.944\n",
      "================================================================================\n",
      "FINAL ACCURACY IS:  [0.944, 0.9359999999999999, 0.9359999999999999, 0.9200000000000002, 0.564, 0.9039999999999999, 0.884, 0.876, 0.884, 0.8320000000000001, 0.884, 0.8240000000000001, 0.8240000000000001, 0.8320000000000001, 0.5319999999999999, 0.828, 0.728, 0.704, 0.6399999999999999, 0.484, 0.728, 0.6, 0.6, 0.484, 0.39999999999999997, 0.6080000000000001, 0.388, 0.38, 0.368, 0.376]\n",
      "BEST PARAMETER IS:  [2.10956828 0.18243464]\n",
      "THE BEST ACCURACY IS:  0.944\n",
      "================================================================================\n",
      "FINAL ACCURACY IS:  [0.9400000000000001, 0.944, 0.9359999999999999, 0.9359999999999999, 0.36, 0.8960000000000001, 0.884, 0.884, 0.876, 0.536, 0.8800000000000001, 0.828, 0.828, 0.8240000000000001, 0.6240000000000001, 0.828, 0.72, 0.688, 0.664, 0.7879999999999999, 0.728, 0.5760000000000001, 0.5319999999999999, 0.524, 0.492, 0.612, 0.392, 0.38, 0.388, 0.42400000000000004]\n",
      "BEST PARAMETER IS:  [2.73176516 0.2187231 ]\n",
      "THE BEST ACCURACY IS:  0.944\n",
      "================================================================================\n",
      "FINAL ACCURACY IS:  [0.9400000000000001, 0.944, 0.9359999999999999, 0.9359999999999999, 0.72, 0.8960000000000001, 0.884, 0.8800000000000001, 0.876, 0.42799999999999994, 0.876, 0.828, 0.8240000000000001, 0.7919999999999999, 0.884, 0.828, 0.696, 0.688, 0.628, 0.8960000000000001, 0.728, 0.5399999999999999, 0.5319999999999999, 0.524, 0.7639999999999999, 0.6240000000000001, 0.392, 0.39599999999999996, 0.39599999999999996, 0.36]\n",
      "BEST PARAMETER IS:  [2.19606689 0.1924605 ]\n",
      "THE BEST ACCURACY IS:  0.944\n",
      "================================================================================\n",
      "FINAL ACCURACY IS:  [0.9400000000000001, 0.9400000000000001, 0.9400000000000001, 0.9359999999999999, 0.43200000000000005, 0.9, 0.884, 0.892, 0.884, 0.6240000000000001, 0.884, 0.828, 0.828, 0.8320000000000001, 0.7799999999999999, 0.8320000000000001, 0.74, 0.728, 0.728, 0.728, 0.7719999999999999, 0.6240000000000001, 0.552, 0.5559999999999999, 0.4959999999999999, 0.6240000000000001, 0.39599999999999996, 0.39999999999999997, 0.39599999999999996, 0.364]\n",
      "BEST PARAMETER IS:  [1.76297961 0.17745608]\n",
      "THE BEST ACCURACY IS:  0.9400000000000001\n",
      "================================================================================\n",
      "FINAL ACCURACY IS:  [0.944, 0.9400000000000001, 0.944, 0.944, 0.7839999999999999, 0.9039999999999999, 0.884, 0.884, 0.884, 0.476, 0.884, 0.828, 0.8320000000000001, 0.8160000000000001, 0.724, 0.8320000000000001, 0.728, 0.728, 0.732, 0.5399999999999999, 0.7719999999999999, 0.6240000000000001, 0.564, 0.5559999999999999, 0.7759999999999999, 0.6240000000000001, 0.41600000000000004, 0.4119999999999999, 0.41200000000000003, 0.5319999999999999]\n",
      "BEST PARAMETER IS:  [1.52878161 0.15489288]\n",
      "THE BEST ACCURACY IS:  0.944\n",
      "================================================================================\n",
      "FINAL ACCURACY IS:  [0.944, 0.944, 0.944, 0.9400000000000001, 0.828, 0.9039999999999999, 0.884, 0.884, 0.884, 0.40800000000000003, 0.884, 0.828, 0.828, 0.7919999999999999, 0.5319999999999999, 0.8480000000000001, 0.732, 0.728, 0.728, 0.39999999999999997, 0.7759999999999999, 0.6240000000000001, 0.6, 0.5559999999999999, 0.8560000000000001, 0.676, 0.492, 0.45599999999999985, 0.42400000000000004, 0.5920000000000001]\n",
      "BEST PARAMETER IS:  [1.48511125 0.15575751]\n",
      "THE BEST ACCURACY IS:  0.944\n",
      "================================================================================\n",
      "FINAL ACCURACY IS:  [0.9480000000000001, 0.944, 0.9400000000000001, 0.944, 0.42799999999999994, 0.9039999999999999, 0.884, 0.884, 0.884, 0.42400000000000004, 0.884, 0.828, 0.8320000000000001, 0.8320000000000001, 0.6, 0.8560000000000001, 0.7439999999999999, 0.732, 0.74, 0.6, 0.7759999999999999, 0.6, 0.596, 0.596, 0.376, 0.6599999999999999, 0.46799999999999997, 0.45599999999999985, 0.42799999999999994, 0.5319999999999999]\n",
      "BEST PARAMETER IS:  [1.42991108 0.15532326]\n",
      "THE BEST ACCURACY IS:  0.9480000000000001\n",
      "================================================================================\n",
      "FINAL ACCURACY IS:  [0.944, 0.944, 0.944, 0.9400000000000001, 0.8960000000000001, 0.9039999999999999, 0.884, 0.8880000000000001, 0.884, 0.352, 0.884, 0.8320000000000001, 0.828, 0.7839999999999999, 0.36, 0.828, 0.732, 0.676, 0.656, 0.892, 0.7519999999999999, 0.596, 0.596, 0.5559999999999999, 0.8160000000000001, 0.6399999999999999, 0.43200000000000005, 0.42799999999999994, 0.42799999999999994, 0.86]\n",
      "BEST PARAMETER IS:  [1.27014657 0.14613961]\n",
      "THE BEST ACCURACY IS:  0.944\n",
      "================================================================================\n",
      "FINAL ACCURACY IS:  [0.944, 0.9400000000000001, 0.944, 0.9400000000000001, 0.476, 0.9039999999999999, 0.892, 0.884, 0.892, 0.42799999999999994, 0.9, 0.868, 0.8320000000000001, 0.8320000000000001, 0.4959999999999999, 0.86, 0.7919999999999999, 0.7679999999999999, 0.732, 0.508, 0.7919999999999999, 0.648, 0.612, 0.6080000000000001, 0.9039999999999999, 0.6240000000000001, 0.42799999999999994, 0.42799999999999994, 0.388, 0.7]\n",
      "BEST PARAMETER IS:  [1.23253654 0.14487612]\n",
      "THE BEST ACCURACY IS:  0.944\n",
      "================================================================================\n",
      "FINAL ACCURACY IS:  [0.9360000000000002, 0.9480000000000001, 0.9400000000000001, 0.944, 0.492, 0.9080000000000001, 0.9040000000000001, 0.9040000000000001, 0.8960000000000001, 0.508, 0.892, 0.86, 0.8320000000000001, 0.8320000000000001, 0.492, 0.8400000000000001, 0.7719999999999999, 0.74, 0.728, 0.596, 0.7679999999999999, 0.6240000000000001, 0.6080000000000001, 0.5319999999999999, 0.484, 0.6519999999999999, 0.42799999999999994, 0.44000000000000006, 0.44799999999999995, 0.7759999999999999]\n",
      "BEST PARAMETER IS:  [1.39674516 0.15266929]\n",
      "THE BEST ACCURACY IS:  0.9480000000000001\n",
      "================================================================================\n",
      "FINAL ACCURACY IS:  [0.9280000000000002, 0.944, 0.9400000000000001, 0.9360000000000002, 0.4879999999999999, 0.9039999999999999, 0.9040000000000001, 0.8960000000000001, 0.892, 0.484, 0.8880000000000001, 0.8320000000000001, 0.8320000000000001, 0.8039999999999999, 0.42799999999999994, 0.8320000000000001, 0.74, 0.74, 0.6719999999999999, 0.892, 0.74, 0.596, 0.544, 0.524, 0.6519999999999999, 0.692, 0.4879999999999999, 0.45999999999999996, 0.4720000000000001, 0.656]\n",
      "BEST PARAMETER IS:  [1.53836343 0.16211427]\n",
      "THE BEST ACCURACY IS:  0.944\n",
      "================================================================================\n",
      "FINAL ACCURACY IS:  [0.9480000000000001, 0.9400000000000001, 0.944, 0.932, 0.544, 0.9080000000000001, 0.8960000000000001, 0.8960000000000001, 0.8960000000000001, 0.564, 0.884, 0.8320000000000001, 0.8320000000000001, 0.808, 0.564, 0.8320000000000001, 0.74, 0.72, 0.7, 0.728, 0.7599999999999999, 0.604, 0.564, 0.5399999999999999, 0.74, 0.692, 0.484, 0.4720000000000001, 0.476, 0.42799999999999994]\n",
      "BEST PARAMETER IS:  [1.24883548 0.16947945]\n",
      "THE BEST ACCURACY IS:  0.9480000000000001\n",
      "================================================================================\n",
      "FINAL ACCURACY IS:  [0.9280000000000002, 0.9480000000000001, 0.944, 0.932, 0.7599999999999999, 0.9039999999999999, 0.892, 0.892, 0.9, 0.5559999999999999, 0.876, 0.8320000000000001, 0.8240000000000001, 0.7959999999999999, 0.4959999999999999, 0.8320000000000001, 0.728, 0.724, 0.724, 0.42799999999999994, 0.7719999999999999, 0.596, 0.5920000000000001, 0.596, 0.828, 0.704, 0.492, 0.5039999999999999, 0.4800000000000001, 0.42799999999999994]\n",
      "BEST PARAMETER IS:  [1.26922463 0.15077345]\n",
      "THE BEST ACCURACY IS:  0.9480000000000001\n",
      "================================================================================\n",
      "FINAL ACCURACY IS:  [0.9280000000000002, 0.944, 0.932, 0.932, 0.9, 0.9, 0.8960000000000001, 0.8960000000000001, 0.884, 0.9039999999999999, 0.884, 0.8320000000000001, 0.828, 0.808, 0.884, 0.8320000000000001, 0.728, 0.728, 0.728, 0.72, 0.7679999999999999, 0.596, 0.5920000000000001, 0.564, 0.6080000000000001, 0.696, 0.492, 0.484, 0.476, 0.492]\n",
      "BEST PARAMETER IS:  [1.51660194 0.16456352]\n",
      "THE BEST ACCURACY IS:  0.944\n",
      "================================================================================\n",
      "FINAL ACCURACY IS:  [0.9280000000000002, 0.9400000000000001, 0.9400000000000001, 0.932, 0.5319999999999999, 0.9120000000000001, 0.9, 0.892, 0.8960000000000001, 0.43200000000000005, 0.892, 0.884, 0.8560000000000001, 0.8560000000000001, 0.892, 0.8560000000000001, 0.7719999999999999, 0.728, 0.7599999999999999, 0.7879999999999999, 0.808, 0.696, 0.6240000000000001, 0.596, 0.892, 0.728, 0.508, 0.516, 0.524, 0.6080000000000001]\n",
      "BEST PARAMETER IS:  [1.12409709 0.13139787]\n",
      "THE BEST ACCURACY IS:  0.9400000000000001\n",
      "================================================================================\n",
      "FINAL ACCURACY IS:  [0.924, 0.9400000000000001, 0.9360000000000002, 0.9280000000000002, 0.7879999999999999, 0.9199999999999999, 0.8960000000000001, 0.8960000000000001, 0.892, 0.516, 0.8960000000000001, 0.892, 0.8560000000000001, 0.8640000000000001, 0.828, 0.8640000000000001, 0.7959999999999999, 0.7719999999999999, 0.7719999999999999, 0.524, 0.8160000000000001, 0.7, 0.6240000000000001, 0.6080000000000001, 0.544, 0.728, 0.524, 0.524, 0.524, 0.44000000000000006]\n",
      "BEST PARAMETER IS:  [1.12670926 0.13470986]\n",
      "THE BEST ACCURACY IS:  0.9400000000000001\n",
      "================================================================================\n",
      "FINAL ACCURACY IS:  [0.924, 0.9360000000000002, 0.9280000000000002, 0.924, 0.524, 0.924, 0.8960000000000001, 0.8960000000000001, 0.892, 0.596, 0.8960000000000001, 0.8640000000000001, 0.8560000000000001, 0.828, 0.484, 0.8640000000000001, 0.7919999999999999, 0.7759999999999999, 0.7719999999999999, 0.892, 0.7839999999999999, 0.636, 0.6240000000000001, 0.5559999999999999, 0.564, 0.728, 0.524, 0.524, 0.524, 0.7839999999999999]\n",
      "BEST PARAMETER IS:  [1.07066943 0.13089753]\n",
      "THE BEST ACCURACY IS:  0.9360000000000002\n",
      "================================================================================\n",
      "FINAL ACCURACY IS:  [0.9279999999999999, 0.9280000000000002, 0.9280000000000002, 0.9280000000000002, 0.728, 0.9199999999999999, 0.8960000000000001, 0.8960000000000001, 0.892, 0.524, 0.892, 0.8640000000000001, 0.8640000000000001, 0.8320000000000001, 0.7479999999999999, 0.8640000000000001, 0.7839999999999999, 0.7759999999999999, 0.7719999999999999, 0.8160000000000001, 0.7839999999999999, 0.6240000000000001, 0.6, 0.604, 0.688, 0.728, 0.524, 0.524, 0.524, 0.6240000000000001]\n",
      "BEST PARAMETER IS:  [0.90815664 0.12604944]\n",
      "THE BEST ACCURACY IS:  0.9280000000000002\n",
      "================================================================================\n",
      "FINAL ACCURACY IS:  [0.9239999999999998, 0.9280000000000002, 0.9280000000000002, 0.924, 0.724, 0.9080000000000001, 0.892, 0.8960000000000001, 0.9040000000000001, 0.596, 0.884, 0.8640000000000001, 0.8400000000000001, 0.828, 0.8640000000000001, 0.8640000000000001, 0.7799999999999999, 0.7759999999999999, 0.7559999999999999, 0.808, 0.8240000000000001, 0.704, 0.6439999999999999, 0.6240000000000001, 0.656, 0.728, 0.544, 0.5319999999999999, 0.5319999999999999, 0.7719999999999999]\n",
      "BEST PARAMETER IS:  [0.82534433 0.11167803]\n",
      "THE BEST ACCURACY IS:  0.9280000000000002\n",
      "================================================================================\n",
      "FINAL ACCURACY IS:  [0.924, 0.9280000000000002, 0.924, 0.924, 0.828, 0.9080000000000001, 0.892, 0.892, 0.892, 0.892, 0.892, 0.8640000000000001, 0.852, 0.828, 0.5319999999999999, 0.868, 0.7839999999999999, 0.7839999999999999, 0.7759999999999999, 0.596, 0.828, 0.728, 0.72, 0.688, 0.6240000000000001, 0.7679999999999999, 0.6080000000000001, 0.5559999999999999, 0.5319999999999999, 0.596]\n",
      "BEST PARAMETER IS:  [0.85467576 0.11597992]\n",
      "THE BEST ACCURACY IS:  0.9280000000000002\n",
      "================================================================================\n",
      "FINAL ACCURACY IS:  [0.924, 0.924, 0.924, 0.924, 0.732, 0.9120000000000001, 0.8960000000000001, 0.892, 0.9, 0.6439999999999999, 0.9, 0.8640000000000001, 0.852, 0.8320000000000001, 0.9359999999999999, 0.876, 0.7999999999999999, 0.7879999999999999, 0.7959999999999999, 0.7519999999999999, 0.8320000000000001, 0.72, 0.692, 0.628, 0.9199999999999999, 0.7679999999999999, 0.596, 0.5559999999999999, 0.5559999999999999, 0.688]\n",
      "BEST PARAMETER IS:  [1.42496585 0.28389456]\n",
      "THE BEST ACCURACY IS:  0.9359999999999999\n",
      "================================================================================\n",
      "FINAL ACCURACY IS:  [0.868, 0.924, 0.924, 0.9400000000000001, 0.676, 0.9280000000000002, 0.9120000000000001, 0.892, 0.892, 0.564, 0.892, 0.884, 0.8800000000000001, 0.876, 0.6399999999999999, 0.876, 0.8039999999999999, 0.8039999999999999, 0.7879999999999999, 0.8320000000000001, 0.8320000000000001, 0.736, 0.728, 0.728, 0.5319999999999999, 0.7839999999999999, 0.6399999999999999, 0.604, 0.596, 0.5319999999999999]\n",
      "BEST PARAMETER IS:  [1.02114108 0.1767881 ]\n",
      "THE BEST ACCURACY IS:  0.9400000000000001\n",
      "================================================================================\n",
      "FINAL ACCURACY IS:  [0.9280000000000002, 0.9400000000000001, 0.924, 0.932, 0.8640000000000001, 0.9120000000000001, 0.892, 0.8960000000000001, 0.884, 0.664, 0.9, 0.876, 0.9359999999999999, 0.8400000000000001, 0.612, 0.8720000000000001, 0.8039999999999999, 0.7919999999999999, 0.7839999999999999, 0.5920000000000001, 0.828, 0.728, 0.7, 0.664, 0.704, 0.7679999999999999, 0.6, 0.596, 0.5319999999999999, 0.596]\n",
      "BEST PARAMETER IS:  [1.83863076 0.35547253]\n",
      "THE BEST ACCURACY IS:  0.9400000000000001\n",
      "================================================================================\n"
     ]
    }
   ],
   "source": [
    "EHO(50, X_train_new_standardized, Y_train)"
   ]
  },
  {
   "cell_type": "code",
   "execution_count": 38,
   "metadata": {
    "colab": {
     "base_uri": "https://localhost:8080/"
    },
    "id": "_MizLeBJ0CJJ",
    "outputId": "86a447e9-e29c-4bf8-8a7e-03c472ecc6ef"
   },
   "outputs": [
    {
     "name": "stdout",
     "output_type": "stream",
     "text": [
      "[LibSVM]The TESTING ACCURACY IS:-  0.88\n",
      "The TRAINING ACCURACY IS:-  0.964\n"
     ]
    }
   ],
   "source": [
    "from sklearn.svm import SVC\n",
    "from sklearn.metrics import accuracy_score\n",
    "\n",
    "'''\n",
    "[1.24883548, 0.16947945]  --> (Testing = 0.86, Training = 0.964) --> (top priority as it gave 94.8% accuracy in 10 fold CV)\n",
    "\n",
    "[144.193097,   2.719282] --> (Testing = 0.8, Training = 1) --> (Starting parameters, HIGHLY OVERFITTING)\n",
    "\n",
    "[1.83863076, 0.35547253] --> (Testing = 0.86, Training = 0.976) --> (2nd best priority as it gave 94% accuracy in 10 fold CV)\n",
    "\n",
    "[1.12409709, 0.13139787] --> (Testing = 0.88, Training = 0.964) --> (top priority as it gave 94.4% accuracy in 10 fold CV)\n",
    "'''\n",
    "\n",
    "clf = SVC(kernel = 'rbf', C = 1.12409709, gamma = 0.13139787, verbose = 1)\n",
    "clf.fit(X_train_new_standardized, Y_train)\n",
    "\n",
    "test_predicted_output = clf.predict(X_test_new_standardized)\n",
    "train_predicted_output = clf.predict(X_train_new_standardized)\n",
    "\n",
    "testing_accuracy = accuracy_score(Y_test, test_predicted_output)\n",
    "training_accuracy = accuracy_score(Y_train, train_predicted_output)\n",
    "\n",
    "print(\"The TESTING ACCURACY IS:- \", testing_accuracy)\n",
    "print('The TRAINING ACCURACY IS:- ', training_accuracy)"
   ]
  },
  {
   "cell_type": "code",
   "execution_count": 41,
   "metadata": {
    "id": "veOChb1V0CMR"
   },
   "outputs": [],
   "source": [
    "def plot_confusion_matrix(test_y, predict_y):\n",
    "\n",
    "    from sklearn.metrics import confusion_matrix\n",
    "\n",
    "    C = confusion_matrix(test_y, predict_y)\n",
    "\n",
    "    print(\"Number of misclassified points \",(len(test_y)-np.trace(C))/len(test_y)*100, '%')\n",
    "\n",
    "\n",
    "    labels = [0,1,2,3,4,5]\n",
    "    cmap=sns.light_palette(\"green\")\n",
    "\n",
    "    '''\n",
    "    CONFUSION MATRIX\n",
    "    '''\n",
    "    print(\"-\"*50, \"Confusion matrix\", \"-\"*50)\n",
    "    plt.figure(figsize=(10,5))\n",
    "    sns.heatmap(C, annot=True, cmap=cmap, fmt=\".3f\", xticklabels=labels, yticklabels=labels)\n",
    "    plt.xlabel('Predicted Class')\n",
    "    plt.ylabel('Original Class')\n",
    "    plt.show()"
   ]
  },
  {
   "cell_type": "code",
   "execution_count": 42,
   "metadata": {
    "colab": {
     "base_uri": "https://localhost:8080/",
     "height": 368
    },
    "id": "lg4QPYqXqQVd",
    "outputId": "ca18da93-5f98-48f1-b268-b2df6f7e995d"
   },
   "outputs": [
    {
     "name": "stdout",
     "output_type": "stream",
     "text": [
      "Number of misclassified points  3.5999999999999996 %\n",
      "-------------------------------------------------- Confusion matrix --------------------------------------------------\n"
     ]
    },
    {
     "data": {
      "image/png": "[encoded data removed]",
      "text/plain": [
       "<Figure size 720x360 with 2 Axes>"
      ]
     },
     "metadata": {
      "needs_background": "light",
      "tags": []
     },
     "output_type": "display_data"
    }
   ],
   "source": [
    "'''\n",
    "FOR TRAINING DATA POINTS\n",
    "'''\n",
    "plot_confusion_matrix(Y_train, train_predicted_output)"
   ]
  },
  {
   "cell_type": "code",
   "execution_count": 43,
   "metadata": {
    "colab": {
     "base_uri": "https://localhost:8080/",
     "height": 372
    },
    "id": "-2h70sGo09oK",
    "outputId": "eb70dc42-524c-4f8a-f596-7fec8a3e2e4d"
   },
   "outputs": [
    {
     "name": "stdout",
     "output_type": "stream",
     "text": [
      "Number of misclassified points  12.0 %\n",
      "-------------------------------------------------- Confusion matrix --------------------------------------------------\n"
     ]
    },
    {
     "data": {
      "image/png": "[encoded data removed]",
      "text/plain": [
       "<Figure size 720x360 with 2 Axes>"
      ]
     },
     "metadata": {
      "needs_background": "light",
      "tags": []
     },
     "output_type": "display_data"
    }
   ],
   "source": [
    "'''\n",
    "FOR TESTING DATA POINTS\n",
    "'''\n",
    "plot_confusion_matrix(Y_test, test_predicted_output)"
   ]
  },
  {
   "cell_type": "code",
   "execution_count": null,
   "metadata": {
    "id": "0bRf-e7y09q8"
   },
   "outputs": [],
   "source": []
  },
  {
   "cell_type": "code",
   "execution_count": null,
   "metadata": {
    "id": "6V_Dlapk09t9"
   },
   "outputs": [],
   "source": []
  }
 ],
 "metadata": {
  "colab": {
   "collapsed_sections": [],
   "name": "Elephant Herding Optimization with Actual Data.ipynb",
   "provenance": []
  },
  "kernelspec": {
   "display_name": "Python 3 (ipykernel)",
   "language": "python",
   "name": "python3"
  },
  "language_info": {
   "codemirror_mode": {
    "name": "ipython",
    "version": 3
   },
   "file_extension": ".py",
   "mimetype": "text/x-python",
   "name": "python",
   "nbconvert_exporter": "python",
   "pygments_lexer": "ipython3",
   "version": "3.9.12"
  }
 },
 "nbformat": 4,
 "nbformat_minor": 1
}
