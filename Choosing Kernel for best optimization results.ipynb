{
 "cells": [
  {
   "cell_type": "code",
   "execution_count": 12,
   "metadata": {
    "id": "dGkXKCm09joO"
   },
   "outputs": [],
   "source": [
    "import numpy as np\n",
    "import pandas as pd\n",
    "import matplotlib.pyplot as plt\n",
    "import seaborn as sns\n",
    "from random import randint\n",
    "import math\n",
    "import warnings\n",
    "warnings.filterwarnings(\"ignore\")"
   ]
  },
  {
   "cell_type": "code",
   "execution_count": 13,
   "metadata": {
    "colab": {
     "base_uri": "https://localhost:8080/"
    },
    "id": "mwIjBI3-d8QL",
    "outputId": "e34545c8-af56-41b9-8fc4-0858dcc4b680"
   },
   "outputs": [
    {
     "name": "stdout",
     "output_type": "stream",
     "text": [
      "Drive already mounted at /content/drive; to attempt to forcibly remount, call drive.mount(\"/content/drive\", force_remount=True).\n"
     ]
    }
   ],
   "source": [
    "from google.colab import drive\n",
    "drive.mount('/content/drive')"
   ]
  },
  {
   "cell_type": "code",
   "execution_count": 14,
   "metadata": {
    "colab": {
     "base_uri": "https://localhost:8080/"
    },
    "id": "dhvwv7tv9_QV",
    "outputId": "dcd65bfb-7024-4985-889c-8e1efaaa618e"
   },
   "outputs": [
    {
     "name": "stdout",
     "output_type": "stream",
     "text": [
      "(250, 11)\n",
      "(50, 11)\n",
      "The Datasets have been loaded...\n"
     ]
    }
   ],
   "source": [
    "final_training_df = pd.read_csv(r'/content/drive/MyDrive/Research Paper/DATA/final_training_df.csv')\n",
    "final_testing_df = pd.read_csv(r'/content/drive/MyDrive/Research Paper/DATA/final_testing_df.csv')\n",
    "\n",
    "print(final_training_df.shape)\n",
    "print(final_testing_df.shape)\n",
    "print(\"The Datasets have been loaded...\")"
   ]
  },
  {
   "cell_type": "code",
   "execution_count": 15,
   "metadata": {
    "colab": {
     "base_uri": "https://localhost:8080/"
    },
    "id": "UxhOEcfj-DfH",
    "outputId": "9b52140e-cf40-4bb0-d36c-098904ad411e"
   },
   "outputs": [
    {
     "name": "stdout",
     "output_type": "stream",
     "text": [
      "(250, 10) (250,)\n",
      "(50, 10) (50,)\n"
     ]
    }
   ],
   "source": [
    "X_train = final_training_df.drop(['condition'], axis = 1)\n",
    "Y_train = final_training_df['condition']\n",
    "\n",
    "Y_train = np.array(Y_train)\n",
    "\n",
    "X_test = final_testing_df.drop(['condition'], axis = 1)\n",
    "Y_test = final_testing_df['condition']\n",
    "\n",
    "Y_test = np.array(Y_test)\n",
    "\n",
    "print(X_train.shape, Y_train.shape)\n",
    "print(X_test.shape, Y_test.shape)"
   ]
  },
  {
   "cell_type": "code",
   "execution_count": 16,
   "metadata": {
    "colab": {
     "base_uri": "https://localhost:8080/",
     "height": 205
    },
    "id": "j3hxdKS9-jKX",
    "outputId": "92992ceb-368e-4d21-cc70-4bd59a0458cf"
   },
   "outputs": [
    {
     "data": {
      "text/html": [
       "<div>\n",
       "<style scoped>\n",
       "    .dataframe tbody tr th:only-of-type {\n",
       "        vertical-align: middle;\n",
       "    }\n",
       "\n",
       "    .dataframe tbody tr th {\n",
       "        vertical-align: top;\n",
       "    }\n",
       "\n",
       "    .dataframe thead th {\n",
       "        text-align: right;\n",
       "    }\n",
       "</style>\n",
       "<table border=\"1\" class=\"dataframe\">\n",
       "  <thead>\n",
       "    <tr style=\"text-align: right;\">\n",
       "      <th></th>\n",
       "      <th>Mean</th>\n",
       "      <th>SD</th>\n",
       "      <th>Kurtosis</th>\n",
       "      <th>sum</th>\n",
       "      <th>Skewness</th>\n",
       "      <th>max</th>\n",
       "      <th>min</th>\n",
       "      <th>range</th>\n",
       "      <th>RMS</th>\n",
       "      <th>Shape factor</th>\n",
       "    </tr>\n",
       "  </thead>\n",
       "  <tbody>\n",
       "    <tr>\n",
       "      <th>0</th>\n",
       "      <td>-1.166491</td>\n",
       "      <td>-0.641888</td>\n",
       "      <td>-0.631950</td>\n",
       "      <td>-1.166651</td>\n",
       "      <td>0.326382</td>\n",
       "      <td>-0.407618</td>\n",
       "      <td>1.058829</td>\n",
       "      <td>-0.740012</td>\n",
       "      <td>0.033720</td>\n",
       "      <td>-0.413015</td>\n",
       "    </tr>\n",
       "    <tr>\n",
       "      <th>1</th>\n",
       "      <td>0.389329</td>\n",
       "      <td>0.830822</td>\n",
       "      <td>1.604929</td>\n",
       "      <td>0.389247</td>\n",
       "      <td>0.082017</td>\n",
       "      <td>1.090784</td>\n",
       "      <td>-1.204128</td>\n",
       "      <td>1.196487</td>\n",
       "      <td>0.744678</td>\n",
       "      <td>-0.432032</td>\n",
       "    </tr>\n",
       "    <tr>\n",
       "      <th>2</th>\n",
       "      <td>1.439655</td>\n",
       "      <td>-0.488640</td>\n",
       "      <td>0.576646</td>\n",
       "      <td>1.439758</td>\n",
       "      <td>1.949726</td>\n",
       "      <td>0.773832</td>\n",
       "      <td>0.418404</td>\n",
       "      <td>0.236606</td>\n",
       "      <td>0.108506</td>\n",
       "      <td>-0.619835</td>\n",
       "    </tr>\n",
       "    <tr>\n",
       "      <th>3</th>\n",
       "      <td>-0.641116</td>\n",
       "      <td>-0.718663</td>\n",
       "      <td>-0.972769</td>\n",
       "      <td>-0.641185</td>\n",
       "      <td>-0.538460</td>\n",
       "      <td>-1.190899</td>\n",
       "      <td>0.873037</td>\n",
       "      <td>-1.093864</td>\n",
       "      <td>-0.003179</td>\n",
       "      <td>-0.486737</td>\n",
       "    </tr>\n",
       "    <tr>\n",
       "      <th>4</th>\n",
       "      <td>0.658361</td>\n",
       "      <td>-0.764562</td>\n",
       "      <td>-0.388668</td>\n",
       "      <td>0.658378</td>\n",
       "      <td>-0.370158</td>\n",
       "      <td>-0.387232</td>\n",
       "      <td>-0.437583</td>\n",
       "      <td>-0.008617</td>\n",
       "      <td>-0.024884</td>\n",
       "      <td>-0.598013</td>\n",
       "    </tr>\n",
       "  </tbody>\n",
       "</table>\n",
       "</div>"
      ],
      "text/plain": [
       "      Mean         SD  Kurtosis  ...     range       RMS  Shape factor\n",
       "0 -1.166491 -0.641888 -0.631950  ... -0.740012  0.033720     -0.413015\n",
       "1  0.389329  0.830822  1.604929  ...  1.196487  0.744678     -0.432032\n",
       "2  1.439655 -0.488640  0.576646  ...  0.236606  0.108506     -0.619835\n",
       "3 -0.641116 -0.718663 -0.972769  ... -1.093864 -0.003179     -0.486737\n",
       "4  0.658361 -0.764562 -0.388668  ... -0.008617 -0.024884     -0.598013\n",
       "\n",
       "[5 rows x 10 columns]"
      ]
     },
     "execution_count": 16,
     "metadata": {
      "tags": []
     },
     "output_type": "execute_result"
    }
   ],
   "source": [
    "X_train.head()"
   ]
  },
  {
   "cell_type": "code",
   "execution_count": 17,
   "metadata": {
    "colab": {
     "base_uri": "https://localhost:8080/"
    },
    "id": "jnScQG3B-lvl",
    "outputId": "6206d9a2-8e2b-4eab-96eb-79f08d6c6a61"
   },
   "outputs": [
    {
     "data": {
      "text/plain": [
       "array([5, 3, 1, 5, 1, 1, 1, 1, 0, 3, 3, 1, 1, 4, 3, 3, 4, 0, 1, 4, 5, 3,\n",
       "       0, 4, 1, 3, 2, 0, 2, 0, 3, 5, 5, 1, 2, 3, 0, 4, 5, 2, 1, 4, 1, 3,\n",
       "       0, 3, 5, 4, 4, 1, 5, 4, 2, 4, 3, 5, 4, 5, 3, 0, 2, 2, 4, 1, 5, 3,\n",
       "       2, 5, 1, 2, 3, 1, 0, 3, 0, 4, 2, 2, 2, 1, 2, 4, 3, 1, 0, 3, 3, 4,\n",
       "       5, 4, 1, 5, 5, 1, 2, 1, 5, 3, 4, 2, 5, 2, 0, 2, 5, 0, 0, 0, 0, 1,\n",
       "       2, 3, 2, 5, 5, 3, 2, 3, 4, 0, 5, 2, 4, 4, 0, 1, 0, 1, 5, 1, 2, 4,\n",
       "       5, 5, 2, 0, 2, 3, 1, 4, 2, 4, 0, 1, 5, 4, 3, 4, 2, 1, 5, 4, 5, 1,\n",
       "       2, 2, 3, 5, 3, 3, 5, 1, 0, 0, 1, 3, 1, 0, 3, 3, 1, 5, 0, 4, 0, 1,\n",
       "       3, 4, 4, 5, 3, 3, 3, 3, 2, 4, 0, 2, 5, 4, 2, 4, 1, 1, 0, 0, 3, 1,\n",
       "       3, 3, 4, 2, 4, 5, 2, 4, 5, 2, 0, 0, 2, 2, 0, 2, 1, 5, 4, 0, 1, 5,\n",
       "       0, 0, 3, 1, 1, 4, 5, 4, 2, 0, 2, 0, 0, 5, 5, 0, 0, 4, 1, 2, 5, 0,\n",
       "       3, 5, 0, 2, 5, 2, 4, 4])"
      ]
     },
     "execution_count": 17,
     "metadata": {
      "tags": []
     },
     "output_type": "execute_result"
    }
   ],
   "source": [
    "Y_train"
   ]
  },
  {
   "cell_type": "markdown",
   "metadata": {
    "id": "2sBa4AKiB8-K"
   },
   "source": [
    "# TO DEFINE A GENERAL FUNCTION THAT WOULD GIVE A 10-FOLD CV ACCURACY FOR EACH KERNEL"
   ]
  },
  {
   "cell_type": "code",
   "execution_count": null,
   "metadata": {
    "id": "ysdcNJj2CD7b"
   },
   "outputs": [],
   "source": [
    "def to_check_accuracy_of_each_kernel_on_cv(X, Y, kernel_type):\n",
    "\n",
    "  from sklearn.svm import SVC\n",
    "  from sklearn.metrics import accuracy_score\n",
    "  from sklearn.model_selection import KFold\n",
    "\n",
    "  # to create a list which wil store the accuracy of all the elephants i.e. SVM parameters\n",
    "  accuracy_list = []\n",
    "\n",
    "  # to reset the index of the data which is passed to the function\n",
    "  X = X.reset_index(drop=True)\n",
    "\n",
    "\n",
    "  '''\n",
    "  so now, my training data which is of the size (250,10) will be split into 10 folds, where everytime it will be validated on each fold\n",
    "  and trained on the remaining 9 folds. \n",
    "  ''' \n",
    "  kf = KFold(n_splits = 10, random_state = None, shuffle = False)\n",
    "\n",
    "\n",
    "  total_score = 0\n",
    "\n",
    "  for train_index, test_index in kf.split(X):\n",
    "\n",
    "    X_train_fold, X_cv_fold = X.iloc[train_index], X.iloc[test_index]\n",
    "    Y_train_fold, Y_cv_fold = Y[train_index], Y[test_index]\n",
    "\n",
    "    # now to use this data to train the model and store the validation accuracy for every fold\n",
    "    svm_model = SVC(kernel=kernel_type, verbose = False)\n",
    "    svm_model.fit(X_train_fold, Y_train_fold)\n",
    "\n",
    "    predicted_value = svm_model.predict(X_cv_fold)\n",
    "    score = accuracy_score(Y_cv_fold, predicted_value)\n",
    "\n",
    "    total_score = total_score + score\n",
    "\n",
    "  final_accuracy = total_score/10\n",
    "\n",
    "  return final_accuracy"
   ]
  },
  {
   "cell_type": "code",
   "execution_count": null,
   "metadata": {
    "id": "ZQMYWcYYDua3"
   },
   "outputs": [],
   "source": [
    "def to_check_accuracy_on_training_and_testing_data(X_train, Y_train, X_test, Y_test, kernel_type):\n",
    "\n",
    "  from sklearn.svm import SVC\n",
    "  from sklearn.metrics import accuracy_score\n",
    "\n",
    "  clf = SVC(kernel = kernel_type)\n",
    "  clf.fit(X_train, Y_train)\n",
    "\n",
    "  test_predicted_output = clf.predict(X_test)\n",
    "  train_predicted_output = clf.predict(X_train)\n",
    "\n",
    "  testing_accuracy = accuracy_score(Y_test, test_predicted_output)\n",
    "  training_accuracy = accuracy_score(Y_train, train_predicted_output)\n",
    "\n",
    "  return training_accuracy, testing_accuracy"
   ]
  },
  {
   "cell_type": "markdown",
   "metadata": {
    "id": "_3mziRFG_7S_"
   },
   "source": [
    "# RBF KERNEL"
   ]
  },
  {
   "cell_type": "code",
   "execution_count": null,
   "metadata": {
    "colab": {
     "base_uri": "https://localhost:8080/"
    },
    "id": "ehCX1FH9EQSX",
    "outputId": "77df361e-160c-4018-a70d-0bd8f7801315"
   },
   "outputs": [
    {
     "name": "stdout",
     "output_type": "stream",
     "text": [
      "TRAINING ACCURACY:-  0.956\n",
      "TESTING ACCURACY:-  0.9\n"
     ]
    }
   ],
   "source": [
    "training_accuracy, testing_accuracy = to_check_accuracy_on_training_and_testing_data(X_train, Y_train, X_test, Y_test, \"rbf\")\n",
    "\n",
    "print(\"TRAINING ACCURACY:- \", training_accuracy)\n",
    "print(\"TESTING ACCURACY:- \", testing_accuracy)"
   ]
  },
  {
   "cell_type": "code",
   "execution_count": null,
   "metadata": {
    "colab": {
     "base_uri": "https://localhost:8080/"
    },
    "id": "xMBYQXY9_Zs8",
    "outputId": "9e889f29-2dfe-4234-b70b-ee8341f91dc2"
   },
   "outputs": [
    {
     "name": "stdout",
     "output_type": "stream",
     "text": [
      "The 10 Fold-CV accuracy on RBF Kernel is:-  0.932\n"
     ]
    }
   ],
   "source": [
    "'''\n",
    "To check the accuracy of RBF Kernel with 10 fold CV\n",
    "'''\n",
    "rbf_kernel = to_check_accuracy_of_each_kernel_on_cv(X_train, Y_train, \"rbf\")\n",
    "\n",
    "print(\"The 10 Fold-CV accuracy on RBF Kernel is:- \", rbf_kernel)"
   ]
  },
  {
   "cell_type": "markdown",
   "metadata": {
    "id": "8aEmBOh0DXsA"
   },
   "source": [
    "# LINEAR KERNEL"
   ]
  },
  {
   "cell_type": "code",
   "execution_count": null,
   "metadata": {
    "colab": {
     "base_uri": "https://localhost:8080/"
    },
    "id": "QCl98ogVKDiD",
    "outputId": "72831cda-a652-47c9-c79d-213a4f804b6a"
   },
   "outputs": [
    {
     "name": "stdout",
     "output_type": "stream",
     "text": [
      "TRAINING ACCURACY:-  0.964\n",
      "TESTING ACCURACY:-  0.88\n"
     ]
    }
   ],
   "source": [
    "training_accuracy, testing_accuracy = to_check_accuracy_on_training_and_testing_data(X_train, Y_train, X_test, Y_test, \"linear\")\n",
    "\n",
    "print(\"TRAINING ACCURACY:- \", training_accuracy)\n",
    "print(\"TESTING ACCURACY:- \", testing_accuracy)"
   ]
  },
  {
   "cell_type": "code",
   "execution_count": null,
   "metadata": {
    "colab": {
     "base_uri": "https://localhost:8080/"
    },
    "id": "cLCCmUDJDipm",
    "outputId": "24bccf80-c25b-4ebf-8949-6e02cf71a71d"
   },
   "outputs": [
    {
     "name": "stdout",
     "output_type": "stream",
     "text": [
      "The 10 Fold-CV accuracy on RBF Kernel is:-  0.9359999999999999\n"
     ]
    }
   ],
   "source": [
    "'''\n",
    "To check the accuracy of Linear Kernel with 10 fold CV\n",
    "'''\n",
    "linear_kernel = to_check_accuracy_of_each_kernel_on_cv(X_train, Y_train, \"linear\")\n",
    "\n",
    "print(\"The 10 Fold-CV accuracy on RBF Kernel is:- \", linear_kernel)"
   ]
  },
  {
   "cell_type": "markdown",
   "metadata": {
    "id": "AtlCgUdiKQR-"
   },
   "source": [
    "# SIGMOID KERNEL"
   ]
  },
  {
   "cell_type": "code",
   "execution_count": null,
   "metadata": {
    "colab": {
     "base_uri": "https://localhost:8080/"
    },
    "id": "V6n6lg-XKKup",
    "outputId": "9899dede-ec97-420a-bc65-887f9b1de054"
   },
   "outputs": [
    {
     "name": "stdout",
     "output_type": "stream",
     "text": [
      "TRAINING ACCURACY:-  0.82\n",
      "TESTING ACCURACY:-  0.76\n"
     ]
    }
   ],
   "source": [
    "training_accuracy, testing_accuracy = to_check_accuracy_on_training_and_testing_data(X_train, Y_train, X_test, Y_test, \"sigmoid\")\n",
    "\n",
    "print(\"TRAINING ACCURACY:- \", training_accuracy)\n",
    "print(\"TESTING ACCURACY:- \", testing_accuracy)"
   ]
  },
  {
   "cell_type": "code",
   "execution_count": null,
   "metadata": {
    "colab": {
     "base_uri": "https://localhost:8080/"
    },
    "id": "MNUdjgMbKY2N",
    "outputId": "de797878-1759-49f6-f7d4-47d94ea2d121"
   },
   "outputs": [
    {
     "name": "stdout",
     "output_type": "stream",
     "text": [
      "The 10 Fold-CV accuracy on RBF Kernel is:-  0.812\n"
     ]
    }
   ],
   "source": [
    "'''\n",
    "To check the accuracy of Linear Kernel with 10 fold CV\n",
    "'''\n",
    "sigmoid_kernel = to_check_accuracy_of_each_kernel_on_cv(X_train, Y_train, \"sigmoid\")\n",
    "\n",
    "print(\"The 10 Fold-CV accuracy on RBF Kernel is:- \", sigmoid_kernel)"
   ]
  },
  {
   "cell_type": "markdown",
   "metadata": {
    "id": "FagWKZr5MQES"
   },
   "source": [
    "# POLYNOMIAL KERNEL"
   ]
  },
  {
   "cell_type": "code",
   "execution_count": null,
   "metadata": {
    "colab": {
     "base_uri": "https://localhost:8080/"
    },
    "id": "dC4WFdbkKhQV",
    "outputId": "a4d170d6-8358-42c6-f7fd-9f8292a1d781"
   },
   "outputs": [
    {
     "name": "stdout",
     "output_type": "stream",
     "text": [
      "TRAINING ACCURACY:-  0.86\n",
      "TESTING ACCURACY:-  0.84\n"
     ]
    }
   ],
   "source": [
    "training_accuracy, testing_accuracy = to_check_accuracy_on_training_and_testing_data(X_train, Y_train, X_test, Y_test, \"poly\")\n",
    "\n",
    "print(\"TRAINING ACCURACY:- \", training_accuracy)\n",
    "print(\"TESTING ACCURACY:- \", testing_accuracy)"
   ]
  },
  {
   "cell_type": "code",
   "execution_count": null,
   "metadata": {
    "colab": {
     "base_uri": "https://localhost:8080/"
    },
    "id": "DEndKWv7MWp_",
    "outputId": "07aa61b6-ef84-4444-c6ef-5add0cde964f"
   },
   "outputs": [
    {
     "name": "stdout",
     "output_type": "stream",
     "text": [
      "The 10 Fold-CV accuracy on RBF Kernel is:-  0.8399999999999999\n"
     ]
    }
   ],
   "source": [
    "'''\n",
    "To check the accuracy of Linear Kernel with 10 fold CV\n",
    "'''\n",
    "polynomial_kernel = to_check_accuracy_of_each_kernel_on_cv(X_train, Y_train, \"poly\")\n",
    "\n",
    "print(\"The 10 Fold-CV accuracy on RBF Kernel is:- \", polynomial_kernel)"
   ]
  },
  {
   "cell_type": "markdown",
   "metadata": {
    "id": "jQyDLCN5cJ2U"
   },
   "source": [
    "# TO CHECK THE ACCURACY ON GRID SEARCH CV"
   ]
  },
  {
   "cell_type": "code",
   "execution_count": 27,
   "metadata": {
    "colab": {
     "base_uri": "https://localhost:8080/"
    },
    "id": "IvYnzWI1NLhE",
    "outputId": "4e1d31f3-2f0c-4f3a-9b5b-0db495698ef8"
   },
   "outputs": [
    {
     "name": "stdout",
     "output_type": "stream",
     "text": [
      "Fitting 10 folds for each of 64 candidates, totalling 640 fits\n"
     ]
    },
    {
     "name": "stderr",
     "output_type": "stream",
     "text": [
      "[Parallel(n_jobs=-1)]: Using backend LokyBackend with 2 concurrent workers.\n",
      "[Parallel(n_jobs=-1)]: Done 216 tasks      | elapsed:    3.4s\n",
      "[Parallel(n_jobs=-1)]: Done 640 out of 640 | elapsed:    7.8s finished\n"
     ]
    },
    {
     "data": {
      "text/plain": [
       "GridSearchCV(cv=10, error_score=nan,\n",
       "             estimator=SVC(C=1.0, break_ties=False, cache_size=200,\n",
       "                           class_weight=None, coef0=0.0,\n",
       "                           decision_function_shape='ovr', degree=3,\n",
       "                           gamma='scale', kernel='rbf', max_iter=-1,\n",
       "                           probability=False, random_state=None, shrinking=True,\n",
       "                           tol=0.001, verbose=False),\n",
       "             iid='deprecated', n_jobs=-1,\n",
       "             param_grid={'C': [1, 5, 15, 30, 45, 60, 75, 90],\n",
       "                         'gamma': [1, 4, 8, 12, 16, 25, 40, 50]},\n",
       "             pre_dispatch='2*n_jobs', refit=True, return_train_score=True,\n",
       "             scoring='f1_micro', verbose=True)"
      ]
     },
     "execution_count": 27,
     "metadata": {
      "tags": []
     },
     "output_type": "execute_result"
    }
   ],
   "source": [
    "'''\n",
    "as it is already proved that RBF kernel is the most suitable one, we are using the same one\n",
    "'''\n",
    "from sklearn.model_selection import GridSearchCV\n",
    "from sklearn.svm import SVC\n",
    "\n",
    "model_svc_gridsearch = SVC(kernel = 'rbf')\n",
    "\n",
    "regularization_parameter = [1, 5, 15, 30, 45, 60, 75, 90]\n",
    "gamma = [1, 4, 8, 12, 16, 25, 40, 50]\n",
    "\n",
    "param_dict = dict(C = regularization_parameter, gamma = gamma)\n",
    "\n",
    "clf_gridsearchcv = GridSearchCV(estimator = model_svc_gridsearch, param_grid = param_dict, cv=10, scoring='f1_micro', verbose=True,\n",
    "                              n_jobs = -1, return_train_score=True)\n",
    "\n",
    "clf_gridsearchcv.fit(X_train, Y_train)"
   ]
  },
  {
   "cell_type": "code",
   "execution_count": 28,
   "metadata": {
    "colab": {
     "base_uri": "https://localhost:8080/"
    },
    "id": "L1seyLWwgMOW",
    "outputId": "bb6c34dd-c19f-4177-a399-57d8105f960b"
   },
   "outputs": [
    {
     "name": "stdout",
     "output_type": "stream",
     "text": [
      "The values for the best hyperparameters for GRID SEARCH CV are:-  {'C': 1, 'gamma': 1}\n",
      "====================================================================================================\n",
      "The best CV score for GRID SEARCH CV is:-  0.9200000000000002\n"
     ]
    }
   ],
   "source": [
    "best_parameters = clf_gridsearchcv.best_params_\n",
    "best_score = clf_gridsearchcv.best_score_\n",
    "\n",
    "print(\"The values for the best hyperparameters for GRID SEARCH CV are:- \", best_parameters)\n",
    "print(\"=\"*100)\n",
    "print(\"The best CV score for GRID SEARCH CV is:- \", best_score)"
   ]
  },
  {
   "cell_type": "code",
   "execution_count": 29,
   "metadata": {
    "colab": {
     "base_uri": "https://localhost:8080/",
     "height": 788
    },
    "id": "Zs3TUwb7gfYL",
    "outputId": "506fcda2-7c4d-4c54-ef77-6cc6ced3004f"
   },
   "outputs": [
    {
     "data": {
      "text/html": [
       "<div>\n",
       "<style scoped>\n",
       "    .dataframe tbody tr th:only-of-type {\n",
       "        vertical-align: middle;\n",
       "    }\n",
       "\n",
       "    .dataframe tbody tr th {\n",
       "        vertical-align: top;\n",
       "    }\n",
       "\n",
       "    .dataframe thead th {\n",
       "        text-align: right;\n",
       "    }\n",
       "</style>\n",
       "<table border=\"1\" class=\"dataframe\">\n",
       "  <thead>\n",
       "    <tr style=\"text-align: right;\">\n",
       "      <th></th>\n",
       "      <th>mean_fit_time</th>\n",
       "      <th>std_fit_time</th>\n",
       "      <th>mean_score_time</th>\n",
       "      <th>std_score_time</th>\n",
       "      <th>param_C</th>\n",
       "      <th>param_gamma</th>\n",
       "      <th>params</th>\n",
       "      <th>split0_test_score</th>\n",
       "      <th>split1_test_score</th>\n",
       "      <th>split2_test_score</th>\n",
       "      <th>split3_test_score</th>\n",
       "      <th>split4_test_score</th>\n",
       "      <th>split5_test_score</th>\n",
       "      <th>split6_test_score</th>\n",
       "      <th>split7_test_score</th>\n",
       "      <th>split8_test_score</th>\n",
       "      <th>split9_test_score</th>\n",
       "      <th>mean_test_score</th>\n",
       "      <th>std_test_score</th>\n",
       "      <th>rank_test_score</th>\n",
       "      <th>split0_train_score</th>\n",
       "      <th>split1_train_score</th>\n",
       "      <th>split2_train_score</th>\n",
       "      <th>split3_train_score</th>\n",
       "      <th>split4_train_score</th>\n",
       "      <th>split5_train_score</th>\n",
       "      <th>split6_train_score</th>\n",
       "      <th>split7_train_score</th>\n",
       "      <th>split8_train_score</th>\n",
       "      <th>split9_train_score</th>\n",
       "      <th>mean_train_score</th>\n",
       "      <th>std_train_score</th>\n",
       "    </tr>\n",
       "  </thead>\n",
       "  <tbody>\n",
       "    <tr>\n",
       "      <th>0</th>\n",
       "      <td>0.010769</td>\n",
       "      <td>0.001196</td>\n",
       "      <td>0.002951</td>\n",
       "      <td>0.000984</td>\n",
       "      <td>1</td>\n",
       "      <td>1</td>\n",
       "      <td>{'C': 1, 'gamma': 1}</td>\n",
       "      <td>0.88</td>\n",
       "      <td>0.96</td>\n",
       "      <td>1.00</td>\n",
       "      <td>0.80</td>\n",
       "      <td>0.88</td>\n",
       "      <td>0.96</td>\n",
       "      <td>0.96</td>\n",
       "      <td>0.96</td>\n",
       "      <td>0.92</td>\n",
       "      <td>0.88</td>\n",
       "      <td>0.920</td>\n",
       "      <td>0.056569</td>\n",
       "      <td>1</td>\n",
       "      <td>0.982222</td>\n",
       "      <td>0.977778</td>\n",
       "      <td>0.982222</td>\n",
       "      <td>1.0</td>\n",
       "      <td>0.977778</td>\n",
       "      <td>0.977778</td>\n",
       "      <td>0.977778</td>\n",
       "      <td>0.982222</td>\n",
       "      <td>0.986667</td>\n",
       "      <td>0.982222</td>\n",
       "      <td>0.982667</td>\n",
       "      <td>0.006425</td>\n",
       "    </tr>\n",
       "    <tr>\n",
       "      <th>1</th>\n",
       "      <td>0.011876</td>\n",
       "      <td>0.002154</td>\n",
       "      <td>0.002637</td>\n",
       "      <td>0.000134</td>\n",
       "      <td>1</td>\n",
       "      <td>4</td>\n",
       "      <td>{'C': 1, 'gamma': 4}</td>\n",
       "      <td>0.80</td>\n",
       "      <td>0.80</td>\n",
       "      <td>0.84</td>\n",
       "      <td>0.64</td>\n",
       "      <td>0.60</td>\n",
       "      <td>0.84</td>\n",
       "      <td>0.84</td>\n",
       "      <td>0.72</td>\n",
       "      <td>0.76</td>\n",
       "      <td>0.80</td>\n",
       "      <td>0.764</td>\n",
       "      <td>0.080895</td>\n",
       "      <td>16</td>\n",
       "      <td>1.000000</td>\n",
       "      <td>1.000000</td>\n",
       "      <td>1.000000</td>\n",
       "      <td>1.0</td>\n",
       "      <td>1.000000</td>\n",
       "      <td>1.000000</td>\n",
       "      <td>1.000000</td>\n",
       "      <td>1.000000</td>\n",
       "      <td>1.000000</td>\n",
       "      <td>1.000000</td>\n",
       "      <td>1.000000</td>\n",
       "      <td>0.000000</td>\n",
       "    </tr>\n",
       "    <tr>\n",
       "      <th>2</th>\n",
       "      <td>0.010527</td>\n",
       "      <td>0.000316</td>\n",
       "      <td>0.003386</td>\n",
       "      <td>0.001430</td>\n",
       "      <td>1</td>\n",
       "      <td>8</td>\n",
       "      <td>{'C': 1, 'gamma': 8}</td>\n",
       "      <td>0.48</td>\n",
       "      <td>0.68</td>\n",
       "      <td>0.72</td>\n",
       "      <td>0.48</td>\n",
       "      <td>0.44</td>\n",
       "      <td>0.72</td>\n",
       "      <td>0.68</td>\n",
       "      <td>0.56</td>\n",
       "      <td>0.56</td>\n",
       "      <td>0.68</td>\n",
       "      <td>0.600</td>\n",
       "      <td>0.102762</td>\n",
       "      <td>24</td>\n",
       "      <td>1.000000</td>\n",
       "      <td>1.000000</td>\n",
       "      <td>1.000000</td>\n",
       "      <td>1.0</td>\n",
       "      <td>1.000000</td>\n",
       "      <td>1.000000</td>\n",
       "      <td>1.000000</td>\n",
       "      <td>1.000000</td>\n",
       "      <td>1.000000</td>\n",
       "      <td>1.000000</td>\n",
       "      <td>1.000000</td>\n",
       "      <td>0.000000</td>\n",
       "    </tr>\n",
       "    <tr>\n",
       "      <th>3</th>\n",
       "      <td>0.011434</td>\n",
       "      <td>0.002052</td>\n",
       "      <td>0.002681</td>\n",
       "      <td>0.000170</td>\n",
       "      <td>1</td>\n",
       "      <td>12</td>\n",
       "      <td>{'C': 1, 'gamma': 12}</td>\n",
       "      <td>0.40</td>\n",
       "      <td>0.56</td>\n",
       "      <td>0.64</td>\n",
       "      <td>0.40</td>\n",
       "      <td>0.44</td>\n",
       "      <td>0.64</td>\n",
       "      <td>0.64</td>\n",
       "      <td>0.56</td>\n",
       "      <td>0.56</td>\n",
       "      <td>0.56</td>\n",
       "      <td>0.540</td>\n",
       "      <td>0.089889</td>\n",
       "      <td>32</td>\n",
       "      <td>1.000000</td>\n",
       "      <td>1.000000</td>\n",
       "      <td>1.000000</td>\n",
       "      <td>1.0</td>\n",
       "      <td>1.000000</td>\n",
       "      <td>1.000000</td>\n",
       "      <td>1.000000</td>\n",
       "      <td>1.000000</td>\n",
       "      <td>1.000000</td>\n",
       "      <td>1.000000</td>\n",
       "      <td>1.000000</td>\n",
       "      <td>0.000000</td>\n",
       "    </tr>\n",
       "    <tr>\n",
       "      <th>4</th>\n",
       "      <td>0.011403</td>\n",
       "      <td>0.002032</td>\n",
       "      <td>0.002964</td>\n",
       "      <td>0.000717</td>\n",
       "      <td>1</td>\n",
       "      <td>16</td>\n",
       "      <td>{'C': 1, 'gamma': 16}</td>\n",
       "      <td>0.36</td>\n",
       "      <td>0.24</td>\n",
       "      <td>0.56</td>\n",
       "      <td>0.32</td>\n",
       "      <td>0.40</td>\n",
       "      <td>0.44</td>\n",
       "      <td>0.40</td>\n",
       "      <td>0.32</td>\n",
       "      <td>0.52</td>\n",
       "      <td>0.44</td>\n",
       "      <td>0.400</td>\n",
       "      <td>0.091214</td>\n",
       "      <td>40</td>\n",
       "      <td>1.000000</td>\n",
       "      <td>1.000000</td>\n",
       "      <td>1.000000</td>\n",
       "      <td>1.0</td>\n",
       "      <td>1.000000</td>\n",
       "      <td>1.000000</td>\n",
       "      <td>1.000000</td>\n",
       "      <td>1.000000</td>\n",
       "      <td>1.000000</td>\n",
       "      <td>1.000000</td>\n",
       "      <td>1.000000</td>\n",
       "      <td>0.000000</td>\n",
       "    </tr>\n",
       "    <tr>\n",
       "      <th>...</th>\n",
       "      <td>...</td>\n",
       "      <td>...</td>\n",
       "      <td>...</td>\n",
       "      <td>...</td>\n",
       "      <td>...</td>\n",
       "      <td>...</td>\n",
       "      <td>...</td>\n",
       "      <td>...</td>\n",
       "      <td>...</td>\n",
       "      <td>...</td>\n",
       "      <td>...</td>\n",
       "      <td>...</td>\n",
       "      <td>...</td>\n",
       "      <td>...</td>\n",
       "      <td>...</td>\n",
       "      <td>...</td>\n",
       "      <td>...</td>\n",
       "      <td>...</td>\n",
       "      <td>...</td>\n",
       "      <td>...</td>\n",
       "      <td>...</td>\n",
       "      <td>...</td>\n",
       "      <td>...</td>\n",
       "      <td>...</td>\n",
       "      <td>...</td>\n",
       "      <td>...</td>\n",
       "      <td>...</td>\n",
       "      <td>...</td>\n",
       "      <td>...</td>\n",
       "      <td>...</td>\n",
       "      <td>...</td>\n",
       "      <td>...</td>\n",
       "    </tr>\n",
       "    <tr>\n",
       "      <th>59</th>\n",
       "      <td>0.010843</td>\n",
       "      <td>0.001654</td>\n",
       "      <td>0.002675</td>\n",
       "      <td>0.000128</td>\n",
       "      <td>90</td>\n",
       "      <td>12</td>\n",
       "      <td>{'C': 90, 'gamma': 12}</td>\n",
       "      <td>0.44</td>\n",
       "      <td>0.56</td>\n",
       "      <td>0.68</td>\n",
       "      <td>0.44</td>\n",
       "      <td>0.44</td>\n",
       "      <td>0.64</td>\n",
       "      <td>0.72</td>\n",
       "      <td>0.56</td>\n",
       "      <td>0.56</td>\n",
       "      <td>0.56</td>\n",
       "      <td>0.560</td>\n",
       "      <td>0.094657</td>\n",
       "      <td>25</td>\n",
       "      <td>1.000000</td>\n",
       "      <td>1.000000</td>\n",
       "      <td>1.000000</td>\n",
       "      <td>1.0</td>\n",
       "      <td>1.000000</td>\n",
       "      <td>1.000000</td>\n",
       "      <td>1.000000</td>\n",
       "      <td>1.000000</td>\n",
       "      <td>1.000000</td>\n",
       "      <td>1.000000</td>\n",
       "      <td>1.000000</td>\n",
       "      <td>0.000000</td>\n",
       "    </tr>\n",
       "    <tr>\n",
       "      <th>60</th>\n",
       "      <td>0.011203</td>\n",
       "      <td>0.001670</td>\n",
       "      <td>0.002686</td>\n",
       "      <td>0.000107</td>\n",
       "      <td>90</td>\n",
       "      <td>16</td>\n",
       "      <td>{'C': 90, 'gamma': 16}</td>\n",
       "      <td>0.40</td>\n",
       "      <td>0.36</td>\n",
       "      <td>0.60</td>\n",
       "      <td>0.36</td>\n",
       "      <td>0.44</td>\n",
       "      <td>0.52</td>\n",
       "      <td>0.44</td>\n",
       "      <td>0.40</td>\n",
       "      <td>0.52</td>\n",
       "      <td>0.44</td>\n",
       "      <td>0.448</td>\n",
       "      <td>0.073321</td>\n",
       "      <td>33</td>\n",
       "      <td>1.000000</td>\n",
       "      <td>1.000000</td>\n",
       "      <td>1.000000</td>\n",
       "      <td>1.0</td>\n",
       "      <td>1.000000</td>\n",
       "      <td>1.000000</td>\n",
       "      <td>1.000000</td>\n",
       "      <td>1.000000</td>\n",
       "      <td>1.000000</td>\n",
       "      <td>1.000000</td>\n",
       "      <td>1.000000</td>\n",
       "      <td>0.000000</td>\n",
       "    </tr>\n",
       "    <tr>\n",
       "      <th>61</th>\n",
       "      <td>0.011293</td>\n",
       "      <td>0.001142</td>\n",
       "      <td>0.002616</td>\n",
       "      <td>0.000066</td>\n",
       "      <td>90</td>\n",
       "      <td>25</td>\n",
       "      <td>{'C': 90, 'gamma': 25}</td>\n",
       "      <td>0.28</td>\n",
       "      <td>0.24</td>\n",
       "      <td>0.56</td>\n",
       "      <td>0.32</td>\n",
       "      <td>0.40</td>\n",
       "      <td>0.32</td>\n",
       "      <td>0.40</td>\n",
       "      <td>0.32</td>\n",
       "      <td>0.48</td>\n",
       "      <td>0.40</td>\n",
       "      <td>0.372</td>\n",
       "      <td>0.091302</td>\n",
       "      <td>41</td>\n",
       "      <td>1.000000</td>\n",
       "      <td>1.000000</td>\n",
       "      <td>1.000000</td>\n",
       "      <td>1.0</td>\n",
       "      <td>1.000000</td>\n",
       "      <td>1.000000</td>\n",
       "      <td>1.000000</td>\n",
       "      <td>1.000000</td>\n",
       "      <td>1.000000</td>\n",
       "      <td>1.000000</td>\n",
       "      <td>1.000000</td>\n",
       "      <td>0.000000</td>\n",
       "    </tr>\n",
       "    <tr>\n",
       "      <th>62</th>\n",
       "      <td>0.010961</td>\n",
       "      <td>0.000712</td>\n",
       "      <td>0.002642</td>\n",
       "      <td>0.000148</td>\n",
       "      <td>90</td>\n",
       "      <td>40</td>\n",
       "      <td>{'C': 90, 'gamma': 40}</td>\n",
       "      <td>0.28</td>\n",
       "      <td>0.24</td>\n",
       "      <td>0.48</td>\n",
       "      <td>0.20</td>\n",
       "      <td>0.32</td>\n",
       "      <td>0.28</td>\n",
       "      <td>0.36</td>\n",
       "      <td>0.28</td>\n",
       "      <td>0.32</td>\n",
       "      <td>0.36</td>\n",
       "      <td>0.312</td>\n",
       "      <td>0.073321</td>\n",
       "      <td>49</td>\n",
       "      <td>1.000000</td>\n",
       "      <td>1.000000</td>\n",
       "      <td>1.000000</td>\n",
       "      <td>1.0</td>\n",
       "      <td>1.000000</td>\n",
       "      <td>1.000000</td>\n",
       "      <td>1.000000</td>\n",
       "      <td>1.000000</td>\n",
       "      <td>1.000000</td>\n",
       "      <td>1.000000</td>\n",
       "      <td>1.000000</td>\n",
       "      <td>0.000000</td>\n",
       "    </tr>\n",
       "    <tr>\n",
       "      <th>63</th>\n",
       "      <td>0.010467</td>\n",
       "      <td>0.000612</td>\n",
       "      <td>0.002577</td>\n",
       "      <td>0.000250</td>\n",
       "      <td>90</td>\n",
       "      <td>50</td>\n",
       "      <td>{'C': 90, 'gamma': 50}</td>\n",
       "      <td>0.28</td>\n",
       "      <td>0.20</td>\n",
       "      <td>0.44</td>\n",
       "      <td>0.20</td>\n",
       "      <td>0.32</td>\n",
       "      <td>0.24</td>\n",
       "      <td>0.32</td>\n",
       "      <td>0.28</td>\n",
       "      <td>0.24</td>\n",
       "      <td>0.28</td>\n",
       "      <td>0.280</td>\n",
       "      <td>0.066933</td>\n",
       "      <td>57</td>\n",
       "      <td>1.000000</td>\n",
       "      <td>1.000000</td>\n",
       "      <td>1.000000</td>\n",
       "      <td>1.0</td>\n",
       "      <td>1.000000</td>\n",
       "      <td>1.000000</td>\n",
       "      <td>1.000000</td>\n",
       "      <td>1.000000</td>\n",
       "      <td>1.000000</td>\n",
       "      <td>1.000000</td>\n",
       "      <td>1.000000</td>\n",
       "      <td>0.000000</td>\n",
       "    </tr>\n",
       "  </tbody>\n",
       "</table>\n",
       "<p>64 rows × 32 columns</p>\n",
       "</div>"
      ],
      "text/plain": [
       "    mean_fit_time  std_fit_time  ...  mean_train_score  std_train_score\n",
       "0        0.010769      0.001196  ...          0.982667         0.006425\n",
       "1        0.011876      0.002154  ...          1.000000         0.000000\n",
       "2        0.010527      0.000316  ...          1.000000         0.000000\n",
       "3        0.011434      0.002052  ...          1.000000         0.000000\n",
       "4        0.011403      0.002032  ...          1.000000         0.000000\n",
       "..            ...           ...  ...               ...              ...\n",
       "59       0.010843      0.001654  ...          1.000000         0.000000\n",
       "60       0.011203      0.001670  ...          1.000000         0.000000\n",
       "61       0.011293      0.001142  ...          1.000000         0.000000\n",
       "62       0.010961      0.000712  ...          1.000000         0.000000\n",
       "63       0.010467      0.000612  ...          1.000000         0.000000\n",
       "\n",
       "[64 rows x 32 columns]"
      ]
     },
     "execution_count": 29,
     "metadata": {
      "tags": []
     },
     "output_type": "execute_result"
    }
   ],
   "source": [
    "results_gridsearchcv = pd.DataFrame.from_dict(clf_gridsearchcv.cv_results_)\n",
    "results_gridsearchcv"
   ]
  },
  {
   "cell_type": "markdown",
   "metadata": {
    "id": "4RjjRVQxmk7w"
   },
   "source": [
    "**Best 10 Fold-CV accuracy using gird search cv is 92% and the optimum parameters are C=1 and gamma=1.** \n",
    "\n",
    "I have used Micro F1 score instead of Accuracy as both of them give the same results as our's is not a MULTILABEL classification problem. It is not possible to use Accuracy as the metric in GridSearch CV for multiclass classification problem**"
   ]
  },
  {
   "cell_type": "markdown",
   "metadata": {
    "id": "CANjy3wXnCdW"
   },
   "source": [
    "# RANDOM SEARCH CV"
   ]
  },
  {
   "cell_type": "code",
   "execution_count": 30,
   "metadata": {
    "colab": {
     "base_uri": "https://localhost:8080/"
    },
    "id": "Tlg9qKd3n5mh",
    "outputId": "ccc7705e-8aae-4e1b-ea4b-2d84d22c2c11"
   },
   "outputs": [
    {
     "name": "stdout",
     "output_type": "stream",
     "text": [
      "<class 'numpy.ndarray'>\n"
     ]
    }
   ],
   "source": [
    "regularization_parameter = np.random.uniform(low = 0.1, high = 100, size = 8)\n",
    "gamma = np.random.uniform(low = 0.1, high = 30, size = 8)\n",
    "\n",
    "print(type(gamma))"
   ]
  },
  {
   "cell_type": "code",
   "execution_count": 31,
   "metadata": {
    "colab": {
     "base_uri": "https://localhost:8080/"
    },
    "id": "tw9IY20bgpFe",
    "outputId": "d387d85f-5ce9-40e1-a84c-59a7842964ff"
   },
   "outputs": [
    {
     "name": "stdout",
     "output_type": "stream",
     "text": [
      "Fitting 10 folds for each of 64 candidates, totalling 640 fits\n"
     ]
    },
    {
     "name": "stderr",
     "output_type": "stream",
     "text": [
      "[Parallel(n_jobs=-1)]: Using backend LokyBackend with 2 concurrent workers.\n",
      "[Parallel(n_jobs=-1)]: Done 216 tasks      | elapsed:    3.5s\n",
      "[Parallel(n_jobs=-1)]: Done 640 out of 640 | elapsed:    7.9s finished\n"
     ]
    },
    {
     "data": {
      "text/plain": [
       "GridSearchCV(cv=10, error_score=nan,\n",
       "             estimator=SVC(C=1.0, break_ties=False, cache_size=200,\n",
       "                           class_weight=None, coef0=0.0,\n",
       "                           decision_function_shape='ovr', degree=3,\n",
       "                           gamma='scale', kernel='rbf', max_iter=-1,\n",
       "                           probability=False, random_state=None, shrinking=True,\n",
       "                           tol=0.001, verbose=False),\n",
       "             iid='deprecated', n_jobs=-1,\n",
       "             param_grid={'C': array([95.3097052 , 28.39447233, 29.06587542, 98.86495763, 64.36879245,\n",
       "       50.15953336, 90.08793143, 31.36289207]),\n",
       "                         'gamma': array([15.36738659, 14.86822961, 12.390538  , 26.09618815, 27.27630937,\n",
       "       29.5280132 ,  5.96711701, 27.55862768])},\n",
       "             pre_dispatch='2*n_jobs', refit=True, return_train_score=True,\n",
       "             scoring='f1_micro', verbose=True)"
      ]
     },
     "execution_count": 31,
     "metadata": {
      "tags": []
     },
     "output_type": "execute_result"
    }
   ],
   "source": [
    "'''\n",
    "as it is already proved that RBF kernel is the most suitable one, we are using the same one. To use uniform random distribution \n",
    "for initializing 8 parameters each\n",
    "'''\n",
    "from sklearn.model_selection import GridSearchCV\n",
    "from sklearn.svm import SVC\n",
    "\n",
    "model_svc_randomsearch = SVC(kernel = 'rbf')\n",
    "\n",
    "regularization_parameter = np.random.uniform(low = 0.1, high = 100, size = 8)\n",
    "gamma = np.random.uniform(low = 0.1, high = 30, size = 8)\n",
    "\n",
    "param_dict = dict(C = regularization_parameter, gamma = gamma)\n",
    "\n",
    "clf_randomsearchcv = GridSearchCV(estimator = model_svc_randomsearch, param_grid = param_dict, cv=10, scoring='f1_micro', verbose=True,\n",
    "                              n_jobs = -1, return_train_score=True)\n",
    "\n",
    "clf_randomsearchcv.fit(X_train, Y_train)"
   ]
  },
  {
   "cell_type": "code",
   "execution_count": 32,
   "metadata": {
    "colab": {
     "base_uri": "https://localhost:8080/"
    },
    "id": "sqQdRC25oW0E",
    "outputId": "bb016388-df55-4b79-91f7-f66c685f30fc"
   },
   "outputs": [
    {
     "name": "stdout",
     "output_type": "stream",
     "text": [
      "The values for the best hyperparameters for RANDOM SEARCH CV are:-  {'C': 95.30970519554722, 'gamma': 5.967117014667493}\n",
      "====================================================================================================\n",
      "The best CV score for RANDOM SEARCH CV is:-  0.7\n"
     ]
    }
   ],
   "source": [
    "best_parameters = clf_randomsearchcv.best_params_\n",
    "best_score = clf_randomsearchcv.best_score_\n",
    "\n",
    "print(\"The values for the best hyperparameters for RANDOM SEARCH CV are:- \", best_parameters)\n",
    "print(\"=\"*100)\n",
    "print(\"The best CV score for RANDOM SEARCH CV is:- \", best_score)"
   ]
  },
  {
   "cell_type": "code",
   "execution_count": 33,
   "metadata": {
    "colab": {
     "base_uri": "https://localhost:8080/",
     "height": 961
    },
    "id": "BHA5YGiTogpW",
    "outputId": "e61f50c2-6305-44f8-b6a3-2b6e7d99f361"
   },
   "outputs": [
    {
     "data": {
      "text/html": [
       "<div>\n",
       "<style scoped>\n",
       "    .dataframe tbody tr th:only-of-type {\n",
       "        vertical-align: middle;\n",
       "    }\n",
       "\n",
       "    .dataframe tbody tr th {\n",
       "        vertical-align: top;\n",
       "    }\n",
       "\n",
       "    .dataframe thead th {\n",
       "        text-align: right;\n",
       "    }\n",
       "</style>\n",
       "<table border=\"1\" class=\"dataframe\">\n",
       "  <thead>\n",
       "    <tr style=\"text-align: right;\">\n",
       "      <th></th>\n",
       "      <th>mean_fit_time</th>\n",
       "      <th>std_fit_time</th>\n",
       "      <th>mean_score_time</th>\n",
       "      <th>std_score_time</th>\n",
       "      <th>param_C</th>\n",
       "      <th>param_gamma</th>\n",
       "      <th>params</th>\n",
       "      <th>split0_test_score</th>\n",
       "      <th>split1_test_score</th>\n",
       "      <th>split2_test_score</th>\n",
       "      <th>split3_test_score</th>\n",
       "      <th>split4_test_score</th>\n",
       "      <th>split5_test_score</th>\n",
       "      <th>split6_test_score</th>\n",
       "      <th>split7_test_score</th>\n",
       "      <th>split8_test_score</th>\n",
       "      <th>split9_test_score</th>\n",
       "      <th>mean_test_score</th>\n",
       "      <th>std_test_score</th>\n",
       "      <th>rank_test_score</th>\n",
       "      <th>split0_train_score</th>\n",
       "      <th>split1_train_score</th>\n",
       "      <th>split2_train_score</th>\n",
       "      <th>split3_train_score</th>\n",
       "      <th>split4_train_score</th>\n",
       "      <th>split5_train_score</th>\n",
       "      <th>split6_train_score</th>\n",
       "      <th>split7_train_score</th>\n",
       "      <th>split8_train_score</th>\n",
       "      <th>split9_train_score</th>\n",
       "      <th>mean_train_score</th>\n",
       "      <th>std_train_score</th>\n",
       "    </tr>\n",
       "  </thead>\n",
       "  <tbody>\n",
       "    <tr>\n",
       "      <th>0</th>\n",
       "      <td>0.012071</td>\n",
       "      <td>0.001267</td>\n",
       "      <td>0.003372</td>\n",
       "      <td>0.001307</td>\n",
       "      <td>95.3097</td>\n",
       "      <td>15.3674</td>\n",
       "      <td>{'C': 95.30970519554722, 'gamma': 15.367386588...</td>\n",
       "      <td>0.40</td>\n",
       "      <td>0.36</td>\n",
       "      <td>0.60</td>\n",
       "      <td>0.36</td>\n",
       "      <td>0.44</td>\n",
       "      <td>0.56</td>\n",
       "      <td>0.48</td>\n",
       "      <td>0.40</td>\n",
       "      <td>0.56</td>\n",
       "      <td>0.44</td>\n",
       "      <td>0.460</td>\n",
       "      <td>0.082462</td>\n",
       "      <td>25</td>\n",
       "      <td>1.0</td>\n",
       "      <td>1.0</td>\n",
       "      <td>1.0</td>\n",
       "      <td>1.0</td>\n",
       "      <td>1.0</td>\n",
       "      <td>1.0</td>\n",
       "      <td>1.0</td>\n",
       "      <td>1.0</td>\n",
       "      <td>1.0</td>\n",
       "      <td>1.0</td>\n",
       "      <td>1.0</td>\n",
       "      <td>0.0</td>\n",
       "    </tr>\n",
       "    <tr>\n",
       "      <th>1</th>\n",
       "      <td>0.012224</td>\n",
       "      <td>0.001938</td>\n",
       "      <td>0.002669</td>\n",
       "      <td>0.000066</td>\n",
       "      <td>95.3097</td>\n",
       "      <td>14.8682</td>\n",
       "      <td>{'C': 95.30970519554722, 'gamma': 14.868229607...</td>\n",
       "      <td>0.40</td>\n",
       "      <td>0.40</td>\n",
       "      <td>0.60</td>\n",
       "      <td>0.36</td>\n",
       "      <td>0.44</td>\n",
       "      <td>0.56</td>\n",
       "      <td>0.52</td>\n",
       "      <td>0.44</td>\n",
       "      <td>0.60</td>\n",
       "      <td>0.44</td>\n",
       "      <td>0.476</td>\n",
       "      <td>0.082849</td>\n",
       "      <td>17</td>\n",
       "      <td>1.0</td>\n",
       "      <td>1.0</td>\n",
       "      <td>1.0</td>\n",
       "      <td>1.0</td>\n",
       "      <td>1.0</td>\n",
       "      <td>1.0</td>\n",
       "      <td>1.0</td>\n",
       "      <td>1.0</td>\n",
       "      <td>1.0</td>\n",
       "      <td>1.0</td>\n",
       "      <td>1.0</td>\n",
       "      <td>0.0</td>\n",
       "    </tr>\n",
       "    <tr>\n",
       "      <th>2</th>\n",
       "      <td>0.010513</td>\n",
       "      <td>0.000451</td>\n",
       "      <td>0.002683</td>\n",
       "      <td>0.000174</td>\n",
       "      <td>95.3097</td>\n",
       "      <td>12.3905</td>\n",
       "      <td>{'C': 95.30970519554722, 'gamma': 12.390538004...</td>\n",
       "      <td>0.44</td>\n",
       "      <td>0.44</td>\n",
       "      <td>0.64</td>\n",
       "      <td>0.44</td>\n",
       "      <td>0.44</td>\n",
       "      <td>0.64</td>\n",
       "      <td>0.56</td>\n",
       "      <td>0.56</td>\n",
       "      <td>0.56</td>\n",
       "      <td>0.56</td>\n",
       "      <td>0.528</td>\n",
       "      <td>0.077563</td>\n",
       "      <td>9</td>\n",
       "      <td>1.0</td>\n",
       "      <td>1.0</td>\n",
       "      <td>1.0</td>\n",
       "      <td>1.0</td>\n",
       "      <td>1.0</td>\n",
       "      <td>1.0</td>\n",
       "      <td>1.0</td>\n",
       "      <td>1.0</td>\n",
       "      <td>1.0</td>\n",
       "      <td>1.0</td>\n",
       "      <td>1.0</td>\n",
       "      <td>0.0</td>\n",
       "    </tr>\n",
       "    <tr>\n",
       "      <th>3</th>\n",
       "      <td>0.011173</td>\n",
       "      <td>0.000826</td>\n",
       "      <td>0.003458</td>\n",
       "      <td>0.001769</td>\n",
       "      <td>95.3097</td>\n",
       "      <td>26.0962</td>\n",
       "      <td>{'C': 95.30970519554722, 'gamma': 26.096188147...</td>\n",
       "      <td>0.28</td>\n",
       "      <td>0.24</td>\n",
       "      <td>0.56</td>\n",
       "      <td>0.32</td>\n",
       "      <td>0.40</td>\n",
       "      <td>0.32</td>\n",
       "      <td>0.40</td>\n",
       "      <td>0.32</td>\n",
       "      <td>0.44</td>\n",
       "      <td>0.40</td>\n",
       "      <td>0.368</td>\n",
       "      <td>0.087270</td>\n",
       "      <td>33</td>\n",
       "      <td>1.0</td>\n",
       "      <td>1.0</td>\n",
       "      <td>1.0</td>\n",
       "      <td>1.0</td>\n",
       "      <td>1.0</td>\n",
       "      <td>1.0</td>\n",
       "      <td>1.0</td>\n",
       "      <td>1.0</td>\n",
       "      <td>1.0</td>\n",
       "      <td>1.0</td>\n",
       "      <td>1.0</td>\n",
       "      <td>0.0</td>\n",
       "    </tr>\n",
       "    <tr>\n",
       "      <th>4</th>\n",
       "      <td>0.011522</td>\n",
       "      <td>0.001104</td>\n",
       "      <td>0.002869</td>\n",
       "      <td>0.000186</td>\n",
       "      <td>95.3097</td>\n",
       "      <td>27.2763</td>\n",
       "      <td>{'C': 95.30970519554722, 'gamma': 27.276309370...</td>\n",
       "      <td>0.28</td>\n",
       "      <td>0.24</td>\n",
       "      <td>0.56</td>\n",
       "      <td>0.32</td>\n",
       "      <td>0.40</td>\n",
       "      <td>0.32</td>\n",
       "      <td>0.36</td>\n",
       "      <td>0.32</td>\n",
       "      <td>0.44</td>\n",
       "      <td>0.40</td>\n",
       "      <td>0.364</td>\n",
       "      <td>0.086626</td>\n",
       "      <td>41</td>\n",
       "      <td>1.0</td>\n",
       "      <td>1.0</td>\n",
       "      <td>1.0</td>\n",
       "      <td>1.0</td>\n",
       "      <td>1.0</td>\n",
       "      <td>1.0</td>\n",
       "      <td>1.0</td>\n",
       "      <td>1.0</td>\n",
       "      <td>1.0</td>\n",
       "      <td>1.0</td>\n",
       "      <td>1.0</td>\n",
       "      <td>0.0</td>\n",
       "    </tr>\n",
       "    <tr>\n",
       "      <th>...</th>\n",
       "      <td>...</td>\n",
       "      <td>...</td>\n",
       "      <td>...</td>\n",
       "      <td>...</td>\n",
       "      <td>...</td>\n",
       "      <td>...</td>\n",
       "      <td>...</td>\n",
       "      <td>...</td>\n",
       "      <td>...</td>\n",
       "      <td>...</td>\n",
       "      <td>...</td>\n",
       "      <td>...</td>\n",
       "      <td>...</td>\n",
       "      <td>...</td>\n",
       "      <td>...</td>\n",
       "      <td>...</td>\n",
       "      <td>...</td>\n",
       "      <td>...</td>\n",
       "      <td>...</td>\n",
       "      <td>...</td>\n",
       "      <td>...</td>\n",
       "      <td>...</td>\n",
       "      <td>...</td>\n",
       "      <td>...</td>\n",
       "      <td>...</td>\n",
       "      <td>...</td>\n",
       "      <td>...</td>\n",
       "      <td>...</td>\n",
       "      <td>...</td>\n",
       "      <td>...</td>\n",
       "      <td>...</td>\n",
       "      <td>...</td>\n",
       "    </tr>\n",
       "    <tr>\n",
       "      <th>59</th>\n",
       "      <td>0.010785</td>\n",
       "      <td>0.000271</td>\n",
       "      <td>0.002638</td>\n",
       "      <td>0.000122</td>\n",
       "      <td>31.3629</td>\n",
       "      <td>26.0962</td>\n",
       "      <td>{'C': 31.362892066318, 'gamma': 26.09618814731...</td>\n",
       "      <td>0.28</td>\n",
       "      <td>0.24</td>\n",
       "      <td>0.56</td>\n",
       "      <td>0.32</td>\n",
       "      <td>0.40</td>\n",
       "      <td>0.32</td>\n",
       "      <td>0.40</td>\n",
       "      <td>0.32</td>\n",
       "      <td>0.44</td>\n",
       "      <td>0.40</td>\n",
       "      <td>0.368</td>\n",
       "      <td>0.087270</td>\n",
       "      <td>33</td>\n",
       "      <td>1.0</td>\n",
       "      <td>1.0</td>\n",
       "      <td>1.0</td>\n",
       "      <td>1.0</td>\n",
       "      <td>1.0</td>\n",
       "      <td>1.0</td>\n",
       "      <td>1.0</td>\n",
       "      <td>1.0</td>\n",
       "      <td>1.0</td>\n",
       "      <td>1.0</td>\n",
       "      <td>1.0</td>\n",
       "      <td>0.0</td>\n",
       "    </tr>\n",
       "    <tr>\n",
       "      <th>60</th>\n",
       "      <td>0.011929</td>\n",
       "      <td>0.003658</td>\n",
       "      <td>0.002730</td>\n",
       "      <td>0.000080</td>\n",
       "      <td>31.3629</td>\n",
       "      <td>27.2763</td>\n",
       "      <td>{'C': 31.362892066318, 'gamma': 27.27630937030...</td>\n",
       "      <td>0.28</td>\n",
       "      <td>0.24</td>\n",
       "      <td>0.56</td>\n",
       "      <td>0.32</td>\n",
       "      <td>0.40</td>\n",
       "      <td>0.32</td>\n",
       "      <td>0.36</td>\n",
       "      <td>0.32</td>\n",
       "      <td>0.44</td>\n",
       "      <td>0.40</td>\n",
       "      <td>0.364</td>\n",
       "      <td>0.086626</td>\n",
       "      <td>41</td>\n",
       "      <td>1.0</td>\n",
       "      <td>1.0</td>\n",
       "      <td>1.0</td>\n",
       "      <td>1.0</td>\n",
       "      <td>1.0</td>\n",
       "      <td>1.0</td>\n",
       "      <td>1.0</td>\n",
       "      <td>1.0</td>\n",
       "      <td>1.0</td>\n",
       "      <td>1.0</td>\n",
       "      <td>1.0</td>\n",
       "      <td>0.0</td>\n",
       "    </tr>\n",
       "    <tr>\n",
       "      <th>61</th>\n",
       "      <td>0.010898</td>\n",
       "      <td>0.000921</td>\n",
       "      <td>0.002689</td>\n",
       "      <td>0.000104</td>\n",
       "      <td>31.3629</td>\n",
       "      <td>29.528</td>\n",
       "      <td>{'C': 31.362892066318, 'gamma': 29.52801319755...</td>\n",
       "      <td>0.28</td>\n",
       "      <td>0.24</td>\n",
       "      <td>0.52</td>\n",
       "      <td>0.24</td>\n",
       "      <td>0.40</td>\n",
       "      <td>0.32</td>\n",
       "      <td>0.36</td>\n",
       "      <td>0.32</td>\n",
       "      <td>0.40</td>\n",
       "      <td>0.36</td>\n",
       "      <td>0.344</td>\n",
       "      <td>0.080399</td>\n",
       "      <td>57</td>\n",
       "      <td>1.0</td>\n",
       "      <td>1.0</td>\n",
       "      <td>1.0</td>\n",
       "      <td>1.0</td>\n",
       "      <td>1.0</td>\n",
       "      <td>1.0</td>\n",
       "      <td>1.0</td>\n",
       "      <td>1.0</td>\n",
       "      <td>1.0</td>\n",
       "      <td>1.0</td>\n",
       "      <td>1.0</td>\n",
       "      <td>0.0</td>\n",
       "    </tr>\n",
       "    <tr>\n",
       "      <th>62</th>\n",
       "      <td>0.010286</td>\n",
       "      <td>0.000098</td>\n",
       "      <td>0.002554</td>\n",
       "      <td>0.000129</td>\n",
       "      <td>31.3629</td>\n",
       "      <td>5.96712</td>\n",
       "      <td>{'C': 31.362892066318, 'gamma': 5.967117014667...</td>\n",
       "      <td>0.72</td>\n",
       "      <td>0.72</td>\n",
       "      <td>0.76</td>\n",
       "      <td>0.56</td>\n",
       "      <td>0.56</td>\n",
       "      <td>0.76</td>\n",
       "      <td>0.76</td>\n",
       "      <td>0.68</td>\n",
       "      <td>0.68</td>\n",
       "      <td>0.80</td>\n",
       "      <td>0.700</td>\n",
       "      <td>0.078486</td>\n",
       "      <td>1</td>\n",
       "      <td>1.0</td>\n",
       "      <td>1.0</td>\n",
       "      <td>1.0</td>\n",
       "      <td>1.0</td>\n",
       "      <td>1.0</td>\n",
       "      <td>1.0</td>\n",
       "      <td>1.0</td>\n",
       "      <td>1.0</td>\n",
       "      <td>1.0</td>\n",
       "      <td>1.0</td>\n",
       "      <td>1.0</td>\n",
       "      <td>0.0</td>\n",
       "    </tr>\n",
       "    <tr>\n",
       "      <th>63</th>\n",
       "      <td>0.011203</td>\n",
       "      <td>0.001754</td>\n",
       "      <td>0.003074</td>\n",
       "      <td>0.001136</td>\n",
       "      <td>31.3629</td>\n",
       "      <td>27.5586</td>\n",
       "      <td>{'C': 31.362892066318, 'gamma': 27.55862768121...</td>\n",
       "      <td>0.28</td>\n",
       "      <td>0.24</td>\n",
       "      <td>0.56</td>\n",
       "      <td>0.32</td>\n",
       "      <td>0.40</td>\n",
       "      <td>0.32</td>\n",
       "      <td>0.36</td>\n",
       "      <td>0.32</td>\n",
       "      <td>0.44</td>\n",
       "      <td>0.40</td>\n",
       "      <td>0.364</td>\n",
       "      <td>0.086626</td>\n",
       "      <td>41</td>\n",
       "      <td>1.0</td>\n",
       "      <td>1.0</td>\n",
       "      <td>1.0</td>\n",
       "      <td>1.0</td>\n",
       "      <td>1.0</td>\n",
       "      <td>1.0</td>\n",
       "      <td>1.0</td>\n",
       "      <td>1.0</td>\n",
       "      <td>1.0</td>\n",
       "      <td>1.0</td>\n",
       "      <td>1.0</td>\n",
       "      <td>0.0</td>\n",
       "    </tr>\n",
       "  </tbody>\n",
       "</table>\n",
       "<p>64 rows × 32 columns</p>\n",
       "</div>"
      ],
      "text/plain": [
       "    mean_fit_time  std_fit_time  ...  mean_train_score  std_train_score\n",
       "0        0.012071      0.001267  ...               1.0              0.0\n",
       "1        0.012224      0.001938  ...               1.0              0.0\n",
       "2        0.010513      0.000451  ...               1.0              0.0\n",
       "3        0.011173      0.000826  ...               1.0              0.0\n",
       "4        0.011522      0.001104  ...               1.0              0.0\n",
       "..            ...           ...  ...               ...              ...\n",
       "59       0.010785      0.000271  ...               1.0              0.0\n",
       "60       0.011929      0.003658  ...               1.0              0.0\n",
       "61       0.010898      0.000921  ...               1.0              0.0\n",
       "62       0.010286      0.000098  ...               1.0              0.0\n",
       "63       0.011203      0.001754  ...               1.0              0.0\n",
       "\n",
       "[64 rows x 32 columns]"
      ]
     },
     "execution_count": 33,
     "metadata": {
      "tags": []
     },
     "output_type": "execute_result"
    }
   ],
   "source": [
    "results_randomsearchcv = pd.DataFrame.from_dict(clf_randomsearchcv.cv_results_)\n",
    "results_randomsearchcv"
   ]
  },
  {
   "cell_type": "markdown",
   "metadata": {
    "id": "xDgGHVgDpDSM"
   },
   "source": [
    "**Best 10 Fold-CV accuracy using random search cv is 70% and the optimum parameters are C=95.30970519554722 and gamma=5.967117014667493.** \n",
    "\n",
    "I have used Micro F1 score instead of Accuracy as both of them give the same results as our's is not a MULTILABEL classification problem. It is not possible to use Accuracy as the metric in GridSearch CV for multiclass classification problem**"
   ]
  },
  {
   "cell_type": "markdown",
   "metadata": {
    "id": "6AVscWIrpUJF"
   },
   "source": [
    "# SIMPLE SVM (WITH LINEAR KERNEL)\n",
    "\n",
    "The 10 Fold CV accuracy here is 93.59 with the dafault parameters used in sklearn i.e. C = 1 and gamma = 'scale'"
   ]
  },
  {
   "cell_type": "code",
   "execution_count": null,
   "metadata": {
    "id": "ZNouFsELot61"
   },
   "outputs": [],
   "source": []
  }
 ],
 "metadata": {
  "colab": {
   "collapsed_sections": [],
   "name": "To determine which kernel is suitable and traditional optimization results.ipynb",
   "provenance": []
  },
  "kernelspec": {
   "display_name": "Python 3",
   "language": "python",
   "name": "python3"
  },
  "language_info": {
   "codemirror_mode": {
    "name": "ipython",
    "version": 3
   },
   "file_extension": ".py",
   "mimetype": "text/x-python",
   "name": "python",
   "nbconvert_exporter": "python",
   "pygments_lexer": "ipython3",
   "version": "3.8.8"
  }
 },
 "nbformat": 4,
 "nbformat_minor": 1
}
