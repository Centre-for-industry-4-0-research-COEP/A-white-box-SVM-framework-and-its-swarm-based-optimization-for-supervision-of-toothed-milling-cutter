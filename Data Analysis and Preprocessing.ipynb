{
 "cells": [
  {
   "cell_type": "code",
   "execution_count": null,
   "metadata": {
    "id": "-CntHvZhGOaf"
   },
   "outputs": [],
   "source": [
    "import numpy as np\n",
    "import pandas as pd\n",
    "import matplotlib.pyplot as plt\n",
    "import seaborn as sns\n",
    "from random import randint\n",
    "import math\n",
    "import warnings\n",
    "warnings.filterwarnings(\"ignore\")"
   ]
  },
  {
   "cell_type": "code",
   "execution_count": null,
   "metadata": {
    "colab": {
     "base_uri": "https://localhost:8080/",
     "height": 237
    },
    "id": "KWmcj4pYGo57",
    "outputId": "9e9ebe08-ed37-4db6-dfa1-68fdb6ef426a"
   },
   "outputs": [
    {
     "name": "stdout",
     "output_type": "stream",
     "text": [
      "(300, 18)\n"
     ]
    },
    {
     "data": {
      "text/html": [
       "<div>\n",
       "<style scoped>\n",
       "    .dataframe tbody tr th:only-of-type {\n",
       "        vertical-align: middle;\n",
       "    }\n",
       "\n",
       "    .dataframe tbody tr th {\n",
       "        vertical-align: top;\n",
       "    }\n",
       "\n",
       "    .dataframe thead th {\n",
       "        text-align: right;\n",
       "    }\n",
       "</style>\n",
       "<table border=\"1\" class=\"dataframe\">\n",
       "  <thead>\n",
       "    <tr style=\"text-align: right;\">\n",
       "      <th></th>\n",
       "      <th>Mean</th>\n",
       "      <th>SD</th>\n",
       "      <th>Variance</th>\n",
       "      <th>Kurtosis</th>\n",
       "      <th>Median</th>\n",
       "      <th>Mode</th>\n",
       "      <th>sum</th>\n",
       "      <th>Skewness</th>\n",
       "      <th>max</th>\n",
       "      <th>min</th>\n",
       "      <th>range</th>\n",
       "      <th>RMS</th>\n",
       "      <th>Impulse Factor</th>\n",
       "      <th>Shape factor</th>\n",
       "      <th>k factor</th>\n",
       "      <th>Std error</th>\n",
       "      <th>count</th>\n",
       "      <th>condition</th>\n",
       "    </tr>\n",
       "  </thead>\n",
       "  <tbody>\n",
       "    <tr>\n",
       "      <th>0</th>\n",
       "      <td>0.012772</td>\n",
       "      <td>0.437381</td>\n",
       "      <td>0.191302</td>\n",
       "      <td>5.342062</td>\n",
       "      <td>0.014769</td>\n",
       "      <td>-0.008984</td>\n",
       "      <td>153.258346</td>\n",
       "      <td>0.032538</td>\n",
       "      <td>4.004789</td>\n",
       "      <td>-2.741048</td>\n",
       "      <td>6.745836</td>\n",
       "      <td>0.003993</td>\n",
       "      <td>0.437549</td>\n",
       "      <td>313.571589</td>\n",
       "      <td>34.259759</td>\n",
       "      <td>1.752293</td>\n",
       "      <td>12000</td>\n",
       "      <td>A</td>\n",
       "    </tr>\n",
       "    <tr>\n",
       "      <th>1</th>\n",
       "      <td>0.014417</td>\n",
       "      <td>0.418080</td>\n",
       "      <td>0.174791</td>\n",
       "      <td>4.385488</td>\n",
       "      <td>0.018220</td>\n",
       "      <td>0.094777</td>\n",
       "      <td>173.007315</td>\n",
       "      <td>0.032495</td>\n",
       "      <td>2.631105</td>\n",
       "      <td>-2.109695</td>\n",
       "      <td>4.740800</td>\n",
       "      <td>0.003817</td>\n",
       "      <td>0.418311</td>\n",
       "      <td>182.496682</td>\n",
       "      <td>29.014552</td>\n",
       "      <td>1.100620</td>\n",
       "      <td>12000</td>\n",
       "      <td>A</td>\n",
       "    </tr>\n",
       "    <tr>\n",
       "      <th>2</th>\n",
       "      <td>0.014378</td>\n",
       "      <td>0.431913</td>\n",
       "      <td>0.186549</td>\n",
       "      <td>5.562181</td>\n",
       "      <td>0.015721</td>\n",
       "      <td>0.045721</td>\n",
       "      <td>172.537400</td>\n",
       "      <td>0.114481</td>\n",
       "      <td>4.449711</td>\n",
       "      <td>-2.172830</td>\n",
       "      <td>6.622541</td>\n",
       "      <td>0.003943</td>\n",
       "      <td>0.432134</td>\n",
       "      <td>309.478007</td>\n",
       "      <td>30.055013</td>\n",
       "      <td>1.922873</td>\n",
       "      <td>12000</td>\n",
       "      <td>A</td>\n",
       "    </tr>\n",
       "    <tr>\n",
       "      <th>3</th>\n",
       "      <td>0.013630</td>\n",
       "      <td>0.427076</td>\n",
       "      <td>0.182394</td>\n",
       "      <td>4.709016</td>\n",
       "      <td>0.021047</td>\n",
       "      <td>0.052514</td>\n",
       "      <td>163.556063</td>\n",
       "      <td>-0.039930</td>\n",
       "      <td>2.915184</td>\n",
       "      <td>-2.337422</td>\n",
       "      <td>5.252606</td>\n",
       "      <td>0.003899</td>\n",
       "      <td>0.427276</td>\n",
       "      <td>213.885129</td>\n",
       "      <td>31.348952</td>\n",
       "      <td>1.245588</td>\n",
       "      <td>12000</td>\n",
       "      <td>A</td>\n",
       "    </tr>\n",
       "    <tr>\n",
       "      <th>4</th>\n",
       "      <td>0.012050</td>\n",
       "      <td>0.422334</td>\n",
       "      <td>0.178366</td>\n",
       "      <td>4.681749</td>\n",
       "      <td>0.016703</td>\n",
       "      <td>0.086143</td>\n",
       "      <td>144.594708</td>\n",
       "      <td>-0.096269</td>\n",
       "      <td>2.863474</td>\n",
       "      <td>-2.747296</td>\n",
       "      <td>5.610770</td>\n",
       "      <td>0.003855</td>\n",
       "      <td>0.422488</td>\n",
       "      <td>237.641385</td>\n",
       "      <td>35.062540</td>\n",
       "      <td>1.209784</td>\n",
       "      <td>12000</td>\n",
       "      <td>A</td>\n",
       "    </tr>\n",
       "  </tbody>\n",
       "</table>\n",
       "</div>"
      ],
      "text/plain": [
       "      Mean         SD  Variance  ...  Std error  count  condition \n",
       "0  0.012772  0.437381  0.191302  ...   1.752293  12000           A\n",
       "1  0.014417  0.418080  0.174791  ...   1.100620  12000           A\n",
       "2  0.014378  0.431913  0.186549  ...   1.922873  12000           A\n",
       "3  0.013630  0.427076  0.182394  ...   1.245588  12000           A\n",
       "4  0.012050  0.422334  0.178366  ...   1.209784  12000           A\n",
       "\n",
       "[5 rows x 18 columns]"
      ]
     },
     "execution_count": 2,
     "metadata": {
      "tags": []
     },
     "output_type": "execute_result"
    }
   ],
   "source": [
    "# to import the stored data\n",
    "data = pd.read_csv(r'/content/drive/MyDrive/Research Paper/DATA/REV_Right.csv')\n",
    "\n",
    "print(data.shape)\n",
    "\n",
    "data.head()"
   ]
  },
  {
   "cell_type": "code",
   "execution_count": null,
   "metadata": {
    "colab": {
     "base_uri": "https://localhost:8080/"
    },
    "id": "98jD3XcBGtRM",
    "outputId": "3b249ea9-87a6-4cee-c75a-d0a759427fe9"
   },
   "outputs": [
    {
     "data": {
      "text/plain": [
       "A    50\n",
       "F    50\n",
       "D    50\n",
       "B    50\n",
       "E    50\n",
       "C    50\n",
       "Name: condition , dtype: int64"
      ]
     },
     "execution_count": 3,
     "metadata": {
      "tags": []
     },
     "output_type": "execute_result"
    }
   ],
   "source": [
    "'''\n",
    "to check the data imbalance\n",
    "'''\n",
    "data['condition '].value_counts()"
   ]
  },
  {
   "cell_type": "markdown",
   "metadata": {
    "id": "4fJxVJfFHk60"
   },
   "source": [
    "**The above cell tells us that the data is BALANCED and we have total 6 classes i.e. [A,B,C,D,E,,F]**"
   ]
  },
  {
   "cell_type": "code",
   "execution_count": null,
   "metadata": {
    "colab": {
     "base_uri": "https://localhost:8080/",
     "height": 603
    },
    "id": "2czUBDqOGxRR",
    "outputId": "d77ad0e5-bafd-4e01-e81b-b0109c6cdc65"
   },
   "outputs": [
    {
     "data": {
      "text/html": [
       "<div>\n",
       "<style scoped>\n",
       "    .dataframe tbody tr th:only-of-type {\n",
       "        vertical-align: middle;\n",
       "    }\n",
       "\n",
       "    .dataframe tbody tr th {\n",
       "        vertical-align: top;\n",
       "    }\n",
       "\n",
       "    .dataframe thead th {\n",
       "        text-align: right;\n",
       "    }\n",
       "</style>\n",
       "<table border=\"1\" class=\"dataframe\">\n",
       "  <thead>\n",
       "    <tr style=\"text-align: right;\">\n",
       "      <th></th>\n",
       "      <th>Column_name</th>\n",
       "      <th>Count</th>\n",
       "    </tr>\n",
       "  </thead>\n",
       "  <tbody>\n",
       "    <tr>\n",
       "      <th>0</th>\n",
       "      <td>Mean</td>\n",
       "      <td>0</td>\n",
       "    </tr>\n",
       "    <tr>\n",
       "      <th>1</th>\n",
       "      <td>SD</td>\n",
       "      <td>0</td>\n",
       "    </tr>\n",
       "    <tr>\n",
       "      <th>2</th>\n",
       "      <td>Variance</td>\n",
       "      <td>0</td>\n",
       "    </tr>\n",
       "    <tr>\n",
       "      <th>3</th>\n",
       "      <td>Kurtosis</td>\n",
       "      <td>0</td>\n",
       "    </tr>\n",
       "    <tr>\n",
       "      <th>4</th>\n",
       "      <td>Median</td>\n",
       "      <td>0</td>\n",
       "    </tr>\n",
       "    <tr>\n",
       "      <th>5</th>\n",
       "      <td>Mode</td>\n",
       "      <td>0</td>\n",
       "    </tr>\n",
       "    <tr>\n",
       "      <th>6</th>\n",
       "      <td>sum</td>\n",
       "      <td>0</td>\n",
       "    </tr>\n",
       "    <tr>\n",
       "      <th>7</th>\n",
       "      <td>Skewness</td>\n",
       "      <td>0</td>\n",
       "    </tr>\n",
       "    <tr>\n",
       "      <th>8</th>\n",
       "      <td>max</td>\n",
       "      <td>0</td>\n",
       "    </tr>\n",
       "    <tr>\n",
       "      <th>9</th>\n",
       "      <td>min</td>\n",
       "      <td>0</td>\n",
       "    </tr>\n",
       "    <tr>\n",
       "      <th>10</th>\n",
       "      <td>range</td>\n",
       "      <td>0</td>\n",
       "    </tr>\n",
       "    <tr>\n",
       "      <th>11</th>\n",
       "      <td>RMS</td>\n",
       "      <td>0</td>\n",
       "    </tr>\n",
       "    <tr>\n",
       "      <th>12</th>\n",
       "      <td>Impulse Factor</td>\n",
       "      <td>0</td>\n",
       "    </tr>\n",
       "    <tr>\n",
       "      <th>13</th>\n",
       "      <td>Shape factor</td>\n",
       "      <td>0</td>\n",
       "    </tr>\n",
       "    <tr>\n",
       "      <th>14</th>\n",
       "      <td>k factor</td>\n",
       "      <td>0</td>\n",
       "    </tr>\n",
       "    <tr>\n",
       "      <th>15</th>\n",
       "      <td>Std error</td>\n",
       "      <td>0</td>\n",
       "    </tr>\n",
       "    <tr>\n",
       "      <th>16</th>\n",
       "      <td>count</td>\n",
       "      <td>0</td>\n",
       "    </tr>\n",
       "    <tr>\n",
       "      <th>17</th>\n",
       "      <td>condition</td>\n",
       "      <td>0</td>\n",
       "    </tr>\n",
       "  </tbody>\n",
       "</table>\n",
       "</div>"
      ],
      "text/plain": [
       "        Column_name  Count\n",
       "0             Mean       0\n",
       "1                SD      0\n",
       "2          Variance      0\n",
       "3          Kurtosis      0\n",
       "4            Median      0\n",
       "5              Mode      0\n",
       "6               sum      0\n",
       "7         Skewness       0\n",
       "8               max      0\n",
       "9               min      0\n",
       "10            range      0\n",
       "11              RMS      0\n",
       "12   Impulse Factor      0\n",
       "13     Shape factor      0\n",
       "14         k factor      0\n",
       "15        Std error      0\n",
       "16            count      0\n",
       "17       condition       0"
      ]
     },
     "execution_count": 4,
     "metadata": {
      "tags": []
     },
     "output_type": "execute_result"
    }
   ],
   "source": [
    "'''\n",
    "to check whether the data has any NAN values\n",
    "'''\n",
    "\n",
    "null_count_per_column = data.isna().sum().reset_index()\n",
    "\n",
    "null_count_per_column.columns = ['Column_name', \"Count\"]\n",
    "\n",
    "null_count_per_column"
   ]
  },
  {
   "cell_type": "markdown",
   "metadata": {
    "id": "1lwpKFdJHqrD"
   },
   "source": [
    "**So we have NO NULL Values**"
   ]
  },
  {
   "cell_type": "code",
   "execution_count": null,
   "metadata": {
    "colab": {
     "base_uri": "https://localhost:8080/",
     "height": 332
    },
    "id": "QVurkd6HGxUP",
    "outputId": "ed3cdd05-df68-4f5d-8a9b-21f14fb25516"
   },
   "outputs": [
    {
     "data": {
      "text/html": [
       "<div>\n",
       "<style scoped>\n",
       "    .dataframe tbody tr th:only-of-type {\n",
       "        vertical-align: middle;\n",
       "    }\n",
       "\n",
       "    .dataframe tbody tr th {\n",
       "        vertical-align: top;\n",
       "    }\n",
       "\n",
       "    .dataframe thead th {\n",
       "        text-align: right;\n",
       "    }\n",
       "</style>\n",
       "<table border=\"1\" class=\"dataframe\">\n",
       "  <thead>\n",
       "    <tr style=\"text-align: right;\">\n",
       "      <th></th>\n",
       "      <th>Mean</th>\n",
       "      <th>SD</th>\n",
       "      <th>Variance</th>\n",
       "      <th>Kurtosis</th>\n",
       "      <th>Median</th>\n",
       "      <th>Mode</th>\n",
       "      <th>sum</th>\n",
       "      <th>Skewness</th>\n",
       "      <th>max</th>\n",
       "      <th>min</th>\n",
       "      <th>range</th>\n",
       "      <th>RMS</th>\n",
       "      <th>Impulse Factor</th>\n",
       "      <th>Shape factor</th>\n",
       "      <th>k factor</th>\n",
       "      <th>Std error</th>\n",
       "      <th>count</th>\n",
       "    </tr>\n",
       "  </thead>\n",
       "  <tbody>\n",
       "    <tr>\n",
       "      <th>count</th>\n",
       "      <td>300.000000</td>\n",
       "      <td>300.000000</td>\n",
       "      <td>300.000000</td>\n",
       "      <td>300.000000</td>\n",
       "      <td>300.000000</td>\n",
       "      <td>300.000000</td>\n",
       "      <td>300.000000</td>\n",
       "      <td>300.000000</td>\n",
       "      <td>300.000000</td>\n",
       "      <td>300.000000</td>\n",
       "      <td>300.000000</td>\n",
       "      <td>300.000000</td>\n",
       "      <td>300.000000</td>\n",
       "      <td>300.000000</td>\n",
       "      <td>300.000000</td>\n",
       "      <td>300.000000</td>\n",
       "      <td>300.0</td>\n",
       "    </tr>\n",
       "    <tr>\n",
       "      <th>mean</th>\n",
       "      <td>0.011943</td>\n",
       "      <td>0.480069</td>\n",
       "      <td>0.240004</td>\n",
       "      <td>9.717797</td>\n",
       "      <td>0.012907</td>\n",
       "      <td>0.012471</td>\n",
       "      <td>143.317737</td>\n",
       "      <td>0.194175</td>\n",
       "      <td>4.518174</td>\n",
       "      <td>-3.601774</td>\n",
       "      <td>8.119948</td>\n",
       "      <td>0.409757</td>\n",
       "      <td>343.631531</td>\n",
       "      <td>79.472326</td>\n",
       "      <td>7.312935</td>\n",
       "      <td>0.250165</td>\n",
       "      <td>12000.0</td>\n",
       "    </tr>\n",
       "    <tr>\n",
       "      <th>std</th>\n",
       "      <td>0.002398</td>\n",
       "      <td>0.097822</td>\n",
       "      <td>0.107697</td>\n",
       "      <td>5.932031</td>\n",
       "      <td>0.003821</td>\n",
       "      <td>0.054514</td>\n",
       "      <td>28.773851</td>\n",
       "      <td>0.263950</td>\n",
       "      <td>1.666549</td>\n",
       "      <td>1.388466</td>\n",
       "      <td>2.914601</td>\n",
       "      <td>0.204951</td>\n",
       "      <td>203.849575</td>\n",
       "      <td>83.153513</td>\n",
       "      <td>11.075831</td>\n",
       "      <td>0.560553</td>\n",
       "      <td>0.0</td>\n",
       "    </tr>\n",
       "    <tr>\n",
       "      <th>min</th>\n",
       "      <td>0.005737</td>\n",
       "      <td>0.362894</td>\n",
       "      <td>0.131692</td>\n",
       "      <td>3.224990</td>\n",
       "      <td>0.003136</td>\n",
       "      <td>-0.134419</td>\n",
       "      <td>68.847354</td>\n",
       "      <td>-0.289862</td>\n",
       "      <td>1.380955</td>\n",
       "      <td>-7.757596</td>\n",
       "      <td>2.886788</td>\n",
       "      <td>0.003624</td>\n",
       "      <td>0.397132</td>\n",
       "      <td>20.742209</td>\n",
       "      <td>0.514370</td>\n",
       "      <td>0.003313</td>\n",
       "      <td>12000.0</td>\n",
       "    </tr>\n",
       "    <tr>\n",
       "      <th>25%</th>\n",
       "      <td>0.010375</td>\n",
       "      <td>0.410313</td>\n",
       "      <td>0.168357</td>\n",
       "      <td>4.618729</td>\n",
       "      <td>0.010209</td>\n",
       "      <td>-0.024159</td>\n",
       "      <td>124.497662</td>\n",
       "      <td>0.016784</td>\n",
       "      <td>3.238507</td>\n",
       "      <td>-4.655651</td>\n",
       "      <td>5.600103</td>\n",
       "      <td>0.396375</td>\n",
       "      <td>213.192309</td>\n",
       "      <td>37.310513</td>\n",
       "      <td>1.601732</td>\n",
       "      <td>0.003765</td>\n",
       "      <td>12000.0</td>\n",
       "    </tr>\n",
       "    <tr>\n",
       "      <th>50%</th>\n",
       "      <td>0.011695</td>\n",
       "      <td>0.438244</td>\n",
       "      <td>0.192058</td>\n",
       "      <td>7.723986</td>\n",
       "      <td>0.012939</td>\n",
       "      <td>0.012127</td>\n",
       "      <td>140.334742</td>\n",
       "      <td>0.122307</td>\n",
       "      <td>4.372383</td>\n",
       "      <td>-3.507954</td>\n",
       "      <td>8.109345</td>\n",
       "      <td>0.432514</td>\n",
       "      <td>376.170448</td>\n",
       "      <td>43.967744</td>\n",
       "      <td>2.612502</td>\n",
       "      <td>0.004429</td>\n",
       "      <td>12000.0</td>\n",
       "    </tr>\n",
       "    <tr>\n",
       "      <th>75%</th>\n",
       "      <td>0.013627</td>\n",
       "      <td>0.539621</td>\n",
       "      <td>0.291192</td>\n",
       "      <td>14.081282</td>\n",
       "      <td>0.015416</td>\n",
       "      <td>0.050667</td>\n",
       "      <td>163.526206</td>\n",
       "      <td>0.381310</td>\n",
       "      <td>5.701736</td>\n",
       "      <td>-2.377782</td>\n",
       "      <td>10.369079</td>\n",
       "      <td>0.539704</td>\n",
       "      <td>495.153857</td>\n",
       "      <td>62.770352</td>\n",
       "      <td>4.140746</td>\n",
       "      <td>0.005767</td>\n",
       "      <td>12000.0</td>\n",
       "    </tr>\n",
       "    <tr>\n",
       "      <th>max</th>\n",
       "      <td>0.019851</td>\n",
       "      <td>0.876043</td>\n",
       "      <td>0.767451</td>\n",
       "      <td>31.345290</td>\n",
       "      <td>0.023963</td>\n",
       "      <td>0.160339</td>\n",
       "      <td>238.215835</td>\n",
       "      <td>1.422589</td>\n",
       "      <td>9.290301</td>\n",
       "      <td>-1.460847</td>\n",
       "      <td>16.855100</td>\n",
       "      <td>0.876093</td>\n",
       "      <td>801.253904</td>\n",
       "      <td>424.848918</td>\n",
       "      <td>39.744871</td>\n",
       "      <td>2.057474</td>\n",
       "      <td>12000.0</td>\n",
       "    </tr>\n",
       "  </tbody>\n",
       "</table>\n",
       "</div>"
      ],
      "text/plain": [
       "            Mean           SD    Variance  ...    k factor   Std error    count\n",
       "count  300.000000  300.000000  300.000000  ...  300.000000  300.000000    300.0\n",
       "mean     0.011943    0.480069    0.240004  ...    7.312935    0.250165  12000.0\n",
       "std      0.002398    0.097822    0.107697  ...   11.075831    0.560553      0.0\n",
       "min      0.005737    0.362894    0.131692  ...    0.514370    0.003313  12000.0\n",
       "25%      0.010375    0.410313    0.168357  ...    1.601732    0.003765  12000.0\n",
       "50%      0.011695    0.438244    0.192058  ...    2.612502    0.004429  12000.0\n",
       "75%      0.013627    0.539621    0.291192  ...    4.140746    0.005767  12000.0\n",
       "max      0.019851    0.876043    0.767451  ...   39.744871    2.057474  12000.0\n",
       "\n",
       "[8 rows x 17 columns]"
      ]
     },
     "execution_count": 5,
     "metadata": {
      "tags": []
     },
     "output_type": "execute_result"
    }
   ],
   "source": [
    "data.describe()"
   ]
  },
  {
   "cell_type": "code",
   "execution_count": null,
   "metadata": {
    "colab": {
     "base_uri": "https://localhost:8080/"
    },
    "id": "aa7_yBRgGxWx",
    "outputId": "b040663c-7b41-4ff8-9891-5f9c3838168d"
   },
   "outputs": [
    {
     "name": "stdout",
     "output_type": "stream",
     "text": [
      "{'Mean ': 300, 'SD': 300, 'Variance': 300, 'Kurtosis': 300, 'Median': 231, 'Mode': 300, 'sum': 300, 'Skewness ': 300, 'max': 300, 'min': 300, 'range': 300, 'RMS': 297, ' Impulse Factor': 300, 'Shape factor': 300, 'k factor': 300, 'Std error': 283, 'count': 1, 'condition ': 6}\n"
     ]
    }
   ],
   "source": [
    "'''\n",
    "to check the number of unique values in each column\n",
    "'''\n",
    "column_names = data.columns\n",
    "column_names = np.array(column_names)\n",
    "\n",
    "column_name_unique_value = dict()\n",
    "\n",
    "for name in column_names:\n",
    "\n",
    "  unique_values = len(pd.unique(data[name]))\n",
    "  column_name_unique_value[name] = unique_values\n",
    "\n",
    "print(column_name_unique_value)"
   ]
  },
  {
   "cell_type": "markdown",
   "metadata": {
    "id": "i4FbnwHnH4Za"
   },
   "source": [
    "**From the above cell output, you can see that the \"COUNT\" column consists of a single value and hence it is of no use**"
   ]
  },
  {
   "cell_type": "code",
   "execution_count": null,
   "metadata": {
    "id": "WgnPSruLHwzc"
   },
   "outputs": [],
   "source": [
    "def return_TSNE_data(data, labels):\n",
    "\n",
    "  from sklearn.manifold import TSNE\n",
    "\n",
    "  visualization_data = data\n",
    "\n",
    "  # the \"visualization_data_labels\" should be a numpy array and so the \"labels\" argument should also be a numpy array\n",
    "  visualization_data_labels = labels\n",
    "  \n",
    "\n",
    "  # to convert the pandas df into numpy array in order to pass the data to the TSNE object\n",
    "  visualization_data = np.array(visualization_data)\n",
    "\n",
    "  tsne = TSNE(n_components=2, perplexity = 15, random_state=0, n_iter=2000, n_iter_without_progress=400, learning_rate = 200)\n",
    "\n",
    "  transformed_visualization_data = tsne.fit_transform(visualization_data)\n",
    "\n",
    "  # to combine the data\n",
    "  final_tsne_data = np.vstack((transformed_visualization_data.T, visualization_data_labels))\n",
    "\n",
    "  final_tsne_data = final_tsne_data.T\n",
    "\n",
    "  print(final_tsne_data.shape, type(final_tsne_data))\n",
    "\n",
    "\n",
    "  #final_tsne_data = np.reshape(final_tsne_data, newshape = (300,3))\n",
    "  \n",
    "\n",
    "  # to convert it into dataframe\n",
    "  tsne_df = pd.DataFrame(data = final_tsne_data, columns=['dim_1', 'dim_2', 'labels'])\n",
    "\n",
    "  # return this \"tsne_df\" which can be then used to visualize the data\n",
    "  return tsne_df"
   ]
  },
  {
   "cell_type": "code",
   "execution_count": null,
   "metadata": {
    "colab": {
     "base_uri": "https://localhost:8080/"
    },
    "id": "b7VeZ2xKH5WO",
    "outputId": "0c0ca321-3911-4c4e-f7d3-0a18de58935b"
   },
   "outputs": [
    {
     "name": "stdout",
     "output_type": "stream",
     "text": [
      "<class 'numpy.ndarray'> (300,)\n"
     ]
    }
   ],
   "source": [
    "labels = data['condition ']\n",
    "\n",
    "from sklearn.preprocessing import LabelEncoder\n",
    "\n",
    "encoder = LabelEncoder()\n",
    "\n",
    "labels = encoder.fit_transform(labels)\n",
    "\n",
    "print(type(labels), labels.shape)"
   ]
  },
  {
   "cell_type": "code",
   "execution_count": null,
   "metadata": {
    "colab": {
     "base_uri": "https://localhost:8080/",
     "height": 474
    },
    "id": "Ez1UNviTH5bB",
    "outputId": "c6c49b77-6873-4d76-eaf8-0b2d6c92bb35"
   },
   "outputs": [
    {
     "name": "stdout",
     "output_type": "stream",
     "text": [
      "(300, 3) <class 'numpy.ndarray'>\n"
     ]
    },
    {
     "data": {
      "image/png": "[encoded data removed]",
      "text/plain": [
       "<Figure size 483.875x432 with 1 Axes>"
      ]
     },
     "metadata": {
      "needs_background": "light",
      "tags": []
     },
     "output_type": "display_data"
    }
   ],
   "source": [
    "temp_data = data.drop(['condition '], axis = 1)\n",
    "tsne_df = return_TSNE_data(temp_data, labels)\n",
    "\n",
    "\n",
    "sns.FacetGrid(tsne_df, hue='labels', size=6).map(plt.scatter, 'dim_1', 'dim_2').add_legend()\n",
    "\n",
    "plt.title('With Perplexity 5 and n_iter=1000')\n",
    "plt.savefig(\"initial_data_visualization.png\")\n",
    "plt.show()"
   ]
  },
  {
   "cell_type": "markdown",
   "metadata": {
    "id": "vWTE7mH2Ks1-"
   },
   "source": [
    "**From the plot that is shown above, we can see that we are only able to distinctively separate one class from the rest. So there is a lot of noise in the data and we need to get rid of their noise to get a better visualization of it.**"
   ]
  },
  {
   "cell_type": "code",
   "execution_count": null,
   "metadata": {
    "colab": {
     "base_uri": "https://localhost:8080/"
    },
    "id": "DsOd1IzOKqaj",
    "outputId": "5ab3b292-f4a0-4263-c044-4cad2bcbe9de"
   },
   "outputs": [
    {
     "name": "stdout",
     "output_type": "stream",
     "text": [
      "<class 'pandas.core.frame.DataFrame'> <class 'pandas.core.series.Series'>\n",
      "(300, 17) (300,)\n"
     ]
    }
   ],
   "source": [
    "# now we will split the data into X and Y\n",
    "X = data.drop(['condition '], axis = 1)\n",
    "Y = data['condition ']\n",
    "\n",
    "print(type(X), type(Y))\n",
    "print(X.shape, Y.shape)"
   ]
  },
  {
   "cell_type": "code",
   "execution_count": null,
   "metadata": {
    "colab": {
     "base_uri": "https://localhost:8080/"
    },
    "id": "YHg3AQv1Lvxv",
    "outputId": "09664c42-46e4-41f6-b9e9-f362a55978ca"
   },
   "outputs": [
    {
     "data": {
      "text/plain": [
       "Index(['Mean ', 'SD', 'Variance', 'Kurtosis', 'Median', 'Mode', 'sum',\n",
       "       'Skewness ', 'max', 'min', 'range', 'RMS', ' Impulse Factor',\n",
       "       'Shape factor', 'k factor', 'Std error', 'count'],\n",
       "      dtype='object')"
      ]
     },
     "execution_count": 11,
     "metadata": {
      "tags": []
     },
     "output_type": "execute_result"
    }
   ],
   "source": [
    "X.columns"
   ]
  },
  {
   "cell_type": "code",
   "execution_count": null,
   "metadata": {
    "colab": {
     "base_uri": "https://localhost:8080/"
    },
    "id": "aPIiV1zTLxoa",
    "outputId": "19f3d730-74fa-4802-a9bf-c89faf6b2bef"
   },
   "outputs": [
    {
     "name": "stdout",
     "output_type": "stream",
     "text": [
      "(300, 16)\n"
     ]
    }
   ],
   "source": [
    "'''\n",
    "to remove the count column as it has a single value\n",
    "'''\n",
    "X = X.drop(['count'], axis = 1)\n",
    "print(X.shape)"
   ]
  },
  {
   "cell_type": "code",
   "execution_count": null,
   "metadata": {
    "colab": {
     "base_uri": "https://localhost:8080/"
    },
    "id": "vh0Sbw6TLzue",
    "outputId": "fc61b64a-b095-4d4b-a003-4dcb538c28d1"
   },
   "outputs": [
    {
     "name": "stdout",
     "output_type": "stream",
     "text": [
      "<class 'pandas.core.frame.DataFrame'> <class 'pandas.core.series.Series'>\n",
      "(250, 16) (50, 16)\n",
      "(250,) (50,)\n"
     ]
    }
   ],
   "source": [
    "# to split the data into train and test\n",
    "from sklearn.model_selection import train_test_split\n",
    "\n",
    "X_train, X_test, Y_train, Y_test = train_test_split(X, Y, test_size = 0.166, stratify = Y, random_state = 42)\n",
    "\n",
    "print(type(X_train), type(Y_train))\n",
    "print(X_train.shape, X_test.shape)\n",
    "print(Y_train.shape, Y_test.shape)"
   ]
  },
  {
   "cell_type": "code",
   "execution_count": null,
   "metadata": {
    "colab": {
     "base_uri": "https://localhost:8080/",
     "height": 203
    },
    "id": "qNbNO2h9NY6u",
    "outputId": "2e0655c5-fb5d-40f4-8fab-6af625de450d"
   },
   "outputs": [
    {
     "data": {
      "text/html": [
       "<div>\n",
       "<style scoped>\n",
       "    .dataframe tbody tr th:only-of-type {\n",
       "        vertical-align: middle;\n",
       "    }\n",
       "\n",
       "    .dataframe tbody tr th {\n",
       "        vertical-align: top;\n",
       "    }\n",
       "\n",
       "    .dataframe thead th {\n",
       "        text-align: right;\n",
       "    }\n",
       "</style>\n",
       "<table border=\"1\" class=\"dataframe\">\n",
       "  <thead>\n",
       "    <tr style=\"text-align: right;\">\n",
       "      <th></th>\n",
       "      <th>Mean</th>\n",
       "      <th>SD</th>\n",
       "      <th>Variance</th>\n",
       "      <th>Kurtosis</th>\n",
       "      <th>Median</th>\n",
       "      <th>Mode</th>\n",
       "      <th>sum</th>\n",
       "      <th>Skewness</th>\n",
       "      <th>max</th>\n",
       "      <th>min</th>\n",
       "      <th>range</th>\n",
       "      <th>RMS</th>\n",
       "      <th>Impulse Factor</th>\n",
       "      <th>Shape factor</th>\n",
       "      <th>k factor</th>\n",
       "      <th>Std error</th>\n",
       "    </tr>\n",
       "  </thead>\n",
       "  <tbody>\n",
       "    <tr>\n",
       "      <th>287</th>\n",
       "      <td>0.009181</td>\n",
       "      <td>0.416964</td>\n",
       "      <td>0.173859</td>\n",
       "      <td>5.941319</td>\n",
       "      <td>0.008551</td>\n",
       "      <td>0.056093</td>\n",
       "      <td>110.167944</td>\n",
       "      <td>0.274380</td>\n",
       "      <td>3.844778</td>\n",
       "      <td>-2.121655</td>\n",
       "      <td>5.966434</td>\n",
       "      <td>0.417048</td>\n",
       "      <td>418.790976</td>\n",
       "      <td>45.426782</td>\n",
       "      <td>1.603457</td>\n",
       "      <td>0.003806</td>\n",
       "    </tr>\n",
       "    <tr>\n",
       "      <th>175</th>\n",
       "      <td>0.012859</td>\n",
       "      <td>0.563631</td>\n",
       "      <td>0.317679</td>\n",
       "      <td>18.972485</td>\n",
       "      <td>0.014591</td>\n",
       "      <td>0.110233</td>\n",
       "      <td>154.305820</td>\n",
       "      <td>0.211248</td>\n",
       "      <td>6.289679</td>\n",
       "      <td>-5.260687</td>\n",
       "      <td>11.550366</td>\n",
       "      <td>0.563754</td>\n",
       "      <td>489.133526</td>\n",
       "      <td>43.841805</td>\n",
       "      <td>3.545831</td>\n",
       "      <td>0.005145</td>\n",
       "    </tr>\n",
       "    <tr>\n",
       "      <th>71</th>\n",
       "      <td>0.015342</td>\n",
       "      <td>0.432226</td>\n",
       "      <td>0.186819</td>\n",
       "      <td>12.982116</td>\n",
       "      <td>0.013043</td>\n",
       "      <td>0.019960</td>\n",
       "      <td>184.106808</td>\n",
       "      <td>0.693773</td>\n",
       "      <td>5.772517</td>\n",
       "      <td>-3.010012</td>\n",
       "      <td>8.782530</td>\n",
       "      <td>0.432480</td>\n",
       "      <td>376.250109</td>\n",
       "      <td>28.188849</td>\n",
       "      <td>2.496498</td>\n",
       "      <td>0.003946</td>\n",
       "    </tr>\n",
       "    <tr>\n",
       "      <th>282</th>\n",
       "      <td>0.010423</td>\n",
       "      <td>0.409318</td>\n",
       "      <td>0.167541</td>\n",
       "      <td>3.955840</td>\n",
       "      <td>0.008938</td>\n",
       "      <td>-0.079440</td>\n",
       "      <td>125.074418</td>\n",
       "      <td>0.050947</td>\n",
       "      <td>2.566720</td>\n",
       "      <td>-2.379374</td>\n",
       "      <td>4.946094</td>\n",
       "      <td>0.409434</td>\n",
       "      <td>246.258527</td>\n",
       "      <td>39.282248</td>\n",
       "      <td>1.050902</td>\n",
       "      <td>0.003737</td>\n",
       "    </tr>\n",
       "    <tr>\n",
       "      <th>65</th>\n",
       "      <td>0.013495</td>\n",
       "      <td>0.404747</td>\n",
       "      <td>0.163820</td>\n",
       "      <td>7.358580</td>\n",
       "      <td>0.011318</td>\n",
       "      <td>0.042215</td>\n",
       "      <td>161.940549</td>\n",
       "      <td>0.094428</td>\n",
       "      <td>3.878042</td>\n",
       "      <td>-4.197384</td>\n",
       "      <td>8.075426</td>\n",
       "      <td>0.404955</td>\n",
       "      <td>287.367826</td>\n",
       "      <td>30.007649</td>\n",
       "      <td>1.570431</td>\n",
       "      <td>0.003695</td>\n",
       "    </tr>\n",
       "  </tbody>\n",
       "</table>\n",
       "</div>"
      ],
      "text/plain": [
       "        Mean         SD  Variance  ...  Shape factor  k factor  Std error\n",
       "287  0.009181  0.416964  0.173859  ...     45.426782  1.603457   0.003806\n",
       "175  0.012859  0.563631  0.317679  ...     43.841805  3.545831   0.005145\n",
       "71   0.015342  0.432226  0.186819  ...     28.188849  2.496498   0.003946\n",
       "282  0.010423  0.409318  0.167541  ...     39.282248  1.050902   0.003737\n",
       "65   0.013495  0.404747  0.163820  ...     30.007649  1.570431   0.003695\n",
       "\n",
       "[5 rows x 16 columns]"
      ]
     },
     "execution_count": 14,
     "metadata": {
      "tags": []
     },
     "output_type": "execute_result"
    }
   ],
   "source": [
    "X_train.head()"
   ]
  },
  {
   "cell_type": "code",
   "execution_count": null,
   "metadata": {
    "colab": {
     "base_uri": "https://localhost:8080/"
    },
    "id": "Gog4xQWBL1_A",
    "outputId": "b05ffb73-fd05-4ed9-ce04-0b6cb0a59063"
   },
   "outputs": [
    {
     "name": "stdout",
     "output_type": "stream",
     "text": [
      "<class 'numpy.ndarray'>\n",
      "[5 4 4 0 0 1 0 0 5 2 4 2 1 3 4 3 0 0 1 1 3 5 1 0 3 5 3 1 3 5 0 4 2 5 2 4 2\n",
      " 2 3 4 3 5 1 1 4 5 2 2 3 4]\n"
     ]
    }
   ],
   "source": [
    "'''\n",
    "To transform the output data labels\n",
    "'''\n",
    "from sklearn.preprocessing import LabelEncoder\n",
    "\n",
    "encoder = LabelEncoder()\n",
    "\n",
    "Y_train = encoder.fit_transform(Y_train)\n",
    "Y_test = encoder.transform(Y_test)\n",
    "\n",
    "print(type(Y_test))\n",
    "print(Y_test)"
   ]
  },
  {
   "cell_type": "markdown",
   "metadata": {
    "id": "JIY786WVNPuY"
   },
   "source": [
    "**I will now make use of Recursive Feature elimination in order to extract the best features. The estimator that I am going to use are\n",
    "Decision Trees. The reason behind using Decision Trees as the estimators is that, the number of data points and the data features are\n",
    "less comparatively. So decision trees is the best option to look for redundant data and remove that**"
   ]
  },
  {
   "cell_type": "code",
   "execution_count": null,
   "metadata": {
    "colab": {
     "base_uri": "https://localhost:8080/"
    },
    "id": "_cTzYb1cL4Jr",
    "outputId": "8cdba5ac-75b6-4ee5-9fb3-ae913c38e0fb"
   },
   "outputs": [
    {
     "data": {
      "text/plain": [
       "DecisionTreeClassifier(ccp_alpha=0.0, class_weight=None, criterion='gini',\n",
       "                       max_depth=8, max_features='auto', max_leaf_nodes=None,\n",
       "                       min_impurity_decrease=0.0, min_impurity_split=None,\n",
       "                       min_samples_leaf=1, min_samples_split=2,\n",
       "                       min_weight_fraction_leaf=0.0, presort='deprecated',\n",
       "                       random_state=None, splitter='best')"
      ]
     },
     "execution_count": 30,
     "metadata": {
      "tags": []
     },
     "output_type": "execute_result"
    }
   ],
   "source": [
    "'''\n",
    "To use Decision Tree Classifier\n",
    "'''\n",
    "from sklearn.tree import DecisionTreeClassifier\n",
    "\n",
    "decision_tree_classifier = DecisionTreeClassifier(max_depth = 8, min_samples_split = 2, min_samples_leaf = 1, max_features = 'auto')\n",
    "\n",
    "decision_tree_classifier.fit(X_train, Y_train)"
   ]
  },
  {
   "cell_type": "code",
   "execution_count": null,
   "metadata": {
    "colab": {
     "base_uri": "https://localhost:8080/"
    },
    "id": "3gumC07KL_uv",
    "outputId": "116e835a-ab01-4c48-a076-3b8d67db9fc5"
   },
   "outputs": [
    {
     "name": "stdout",
     "output_type": "stream",
     "text": [
      "The accuracy of the Decision Tree classifier is:-  0.9\n"
     ]
    }
   ],
   "source": [
    "from sklearn.metrics import accuracy_score\n",
    "\n",
    "predicted_output = decision_tree_classifier.predict(X_test)\n",
    "\n",
    "accuracy = accuracy_score(Y_test, predicted_output)\n",
    "\n",
    "print(\"The accuracy of the Decision Tree classifier is:- \", accuracy)"
   ]
  },
  {
   "cell_type": "markdown",
   "metadata": {
    "id": "HzMQhH3RNJz6"
   },
   "source": [
    "**Now as the Decision Tree Classifier is giving good result despite of classes being crowded as we saw in the 1st TSNE plot, there are certainyl some features that more important than the other and the Decision Tree is successfully able to leverage it. So there is a definite decrease in the Entropy**"
   ]
  },
  {
   "cell_type": "code",
   "execution_count": null,
   "metadata": {
    "colab": {
     "base_uri": "https://localhost:8080/"
    },
    "id": "l9AO7GAqMCpC",
    "outputId": "907facd4-6040-4233-d096-e9a702f7a896"
   },
   "outputs": [
    {
     "name": "stdout",
     "output_type": "stream",
     "text": [
      "<class 'numpy.ndarray'> [0.00925738 0.21937633 0.00480012 0.01570949 0.         0.00720018\n",
      " 0.08588097 0.01715881 0.         0.13612961 0.1311355  0.\n",
      " 0.         0.07785539 0.20128725 0.09420897]\n"
     ]
    }
   ],
   "source": [
    "# to extract the feature importance values\n",
    "feature_importances = decision_tree_classifier.feature_importances_\n",
    "print(type(feature_importances), feature_importances)"
   ]
  },
  {
   "cell_type": "code",
   "execution_count": null,
   "metadata": {
    "colab": {
     "base_uri": "https://localhost:8080/",
     "height": 1000
    },
    "id": "QU-ymLSDMD-c",
    "outputId": "b952e75d-9981-40a9-fb73-42be94c34e24"
   },
   "outputs": [
    {
     "data": {
      "image/png": "[encoded data removed]",
      "text/plain": [
       "<Figure size 1440x1296 with 1 Axes>"
      ]
     },
     "metadata": {
      "needs_background": "light",
      "tags": []
     },
     "output_type": "display_data"
    }
   ],
   "source": [
    "fig = plt.figure(figsize = (20,18))\n",
    "from sklearn import tree\n",
    "_ = tree.plot_tree(decision_tree_classifier, feature_names = X_train.columns, filled = True)"
   ]
  },
  {
   "cell_type": "code",
   "execution_count": null,
   "metadata": {
    "id": "zwUckPbuMUMu"
   },
   "outputs": [],
   "source": [
    "'''\n",
    "to save the decision Tree figure\n",
    "'''\n",
    "fig.savefig(\"decision_tree.png\")"
   ]
  },
  {
   "cell_type": "code",
   "execution_count": null,
   "metadata": {
    "colab": {
     "base_uri": "https://localhost:8080/"
    },
    "id": "AvAmIA9bOW-V",
    "outputId": "8c2d891f-4b79-4673-9bcc-700fc586f417"
   },
   "outputs": [
    {
     "name": "stdout",
     "output_type": "stream",
     "text": [
      "16\n",
      "{'SD': 0.2193763331498257, 'k factor': 0.20128724526117098, 'min': 0.13612960966347012, 'range': 0.13113550329210413, 'Std error': 0.09420896542183117, 'sum': 0.08588096601622557, 'Shape factor': 0.07785538676305949, 'Skewness ': 0.01715881030626782, 'Kurtosis': 0.015709493072113556, 'Mean ': 0.009257379846066914, 'Mode': 0.007200184324718712, 'Variance': 0.004800122883145809, 'Median': 0.0, 'max': 0.0, 'RMS': 0.0, ' Impulse Factor': 0.0}\n"
     ]
    }
   ],
   "source": [
    "'''\n",
    "Now to take all the extracted feature importance values and see the most important features\n",
    "'''\n",
    "column_names = X_train.columns\n",
    "feature_importance_dict = dict()\n",
    "\n",
    "for column_name, importance_value in zip(column_names, feature_importances):\n",
    "\n",
    "  feature_importance_dict[column_name] = importance_value\n",
    "\n",
    "# to sort the dictinoary based on the importance value in the descending order\n",
    "sorted_feature_importance_dict = dict(sorted(feature_importance_dict.items(), key = lambda item:item[1], reverse = True))\n",
    "\n",
    "print(len(sorted_feature_importance_dict))\n",
    "print(sorted_feature_importance_dict)"
   ]
  },
  {
   "cell_type": "markdown",
   "metadata": {
    "id": "GeeHeYriRxNZ"
   },
   "source": [
    "**Now everytime you train a Decision Tree, you will get a different accuracy and based on that accuracy, there will be some features which have the most importance and there will be some features which will have absolutely 0 importance. The trend is that, usually 3 features have 0 importance value. So after seeing this, it is confirmed that not all features are useful. So to eliminate the redundant features, we will make use of forward feature selection or Recursive feature Elimination with CV to remove the redundant features and make the dataset more robust**"
   ]
  },
  {
   "cell_type": "code",
   "execution_count": null,
   "metadata": {
    "colab": {
     "base_uri": "https://localhost:8080/"
    },
    "id": "LhLRyqSsQ8Pj",
    "outputId": "9fb1c128-b268-46e6-89c5-cda131fb4b2e"
   },
   "outputs": [
    {
     "name": "stdout",
     "output_type": "stream",
     "text": [
      "Fitting estimator with 16 features.\n",
      "Fitting estimator with 15 features.\n",
      "Fitting estimator with 14 features.\n",
      "Fitting estimator with 13 features.\n",
      "Fitting estimator with 12 features.\n",
      "Fitting estimator with 11 features.\n",
      "Fitting estimator with 10 features.\n",
      "Fitting estimator with 9 features.\n",
      "Fitting estimator with 8 features.\n"
     ]
    },
    {
     "data": {
      "text/plain": [
       "RFECV(cv=StratifiedKFold(n_splits=10, random_state=None, shuffle=False),\n",
       "      estimator=DecisionTreeClassifier(ccp_alpha=0.0, class_weight=None,\n",
       "                                       criterion='gini', max_depth=8,\n",
       "                                       max_features='auto', max_leaf_nodes=None,\n",
       "                                       min_impurity_decrease=0.0,\n",
       "                                       min_impurity_split=None,\n",
       "                                       min_samples_leaf=1, min_samples_split=2,\n",
       "                                       min_weight_fraction_leaf=0.0,\n",
       "                                       presort='deprecated', random_state=None,\n",
       "                                       splitter='best'),\n",
       "      min_features_to_select=5, n_jobs=-1, scoring='accuracy', step=1,\n",
       "      verbose=1)"
      ]
     },
     "execution_count": 36,
     "metadata": {
      "tags": []
     },
     "output_type": "execute_result"
    }
   ],
   "source": [
    "'''\n",
    "To use RFE to extract the top 13 features from the given 16 features as everytime there are 3 features which have a feature\n",
    "importance value of 0. I am using RFECV and NOT RFE because, while using the optimizer, the parameters are going to be evaluated\n",
    "using 10 fold CV. So instead of forcing the model to select any 13 features without taking 10-Fold CV into account would not be a \n",
    "good choice\n",
    "'''\n",
    "from sklearn.tree import DecisionTreeClassifier\n",
    "from sklearn.feature_selection import RFECV\n",
    "from sklearn.model_selection import StratifiedKFold\n",
    "\n",
    "estimator = DecisionTreeClassifier(max_depth = 8, min_samples_split = 2, min_samples_leaf = 1, max_features = 'auto')\n",
    "\n",
    "stratified_kfold_splitter = StratifiedKFold(10)\n",
    "\n",
    "feature_selector = RFECV(estimator, step = 1, min_features_to_select = 5, n_jobs=-1, \n",
    "                         cv = stratified_kfold_splitter, scoring = 'accuracy', verbose = 1)\n",
    "\n",
    "feature_selector.fit(X_train, Y_train)"
   ]
  },
  {
   "cell_type": "code",
   "execution_count": null,
   "metadata": {
    "colab": {
     "base_uri": "https://localhost:8080/"
    },
    "id": "iN3CBb9kUZ4B",
    "outputId": "46ccee3e-0872-4224-b5dc-6bd4ab7903bc"
   },
   "outputs": [
    {
     "name": "stdout",
     "output_type": "stream",
     "text": [
      "The rankings are:-  [ 8  1 10  1  6  7  1  3  2  1  1  1  9  1  4  5]\n",
      "{'SD': 1, 'Kurtosis': 1, 'sum': 1, 'min': 1, 'range': 1, 'RMS': 1, 'Shape factor': 1, 'max': 2, 'Skewness ': 3, 'k factor': 4, 'Std error': 5, 'Median': 6, 'Mode': 7, 'Mean ': 8, ' Impulse Factor': 9, 'Variance': 10}\n"
     ]
    }
   ],
   "source": [
    "ranking = feature_selector.ranking_\n",
    "print('The rankings are:- ',ranking)\n",
    "\n",
    "feature_rank_dict = dict()\n",
    "\n",
    "for name, rank in zip(column_names, ranking):\n",
    "\n",
    "  feature_rank_dict[name] = rank\n",
    "\n",
    "sorted_feature_rank_dict = dict(sorted(feature_rank_dict.items(), key = lambda item:item[1], reverse = False))\n",
    "print(sorted_feature_rank_dict)"
   ]
  },
  {
   "cell_type": "code",
   "execution_count": null,
   "metadata": {
    "colab": {
     "base_uri": "https://localhost:8080/"
    },
    "id": "z20H0TvLVnUz",
    "outputId": "e39f7f5f-8c66-4c96-ae11-81da16f36972"
   },
   "outputs": [
    {
     "data": {
      "text/plain": [
       "Index(['Mean ', 'SD', 'Variance', 'Kurtosis', 'Median', 'Mode', 'sum',\n",
       "       'Skewness ', 'max', 'min', 'range', 'RMS', ' Impulse Factor',\n",
       "       'Shape factor', 'k factor', 'Std error'],\n",
       "      dtype='object')"
      ]
     },
     "execution_count": 52,
     "metadata": {
      "tags": []
     },
     "output_type": "execute_result"
    }
   ],
   "source": [
    "X_train.columns"
   ]
  },
  {
   "cell_type": "code",
   "execution_count": null,
   "metadata": {
    "colab": {
     "base_uri": "https://localhost:8080/"
    },
    "id": "-BN6MyHtVQFf",
    "outputId": "451502c8-3e0a-46db-f95c-05a8a13b2f39"
   },
   "outputs": [
    {
     "name": "stdout",
     "output_type": "stream",
     "text": [
      "(250, 13) (50, 13)\n"
     ]
    }
   ],
   "source": [
    "'''\n",
    "SD, Mode, Median are the features that should be removed from the existing dataset\n",
    "'''\n",
    "X_train_13 = X_train.drop(['Mean ', 'Variance', ' Impulse Factor'], axis = 1)\n",
    "X_test_13 = X_test.drop(['Mean ', 'Variance', ' Impulse Factor'], axis = 1)\n",
    "\n",
    "print(X_train_13.shape, X_test_13.shape)"
   ]
  },
  {
   "cell_type": "code",
   "execution_count": null,
   "metadata": {
    "colab": {
     "base_uri": "https://localhost:8080/",
     "height": 841
    },
    "id": "6dCltRXcV6D7",
    "outputId": "fc511625-bef3-42a0-94f7-815c8e5fd95a"
   },
   "outputs": [
    {
     "data": {
      "text/plain": [
       "<matplotlib.axes._subplots.AxesSubplot at 0x7f143e8c4190>"
      ]
     },
     "execution_count": 41,
     "metadata": {
      "tags": []
     },
     "output_type": "execute_result"
    },
    {
     "data": {
      "image/png": "[encoded data removed]",
      "text/plain": [
       "<Figure size 1008x936 with 2 Axes>"
      ]
     },
     "metadata": {
      "needs_background": "light",
      "tags": []
     },
     "output_type": "display_data"
    }
   ],
   "source": [
    "'''\n",
    "To check the correlation between the top 13 selected features\n",
    "'''\n",
    "correlation_matrix_for_13_features = X_train_13.corr()\n",
    "\n",
    "f, ax = plt.subplots(figsize =(14, 13))\n",
    "\n",
    "plt.title('Correlation matrix')\n",
    "\n",
    "sns.heatmap(correlation_matrix_for_13_features, ax = ax, cmap =\"YlGnBu\", linewidths = 0.1) "
   ]
  },
  {
   "cell_type": "code",
   "execution_count": null,
   "metadata": {
    "colab": {
     "base_uri": "https://localhost:8080/"
    },
    "id": "JM3FTz-bV9eu",
    "outputId": "665e846a-9b17-4ebf-c5ce-de486cbcee99"
   },
   "outputs": [
    {
     "name": "stdout",
     "output_type": "stream",
     "text": [
      "(250, 11) (50, 11)\n"
     ]
    }
   ],
   "source": [
    "X_train_11 = X_train_13.drop(['Std error', 'k factor'], axis = 1)\n",
    "X_test_11 = X_test_13.drop(['Std error', 'k factor'], axis = 1)\n",
    "\n",
    "print(X_train_11.shape, X_test_11.shape)"
   ]
  },
  {
   "cell_type": "code",
   "execution_count": null,
   "metadata": {
    "colab": {
     "base_uri": "https://localhost:8080/",
     "height": 473
    },
    "id": "aB24WpyJWR42",
    "outputId": "5552cc30-8e84-4e37-9cfc-6bb4ed7a37a6"
   },
   "outputs": [
    {
     "name": "stdout",
     "output_type": "stream",
     "text": [
      "(250, 3) <class 'numpy.ndarray'>\n"
     ]
    },
    {
     "data": {
      "image/png": "[encoded data removed]",
      "text/plain": [
       "<Figure size 483.875x432 with 1 Axes>"
      ]
     },
     "metadata": {
      "needs_background": "light",
      "tags": []
     },
     "output_type": "display_data"
    }
   ],
   "source": [
    "tsne_df = return_TSNE_data(X_train_11, Y_train)\n",
    "\n",
    "sns.FacetGrid(tsne_df, hue='labels', size=6).map(plt.scatter, 'dim_1', 'dim_2').add_legend()\n",
    "plt.title('With Perplexity 5 and n_iter=1000')\n",
    "plt.show()"
   ]
  },
  {
   "cell_type": "markdown",
   "metadata": {
    "id": "qM6VBd0sgx2i"
   },
   "source": [
    "# **To restore the original features which worked the best together**\n",
    "\n",
    "To bring back or write the features which worked the best together by doing running the classifier multiple times and observing each feature."
   ]
  },
  {
   "cell_type": "code",
   "execution_count": null,
   "metadata": {
    "colab": {
     "base_uri": "https://localhost:8080/",
     "height": 474
    },
    "id": "zZoNgcMbWY-l",
    "outputId": "dc058fa6-ab3a-434d-bac7-fb683168881b"
   },
   "outputs": [
    {
     "name": "stdout",
     "output_type": "stream",
     "text": [
      "(250, 3) <class 'numpy.ndarray'>\n"
     ]
    },
    {
     "data": {
      "image/png": "[encoded data removed]",
      "text/plain": [
       "<Figure size 483.875x432 with 1 Axes>"
      ]
     },
     "metadata": {
      "needs_background": "light",
      "tags": []
     },
     "output_type": "display_data"
    }
   ],
   "source": [
    "X_train_13_new = X_train[['Mean ', 'SD', 'Variance', 'Kurtosis', 'sum', 'Skewness ', 'max', 'min', 'range', 'RMS', 'Shape factor', 'k factor', 'Std error']]\n",
    "X_test_13_new = X_test[['Mean ', 'SD', 'Variance', 'Kurtosis', 'sum', 'Skewness ', 'max', 'min', 'range', 'RMS', 'Shape factor', 'k factor', 'Std error']]\n",
    "\n",
    "tsne_df = return_TSNE_data(X_train_13_new, Y_train)\n",
    "\n",
    "sns.FacetGrid(tsne_df, hue='labels', size=6).map(plt.scatter, 'dim_1', 'dim_2').add_legend()\n",
    "plt.title('With Perplexity 5 and n_iter=1000')\n",
    "plt.show()"
   ]
  },
  {
   "cell_type": "code",
   "execution_count": null,
   "metadata": {
    "colab": {
     "base_uri": "https://localhost:8080/",
     "height": 841
    },
    "id": "YaJR2a7Es9Sd",
    "outputId": "3d56ef20-ef3c-4f57-b44e-a7e654520543"
   },
   "outputs": [
    {
     "data": {
      "text/plain": [
       "<matplotlib.axes._subplots.AxesSubplot at 0x7f143bf63fd0>"
      ]
     },
     "execution_count": 44,
     "metadata": {
      "tags": []
     },
     "output_type": "execute_result"
    },
    {
     "data": {
      "image/png": "[encoded data removed]",
      "text/plain": [
       "<Figure size 1008x936 with 2 Axes>"
      ]
     },
     "metadata": {
      "needs_background": "light",
      "tags": []
     },
     "output_type": "display_data"
    }
   ],
   "source": [
    "'''\n",
    "To check the correlation between the top 13 selected features\n",
    "'''\n",
    "correlation_matrix_for_13_features = X_train_13_new.corr()\n",
    "\n",
    "f, ax = plt.subplots(figsize =(14, 13))\n",
    "\n",
    "plt.title('Correlation matrix')\n",
    "plt.savefig\n",
    "sns.heatmap(correlation_matrix_for_13_features, ax = ax, cmap =\"YlGnBu\", linewidths = 0.1) "
   ]
  },
  {
   "cell_type": "markdown",
   "metadata": {
    "id": "C_eJBXrAfYUK"
   },
   "source": [
    "# FINAL FEATURES TILL NOW ARE:-\n",
    "\n",
    "['Mean ', 'SD', 'Variance', 'Kurtosis', 'sum', 'Skewness ', 'max', 'min', 'range', 'RMS', 'Shape factor']\n",
    "\n",
    "11 FEATURES IN TOTAL\n",
    "\n",
    "We removed \"k factor\" and \"Std error\" because, they both are highly correlated with \"Shape factor\". And so I am keeping only one feature out of the 3. The reason behind doing the same is that, if any feature's datapoint is an anonaly or is an ooutlier, then it will have a negative impact on the rest 2 features. As the model has learnt that these 3 features are highly positively correlated and will give a wrong output because of just 1 anomaly or outlier. \n",
    "\n",
    "I am remoing features with positive correlation and keeping the features having high negative correlation as this is useful for the model to make decisions and even if it a high negative correlation I will not drop it. \n",
    "\n",
    "\n"
   ]
  },
  {
   "cell_type": "code",
   "execution_count": null,
   "metadata": {
    "colab": {
     "base_uri": "https://localhost:8080/"
    },
    "id": "AIxa_eQ2g4kd",
    "outputId": "0477bcc7-8652-4145-98bf-142ac817e30a"
   },
   "outputs": [
    {
     "name": "stdout",
     "output_type": "stream",
     "text": [
      "(250, 11) (50, 11)\n"
     ]
    }
   ],
   "source": [
    "X_train_11_final = X_train[['Mean ', 'SD', 'Variance', 'Kurtosis', 'sum', 'Skewness ', 'max', 'min', 'range', 'RMS', 'Shape factor']]\n",
    "X_test_11_final = X_test[['Mean ', 'SD', 'Variance', 'Kurtosis', 'sum', 'Skewness ', 'max', 'min', 'range', 'RMS', 'Shape factor']]\n",
    "\n",
    "print(X_train_11_final.shape, X_test_11_final.shape)"
   ]
  },
  {
   "cell_type": "code",
   "execution_count": null,
   "metadata": {
    "colab": {
     "base_uri": "https://localhost:8080/",
     "height": 798
    },
    "id": "i62UZc8hcK1v",
    "outputId": "baf48b2a-3ccb-40c6-8bba-dbf7868a346b"
   },
   "outputs": [
    {
     "data": {
      "text/plain": [
       "<matplotlib.axes._subplots.AxesSubplot at 0x7f143bddd690>"
      ]
     },
     "execution_count": 46,
     "metadata": {
      "tags": []
     },
     "output_type": "execute_result"
    },
    {
     "data": {
      "image/png": "[encoded data removed]",
      "text/plain": [
       "<Figure size 1008x936 with 2 Axes>"
      ]
     },
     "metadata": {
      "needs_background": "light",
      "tags": []
     },
     "output_type": "display_data"
    }
   ],
   "source": [
    "'''\n",
    "To check the correlation between the top 11 selected features\n",
    "'''\n",
    "correlation_matrix_for_11_features = X_train_11_final.corr()\n",
    "\n",
    "f, ax = plt.subplots(figsize =(14, 13))\n",
    "\n",
    "plt.title('Correlation matrix')\n",
    "\n",
    "sns.heatmap(correlation_matrix_for_11_features, ax = ax, cmap =\"YlGnBu\", linewidths = 0.1) "
   ]
  },
  {
   "cell_type": "markdown",
   "metadata": {
    "id": "ttrBgjUnjeW7"
   },
   "source": [
    "**So after seeing the above correlation matrix, I am going to remove the \"Variance\" feature as Variance and Standard Deviation are highly correlated with each other. And Variance being the square of Standard Deviation, by squaring the value, we could be increasing the percentage of anomaly in the data and so I am dropping the \"Variance\" feature**"
   ]
  },
  {
   "cell_type": "code",
   "execution_count": null,
   "metadata": {
    "colab": {
     "base_uri": "https://localhost:8080/"
    },
    "id": "pSy8hx3occhA",
    "outputId": "c4ac0611-e534-4550-db1f-ac388439cdd8"
   },
   "outputs": [
    {
     "name": "stdout",
     "output_type": "stream",
     "text": [
      "(250, 10) (50, 10)\n"
     ]
    }
   ],
   "source": [
    "'''\n",
    "Dropping the \"Variance\" column\n",
    "'''\n",
    "X_train_new = X_train_11_final.drop(['Variance'], axis = 1)\n",
    "X_test_new = X_test_11_final.drop(['Variance'], axis = 1)\n",
    "\n",
    "print(X_train_new.shape, X_test_new.shape)"
   ]
  },
  {
   "cell_type": "code",
   "execution_count": null,
   "metadata": {
    "colab": {
     "base_uri": "https://localhost:8080/",
     "height": 795
    },
    "id": "MoVbOd6GGU1e",
    "outputId": "906b4514-3ac0-4a47-d7d1-341eeded3609"
   },
   "outputs": [
    {
     "data": {
      "text/plain": [
       "<matplotlib.axes._subplots.AxesSubplot at 0x7f143bdd42d0>"
      ]
     },
     "execution_count": 50,
     "metadata": {
      "tags": []
     },
     "output_type": "execute_result"
    },
    {
     "data": {
      "image/png": "[encoded data removed]",
      "text/plain": [
       "<Figure size 1008x936 with 2 Axes>"
      ]
     },
     "metadata": {
      "needs_background": "light",
      "tags": []
     },
     "output_type": "display_data"
    }
   ],
   "source": [
    "'''\n",
    "To check the correlation between the top 10 selected features\n",
    "'''\n",
    "#fig = plt.figure()\n",
    "correlation_matrix_for_10_features = X_train_new.corr()\n",
    "\n",
    "f, ax = plt.subplots(figsize =(14, 13))\n",
    "\n",
    "\n",
    "plt.title('Correlation matrix')\n",
    "plt.savefig(\"Final_correlation_matrix\")\n",
    "\n",
    "#f.savefig(\"Final_correlation_matrix\")\n",
    "\n",
    "\n",
    "sns.heatmap(correlation_matrix_for_10_features, ax = ax, cmap =\"YlGnBu\", linewidths = 0.1) "
   ]
  },
  {
   "cell_type": "code",
   "execution_count": null,
   "metadata": {
    "colab": {
     "base_uri": "https://localhost:8080/"
    },
    "id": "on6VzD5B9-mG",
    "outputId": "121331e7-7cb7-48b6-889f-86a960907284"
   },
   "outputs": [
    {
     "name": "stdout",
     "output_type": "stream",
     "text": [
      "<class 'pandas.core.frame.DataFrame'> (250, 10)\n",
      "<class 'numpy.ndarray'> (250,)\n"
     ]
    },
    {
     "data": {
      "text/plain": [
       "Index(['Mean ', 'SD', 'Kurtosis', 'sum', 'Skewness ', 'max', 'min', 'range',\n",
       "       'RMS', 'Shape factor'],\n",
       "      dtype='object')"
      ]
     },
     "execution_count": 52,
     "metadata": {
      "tags": []
     },
     "output_type": "execute_result"
    }
   ],
   "source": [
    "print(type(X_train_new), X_train_new.shape)\n",
    "print(type(Y_train), Y_train.shape)\n",
    "X_train_new.columns"
   ]
  },
  {
   "cell_type": "code",
   "execution_count": null,
   "metadata": {
    "colab": {
     "base_uri": "https://localhost:8080/",
     "height": 474
    },
    "id": "ezNcthBtccjo",
    "outputId": "eaf02862-a448-4400-f7a4-24e6635a1c22"
   },
   "outputs": [
    {
     "name": "stdout",
     "output_type": "stream",
     "text": [
      "(250, 3) <class 'numpy.ndarray'>\n"
     ]
    },
    {
     "data": {
      "image/png": "[encoded data removed]",
      "text/plain": [
       "<Figure size 483.875x432 with 1 Axes>"
      ]
     },
     "metadata": {
      "needs_background": "light",
      "tags": []
     },
     "output_type": "display_data"
    }
   ],
   "source": [
    "tsne_df = return_TSNE_data(X_train_new, Y_train)\n",
    "\n",
    "sns.FacetGrid(tsne_df, hue='labels', size=6).map(plt.scatter, 'dim_1', 'dim_2').add_legend()\n",
    "plt.title('With Perplexity 5 and n_iter=1000')\n",
    "(\"Final_data_visualization\")\n",
    "plt.show()"
   ]
  },
  {
   "cell_type": "markdown",
   "metadata": {
    "id": "KcCtwWZ6neIN"
   },
   "source": [
    "**As you can see from the above plot that our data distribution has also improved slightly**"
   ]
  },
  {
   "cell_type": "markdown",
   "metadata": {
    "id": "sRsYCRoYnosC"
   },
   "source": [
    "# FINAL FEATURES TILL NOW ARE:- \n",
    "\n",
    "['Mean ', 'SD', 'Kurtosis', 'sum', 'Skewness ', 'max', 'min', 'range', 'RMS', 'Shape factor']\n",
    "\n",
    "10 FEATURES IN TOTAL"
   ]
  },
  {
   "cell_type": "code",
   "execution_count": null,
   "metadata": {
    "colab": {
     "base_uri": "https://localhost:8080/",
     "height": 203
    },
    "id": "17tVxU9Uccug",
    "outputId": "f9635d6d-1f03-4f22-a8de-4d6ad1004abd"
   },
   "outputs": [
    {
     "data": {
      "text/html": [
       "<div>\n",
       "<style scoped>\n",
       "    .dataframe tbody tr th:only-of-type {\n",
       "        vertical-align: middle;\n",
       "    }\n",
       "\n",
       "    .dataframe tbody tr th {\n",
       "        vertical-align: top;\n",
       "    }\n",
       "\n",
       "    .dataframe thead th {\n",
       "        text-align: right;\n",
       "    }\n",
       "</style>\n",
       "<table border=\"1\" class=\"dataframe\">\n",
       "  <thead>\n",
       "    <tr style=\"text-align: right;\">\n",
       "      <th></th>\n",
       "      <th>Mean</th>\n",
       "      <th>SD</th>\n",
       "      <th>Kurtosis</th>\n",
       "      <th>sum</th>\n",
       "      <th>Skewness</th>\n",
       "      <th>max</th>\n",
       "      <th>min</th>\n",
       "      <th>range</th>\n",
       "      <th>RMS</th>\n",
       "      <th>Shape factor</th>\n",
       "    </tr>\n",
       "  </thead>\n",
       "  <tbody>\n",
       "    <tr>\n",
       "      <th>287</th>\n",
       "      <td>0.009181</td>\n",
       "      <td>0.416964</td>\n",
       "      <td>5.941319</td>\n",
       "      <td>110.167944</td>\n",
       "      <td>0.274380</td>\n",
       "      <td>3.844778</td>\n",
       "      <td>-2.121655</td>\n",
       "      <td>5.966434</td>\n",
       "      <td>0.417048</td>\n",
       "      <td>45.426782</td>\n",
       "    </tr>\n",
       "    <tr>\n",
       "      <th>175</th>\n",
       "      <td>0.012859</td>\n",
       "      <td>0.563631</td>\n",
       "      <td>18.972485</td>\n",
       "      <td>154.305820</td>\n",
       "      <td>0.211248</td>\n",
       "      <td>6.289679</td>\n",
       "      <td>-5.260687</td>\n",
       "      <td>11.550366</td>\n",
       "      <td>0.563754</td>\n",
       "      <td>43.841805</td>\n",
       "    </tr>\n",
       "    <tr>\n",
       "      <th>71</th>\n",
       "      <td>0.015342</td>\n",
       "      <td>0.432226</td>\n",
       "      <td>12.982116</td>\n",
       "      <td>184.106808</td>\n",
       "      <td>0.693773</td>\n",
       "      <td>5.772517</td>\n",
       "      <td>-3.010012</td>\n",
       "      <td>8.782530</td>\n",
       "      <td>0.432480</td>\n",
       "      <td>28.188849</td>\n",
       "    </tr>\n",
       "    <tr>\n",
       "      <th>282</th>\n",
       "      <td>0.010423</td>\n",
       "      <td>0.409318</td>\n",
       "      <td>3.955840</td>\n",
       "      <td>125.074418</td>\n",
       "      <td>0.050947</td>\n",
       "      <td>2.566720</td>\n",
       "      <td>-2.379374</td>\n",
       "      <td>4.946094</td>\n",
       "      <td>0.409434</td>\n",
       "      <td>39.282248</td>\n",
       "    </tr>\n",
       "    <tr>\n",
       "      <th>65</th>\n",
       "      <td>0.013495</td>\n",
       "      <td>0.404747</td>\n",
       "      <td>7.358580</td>\n",
       "      <td>161.940549</td>\n",
       "      <td>0.094428</td>\n",
       "      <td>3.878042</td>\n",
       "      <td>-4.197384</td>\n",
       "      <td>8.075426</td>\n",
       "      <td>0.404955</td>\n",
       "      <td>30.007649</td>\n",
       "    </tr>\n",
       "  </tbody>\n",
       "</table>\n",
       "</div>"
      ],
      "text/plain": [
       "        Mean         SD   Kurtosis  ...      range       RMS  Shape factor\n",
       "287  0.009181  0.416964   5.941319  ...   5.966434  0.417048     45.426782\n",
       "175  0.012859  0.563631  18.972485  ...  11.550366  0.563754     43.841805\n",
       "71   0.015342  0.432226  12.982116  ...   8.782530  0.432480     28.188849\n",
       "282  0.010423  0.409318   3.955840  ...   4.946094  0.409434     39.282248\n",
       "65   0.013495  0.404747   7.358580  ...   8.075426  0.404955     30.007649\n",
       "\n",
       "[5 rows x 10 columns]"
      ]
     },
     "execution_count": 57,
     "metadata": {
      "tags": []
     },
     "output_type": "execute_result"
    }
   ],
   "source": [
    "X_train_new.head()"
   ]
  },
  {
   "cell_type": "code",
   "execution_count": null,
   "metadata": {
    "id": "3Md3LWtnccwu"
   },
   "outputs": [],
   "source": []
  },
  {
   "cell_type": "code",
   "execution_count": null,
   "metadata": {
    "id": "ghyBnfM3cczf"
   },
   "outputs": [],
   "source": [
    "'''\n",
    "to define certain parameters before writing the optimization code\n",
    "'''\n",
    "\n",
    "\n",
    "def initialize_population_locations():\n",
    "\n",
    "  # to store the regularization and gamma (the parameters of SVM)\n",
    "  parameters_list = []\n",
    "\n",
    "  total_population = 30\n",
    "  number_of_clans = 6\n",
    "  population_in_each_clan = (total_population)/(number_of_clans)\n",
    "\n",
    "\n",
    "  # to randomly initialize the regularization parameter in gamma values such that we have 50 of them\n",
    "  reg_parameter = np.random.uniform(low = 0, high = 500, size = total_population)\n",
    "  gamma = np.random.uniform(low = 0, high = 50, size = total_population)\n",
    "\n",
    "  for i,j in zip(reg_parameter, gamma):\n",
    "    parameters_list.append([round(i, 5),round(j, 5)])\n",
    "\n",
    "\n",
    "  return total_population, number_of_clans, population_in_each_clan, parameters_list"
   ]
  },
  {
   "cell_type": "code",
   "execution_count": null,
   "metadata": {
    "id": "fSOfYG39cdcK"
   },
   "outputs": [],
   "source": [
    "'''\n",
    "to create a function which takes in the input parameters, data and returns the FITNESS of the parameters by calculating the accuracy\n",
    "using K-Fold CV\n",
    "'''\n",
    "\n",
    "\n",
    "def fitness_calculation(parameters, X, Y):\n",
    "\n",
    "  from sklearn.svm import SVC\n",
    "  from sklearn.metrics import accuracy_score\n",
    "  from sklearn.model_selection import KFold\n",
    "\n",
    "  # to create a list which wil store the accuracy of all the elephants i.e. SVM parameters\n",
    "  accuracy_list = []\n",
    "\n",
    "  # to reset the index of the data which is passed to the function\n",
    "  X = X.reset_index(drop=True)\n",
    "\n",
    "  # to store the final accuracy for each parameter i.e. the elephant\n",
    "  final_accuracy = []\n",
    "\n",
    "  '''\n",
    "  so now, my training data which is of the size (100,4) will be split into 4 folds, where everytime it will be validated on each fold\n",
    "  and trained on the remaining 3 folds. \n",
    "  ''' \n",
    "  kf = KFold(n_splits = 10, random_state = None, shuffle = False)\n",
    "\n",
    "  for i in range(len(parameters)):\n",
    "\n",
    "    total_score = 0\n",
    "\n",
    "    for train_index, test_index in kf.split(X):\n",
    "\n",
    "      X_train_fold, X_cv_fold = X.iloc[train_index], X.iloc[test_index]\n",
    "      Y_train_fold, Y_cv_fold = Y[train_index], Y[test_index]\n",
    "\n",
    "      # now to use this data to train the model and store the validation accuracy for every fold\n",
    "      svm_model = SVC(C = parameters[i][0], kernel='rbf', gamma = parameters[i][1], verbose = False)\n",
    "      svm_model.fit(X_train_fold, Y_train_fold)\n",
    "\n",
    "      predicted_value = svm_model.predict(X_cv_fold)\n",
    "      score = accuracy_score(Y_cv_fold, predicted_value)\n",
    "\n",
    "      total_score = total_score + score\n",
    "\n",
    "    final_accuracy.append(total_score/10)\n",
    "\n",
    "  return final_accuracy"
   ]
  },
  {
   "cell_type": "code",
   "execution_count": null,
   "metadata": {
    "id": "wjlWruZEchUK"
   },
   "outputs": [],
   "source": [
    "'''\n",
    "To create  function which will take in parameters and the accuracies as the input and will return the sorted order as the output. Here\n",
    "I will also consider the number of clans and divide the number of elephants into those clans after sorting them. \n",
    "'''\n",
    "\n",
    "\n",
    "def sort_elephants(accuracies, parameters):\n",
    "\n",
    "  accuracy_index_dict = dict()\n",
    "\n",
    "  for i in range(len(accuracies)):\n",
    "    accuracy_index_dict[i] = accuracies[i]\n",
    "\n",
    "  # to sort the elements stored in the accuray_index_dict. We are using reverse = TRUE\n",
    "  sorted_accuracy_index_dict = {k:v for k,v in sorted(accuracy_index_dict.items(), key = lambda item : item[1], reverse = True)}\n",
    "\n",
    "  '''\n",
    "  now to take the sorted_accuracy_index_dict, extra the index values and the corrresponding parameters fitness, store them in a list \n",
    "  and then divide it into 3 parts\n",
    "  '''\n",
    "  # first to extra the keys from the sorted dictionary and and index the parameters accordingly\n",
    "  keys = sorted_accuracy_index_dict.keys()\n",
    "\n",
    "  sorted_parameters = []\n",
    "\n",
    "  for i in keys:\n",
    "    sorted_parameters.append(parameters[i])\n",
    "\n",
    "  # to convert the list into a numpy array so that we can divide the array into 3 parts. The output that we get is an array of arrays\n",
    "  splitted_array = np.array_split(sorted_parameters, 6)\n",
    "\n",
    "  return splitted_array"
   ]
  },
  {
   "cell_type": "code",
   "execution_count": null,
   "metadata": {
    "id": "mQTwLmhGckW7"
   },
   "outputs": [],
   "source": [
    "'''\n",
    "THIS FUNCTION CONTAINS THE ENTIRE PIPELINE (I.E. WORKFLOW OF EHO). All the definitions are called in this function and the \n",
    "CLAN UPDATING AND SEPRARTING OPERATOR are used here. The equivalent terminologies are as follows:-\n",
    "'''\n",
    "\n",
    "\n",
    "def EHO(epochs, X_train, Y_train):\n",
    "\n",
    "  # to initialize the elephant population i.e. to initialize the SVM parameters\n",
    "  total_population, number_of_clans, population_in_each_clan, parameters_list = initialize_population_locations()\n",
    "  #print(\"Population in each clan is:- \", population_in_each_clan)\n",
    "\n",
    "  # to evaluate the fitness of these SVM parameters i.e. to evaluate the elephant fitness\n",
    "  final_accuracies = fitness_calculation(parameters_list, X_train, Y_train)\n",
    "\n",
    "  # to store the maximum accuracy that I got after every epoch i.e. the elephant generation\n",
    "  best_accuracy_after_every_epoch  = []\n",
    "\n",
    "  # to store the parameters that I got after every epoch i.e. elephant generation that gave the maximum accuracy\n",
    "  best_parameter_after_every_epoch = []\n",
    "\n",
    "\n",
    "  for i in range(epochs):\n",
    "\n",
    "    new_parameters_list = []\n",
    "\n",
    "    # to sort the initial parameters i.e. the rearrange the elephant positions according to their fitness\n",
    "    sorted_elephants_in_clans = sort_elephants(final_accuracies, parameters_list)\n",
    "\n",
    "    '''\n",
    "    After sotring the all the SVM parameters (elephants) according to their fitness, I am applying the clan updating operator.\n",
    "    The clan operating operator depends upon the matriarch which is nothing but the fitness elephant in that particular clan.\n",
    "    So I will select the first element of every clan and treat it as the MATRIARCH\n",
    "    '''\n",
    "    for clan_number in range(len(sorted_elephants_in_clans)):\n",
    "\n",
    "      sum_of_parameters = 0\n",
    "\n",
    "\n",
    "      for elephant_number in range(len(sorted_elephants_in_clans[clan_number])):\n",
    "        # the uniform distribution \"r\" value to be used in the CLAN UPDATING OPERATOR\n",
    "        r = np.random.uniform(low = 0, high = 1)\n",
    "        #r = 0.5\n",
    "\n",
    "        # the uniform distribution \"rand\" value which is going to be used in the SEPARATING OPERATOR\n",
    "        rand = np.random.uniform(low = 0, high = 1)\n",
    "        #rand = 0.5\n",
    "\n",
    "        # this determines the influence of the best elephant to the elephants in the clan\n",
    "        #alpha = np.random.uniform(low = 0, high = 1)\n",
    "        alpha = 0.5\n",
    "\n",
    "        # this determines the factor that influences the x_center\n",
    "        #beta = np.random.uniform(low = 0, high = 1)\n",
    "        beta = 0.5\n",
    "\n",
    "\n",
    "        if elephant_number == 0:\n",
    "          '''\n",
    "          this is to just assign the MATRIARCH in order to update the position of the rest of the elephants\n",
    "          '''\n",
    "          MATRIARCH = sorted_elephants_in_clans[clan_number][elephant_number]\n",
    "          #print(\"MATRIARCH:- \", MATRIARCH)\n",
    "\n",
    "\n",
    "        if elephant_number != 0 and elephant_number != population_in_each_clan - 1:\n",
    "          '''\n",
    "          the formula written below is for the CLAN UPDATING OPERATOR\n",
    "          '''\n",
    "          # to extract the original parameters i.e. the initial elephant\n",
    "          X_original = sorted_elephants_in_clans[clan_number][elephant_number]\n",
    "          #print(\"ORIGINAL DATAPOINT:- \", X_original)\n",
    "\n",
    "          X_new = X_original + alpha * (MATRIARCH - X_original) * r\n",
    "          #print(\"New datapoint:- \", X_new)\n",
    "\n",
    "          new_parameters_list.append(X_new)\n",
    "\n",
    "\n",
    "        if elephant_number == 0:\n",
    "          '''\n",
    "          to calculate the X_centre i.e. the determine the centre of each clan. This is a part of CLAN UPDATING OPERATOR\n",
    "          '''\n",
    "          for i in sorted_elephants_in_clans[clan_number]:\n",
    "            sum_of_parameters = sum_of_parameters + i\n",
    "\n",
    "          X_centre = (sum_of_parameters) / (population_in_each_clan)\n",
    "          X_new = beta * X_centre\n",
    "\n",
    "          new_parameters_list.append(X_new)\n",
    "\n",
    "        \n",
    "        if elephant_number == population_in_each_clan - 1:\n",
    "          '''\n",
    "          to apply the CLAN SEPARATING OPERATOR as this is the worst elephant in the clan\n",
    "          '''\n",
    "          # to extract the minimum value or the lower bound and the upper bound to the regularization parameter i.e. C\n",
    "          X_new_0_min = min(x[0] for x in parameters_list)\n",
    "          X_new_0_max = max(x[0] for x in parameters_list)\n",
    "\n",
    "          # to extract the minimum value i.e. the lower bound and the upper bound to the gamma parameter\n",
    "          X_new_1_min = min(x[1] for x in parameters_list)\n",
    "          X_new_1_max = max(x[1] for x in parameters_list)\n",
    "\n",
    "\n",
    "          # to use the SEPARATING OPREATOR FORMULA to reset REGULARIZATION PARAMETER\n",
    "          new_reg_parameter = X_new_0_min + (X_new_0_max - X_new_0_min + 1) * rand\n",
    "\n",
    "          # to use the SEPARATING OPERATOR to reset the GAMMA PARAMETER\n",
    "          new_gamma_parameter = X_new_1_min + (X_new_1_max - X_new_1_min + 1) * rand\n",
    "\n",
    "          X_new = [new_reg_parameter, new_gamma_parameter]\n",
    "          X_new = np.array(X_new)\n",
    "\n",
    "          new_parameters_list.append(X_new)\n",
    "\n",
    "      #print(\"=================================END OF CLAN===================================\")\n",
    "\n",
    "\n",
    "    '''\n",
    "    to assign the new parameters found by using the CLAN UPDATING AND THE CLAN SEPARATING OPERATOR to the \"parameters_list\" variable\n",
    "    '''\n",
    "    parameters_list = new_parameters_list\n",
    "\n",
    "    #print(\"The updated parameters list is:- \", parameters_list)\n",
    "\n",
    "    '''\n",
    "    considering the new parameters and finding out the fitness value of these newly formed parameters\n",
    "    '''\n",
    "    new_accuracies = fitness_calculation(parameters_list, X_train, Y_train)\n",
    "\n",
    "    # to extract the maximum accuracy and the correspodning index value. After that, to use this index value to extract the corresponding parameters.\n",
    "    best_accuracy_after_every_epoch.append(max(new_accuracies))\n",
    "\n",
    "    index_value = new_accuracies.index(max(new_accuracies))\n",
    "\n",
    "    best_parameter_after_every_epoch.append(parameters_list[index_value])\n",
    "\n",
    "    # to assign the \"new_accuracies\" to the \"final_accuracies\" so that I can pass it to the \"SORT_ELEPHANTS\" function in the next epoch i.e. next generation\n",
    "    final_accuracies = new_accuracies\n",
    "\n",
    "    print('FINAL ACCURACY IS: ', final_accuracies)\n",
    "    print(\"BEST PARAMETER IS: \", parameters_list[index_value])\n",
    "    print(\"THE BEST ACCURACY IS: \", max(new_accuracies))\n",
    "    print(\"=\"*80)\n",
    "\n",
    "    #break;\n"
   ]
  },
  {
   "cell_type": "code",
   "execution_count": null,
   "metadata": {
    "id": "xe12aoa5fPHn"
   },
   "outputs": [],
   "source": []
  },
  {
   "cell_type": "code",
   "execution_count": null,
   "metadata": {
    "id": "W72qPUY4fPKv"
   },
   "outputs": [],
   "source": []
  },
  {
   "cell_type": "code",
   "execution_count": null,
   "metadata": {
    "colab": {
     "base_uri": "https://localhost:8080/"
    },
    "id": "vG3Yh0SKco10",
    "outputId": "04c64ec9-0b77-448e-9ead-9ae939e8ffff"
   },
   "outputs": [
    {
     "name": "stdout",
     "output_type": "stream",
     "text": [
      "<class 'pandas.core.frame.DataFrame'> (250, 10)\n",
      "<class 'pandas.core.frame.DataFrame'> (50, 10)\n"
     ]
    }
   ],
   "source": [
    "'''\n",
    "to standardize the data before passing it to the models\n",
    "'''\n",
    "from sklearn.preprocessing import StandardScaler\n",
    "\n",
    "scaler = StandardScaler()\n",
    "\n",
    "X_train_new_standardized = scaler.fit_transform(X_train_new)\n",
    "X_test_new_standardized = scaler.transform(X_test_new)\n",
    "\n",
    "X_train_new_standardized = pd.DataFrame(X_train_new_standardized)\n",
    "X_test_new_standardized = pd.DataFrame(X_test_new_standardized)\n",
    "\n",
    "print(type(X_train_new_standardized), X_train_new_standardized.shape)\n",
    "print(type(X_test_new_standardized), X_test_new_standardized.shape)"
   ]
  },
  {
   "cell_type": "code",
   "execution_count": null,
   "metadata": {
    "colab": {
     "base_uri": "https://localhost:8080/",
     "height": 474
    },
    "id": "XJNGfsjbfPzE",
    "outputId": "92be93c6-8284-4fae-88de-78f26a665696"
   },
   "outputs": [
    {
     "name": "stdout",
     "output_type": "stream",
     "text": [
      "(250, 3) <class 'numpy.ndarray'>\n"
     ]
    },
    {
     "data": {
      "image/png": "[encoded data removed]",
      "text/plain": [
       "<Figure size 483.875x432 with 1 Axes>"
      ]
     },
     "metadata": {
      "needs_background": "light",
      "tags": []
     },
     "output_type": "display_data"
    }
   ],
   "source": [
    "tsne_df = return_TSNE_data(X_train_new_standardized, Y_train)\n",
    "\n",
    "sns.FacetGrid(tsne_df, hue='labels', size=6).map(plt.scatter, 'dim_1', 'dim_2').add_legend()\n",
    "plt.title('With Perplexity 5 and n_iter=1000')\n",
    "plt.savefig(\"Final_data_visualization\")\n",
    "plt.show()"
   ]
  },
  {
   "cell_type": "code",
   "execution_count": null,
   "metadata": {
    "id": "uU4JFpTdeSmR"
   },
   "outputs": [],
   "source": []
  },
  {
   "cell_type": "markdown",
   "metadata": {
    "id": "e1cgGmqSeccv"
   },
   "source": [
    "**TO LOAD THE PREPROCESSED DATASET**\n"
   ]
  },
  {
   "cell_type": "code",
   "execution_count": null,
   "metadata": {
    "colab": {
     "base_uri": "https://localhost:8080/"
    },
    "id": "WxgYBiHteSqT",
    "outputId": "1eeb56af-8c53-430b-9b29-4f57e00f1a3f"
   },
   "outputs": [
    {
     "name": "stdout",
     "output_type": "stream",
     "text": [
      "(250, 11)\n",
      "(50, 11)\n",
      "The Datasets have been loaded...\n"
     ]
    }
   ],
   "source": [
    "final_training_df = pd.read_csv(r'/content/drive/MyDrive/Research Paper/DATA/final_training_df.csv')\n",
    "final_testing_df = pd.read_csv(r'/content/drive/MyDrive/Research Paper/DATA/final_testing_df.csv')\n",
    "\n",
    "print(final_training_df.shape)\n",
    "print(final_testing_df.shape)\n",
    "print(\"The Datasets have been loaded...\")"
   ]
  },
  {
   "cell_type": "code",
   "execution_count": null,
   "metadata": {
    "colab": {
     "base_uri": "https://localhost:8080/"
    },
    "id": "X_zWte5KeTFz",
    "outputId": "195f7c0f-382c-4306-9286-eedde7d6426d"
   },
   "outputs": [
    {
     "name": "stdout",
     "output_type": "stream",
     "text": [
      "(250, 10) (250,)\n",
      "(50, 10) (50,)\n"
     ]
    }
   ],
   "source": [
    "X_train = final_training_df.drop(['condition'], axis = 1)\n",
    "Y_train = final_training_df['condition']\n",
    "\n",
    "Y_train = np.array(Y_train)\n",
    "\n",
    "X_test = final_testing_df.drop(['condition'], axis = 1)\n",
    "Y_test = final_testing_df['condition']\n",
    "\n",
    "Y_test = np.array(Y_test)\n",
    "\n",
    "print(X_train.shape, Y_train.shape)\n",
    "print(X_test.shape, Y_test.shape)"
   ]
  },
  {
   "cell_type": "code",
   "execution_count": null,
   "metadata": {
    "colab": {
     "base_uri": "https://localhost:8080/"
    },
    "id": "PiO6YgWYc0-H",
    "outputId": "80268d40-69e2-470d-c419-67f2406f8019"
   },
   "outputs": [
    {
     "name": "stdout",
     "output_type": "stream",
     "text": [
      "PRINTING THE VALUE OF i :-  [172.46592   0.79582]\n",
      "PRINTING THE VALUE OF i :-  [435.97064   2.01448]\n",
      "PRINTING THE VALUE OF i :-  [59.316    2.94834]\n",
      "PRINTING THE VALUE OF i :-  [415.10097   8.73529]\n",
      "PRINTING THE VALUE OF i :-  [199.52797  10.52466]\n",
      "PRINTING THE VALUE OF i :-  [58.07983 10.61025]\n",
      "PRINTING THE VALUE OF i :-  [485.16762  10.52735]\n",
      "PRINTING THE VALUE OF i :-  [13.90828 11.33854]\n",
      "PRINTING THE VALUE OF i :-  [424.31553  13.01137]\n",
      "PRINTING THE VALUE OF i :-  [428.92945  15.97025]\n",
      "PRINTING THE VALUE OF i :-  [207.63769  16.53163]\n",
      "PRINTING THE VALUE OF i :-  [474.34553  20.3285 ]\n",
      "PRINTING THE VALUE OF i :-  [469.95971  20.71735]\n",
      "PRINTING THE VALUE OF i :-  [239.82205  22.85486]\n",
      "PRINTING THE VALUE OF i :-  [354.80854  22.88713]\n",
      "PRINTING THE VALUE OF i :-  [19.41379 26.85002]\n",
      "PRINTING THE VALUE OF i :-  [455.43911  27.35925]\n",
      "PRINTING THE VALUE OF i :-  [150.68283  27.52791]\n",
      "PRINTING THE VALUE OF i :-  [111.19876  31.30599]\n",
      "PRINTING THE VALUE OF i :-  [26.92725 30.25434]\n",
      "PRINTING THE VALUE OF i :-  [81.88491 29.67103]\n",
      "PRINTING THE VALUE OF i :-  [469.5587  34.2196]\n",
      "PRINTING THE VALUE OF i :-  [352.68484  35.52088]\n",
      "PRINTING THE VALUE OF i :-  [292.85568  35.60532]\n",
      "PRINTING THE VALUE OF i :-  [409.81838  41.18955]\n",
      "PRINTING THE VALUE OF i :-  [126.195    41.57996]\n",
      "PRINTING THE VALUE OF i :-  [410.45664  42.10717]\n",
      "PRINTING THE VALUE OF i :-  [232.25804  43.2455 ]\n",
      "PRINTING THE VALUE OF i :-  [234.7246   44.79285]\n",
      "PRINTING THE VALUE OF i :-  [121.14617  44.29045]\n",
      "FINAL ACCURACY IS:  [0.844, 0.884, 0.8400000000000001, 0.58, 0.292, 0.6599999999999999, 0.4800000000000001, 0.44399999999999995, 0.41200000000000003, 0.19599999999999995, 0.4879999999999999, 0.27599999999999997, 0.292, 0.27199999999999996, 0.6479999999999999, 0.376, 0.22399999999999998, 0.22399999999999998, 0.20799999999999996, 0.25999999999999995, 0.29599999999999993, 0.21199999999999997, 0.20799999999999996, 0.20799999999999996, 0.652, 0.25999999999999995, 0.15200000000000002, 0.14800000000000002, 0.14800000000000002, 0.608]\n",
      "BEST PARAMETER IS:  [313.74844314   1.44922522]\n",
      "THE BEST ACCURACY IS:  0.884\n",
      "================================================================================\n"
     ]
    }
   ],
   "source": [
    "EHO(1, X_train, Y_train)"
   ]
  },
  {
   "cell_type": "code",
   "execution_count": null,
   "metadata": {
    "colab": {
     "base_uri": "https://localhost:8080/"
    },
    "id": "acGt9qZVc4zl",
    "outputId": "b03aef35-2c3a-422f-d11e-231aae69c8ab"
   },
   "outputs": [
    {
     "name": "stdout",
     "output_type": "stream",
     "text": [
      "[LibSVM]The TESTING ACCURACY IS:-  0.9\n",
      "The TRAINING ACCURACY IS:-  0.976\n"
     ]
    }
   ],
   "source": [
    "#[1.45949143, 0.26917001] 94.44%\n",
    "# [2.11476091, 0.23915122] 94.48%\n",
    "# [1.52462373, 0.14254683] 93.59%\n",
    "# [2.44777614, 0.21400747] 95.2%        BEST        [2.60187031, 0.19514524]\n",
    "\n",
    "from sklearn.svm import SVC\n",
    "\n",
    "clf = SVC(kernel = 'rbf', C = 2.99187031, gamma = 0.17514524, verbose = 1)\n",
    "clf.fit(X_train_new_standardized, Y_train)\n",
    "\n",
    "test_predicted_output = clf.predict(X_test_new_standardized)\n",
    "train_predicted_output = clf.predict(X_train_new_standardized)\n",
    "\n",
    "testing_accuracy = accuracy_score(Y_test, test_predicted_output)\n",
    "training_accuracy = accuracy_score(Y_train, train_predicted_output)\n",
    "\n",
    "print(\"The TESTING ACCURACY IS:- \", testing_accuracy)\n",
    "print('The TRAINING ACCURACY IS:- ', training_accuracy)"
   ]
  },
  {
   "cell_type": "code",
   "execution_count": null,
   "metadata": {
    "id": "bqz9cWICdqBG"
   },
   "outputs": [],
   "source": [
    "def plot_confusion_matrix(test_y, predict_y):\n",
    "\n",
    "  from sklearn.metrics import confusion_matrix\n",
    "\n",
    "  C = confusion_matrix(test_y, predict_y)\n",
    "  \n",
    "  print(\"Number of misclassified points \",(len(test_y)-np.trace(C))/len(test_y)*100, '%')\n",
    "\n",
    " \n",
    "  labels = [0,1,2,3,4,5]\n",
    "  cmap=sns.light_palette(\"green\")\n",
    "  \n",
    "  '''\n",
    "  CONFUSION MATRIX\n",
    "  '''\n",
    "  print(\"-\"*50, \"Confusion matrix\", \"-\"*50)\n",
    "  plt.figure(figsize=(10,5))\n",
    "  sns.heatmap(C, annot=True, cmap=cmap, fmt=\".3f\", xticklabels=labels, yticklabels=labels)\n",
    "  plt.xlabel('Predicted Class')\n",
    "  plt.ylabel('Original Class')\n",
    "  plt.show()"
   ]
  },
  {
   "cell_type": "code",
   "execution_count": null,
   "metadata": {
    "colab": {
     "base_uri": "https://localhost:8080/",
     "height": 367
    },
    "id": "1rjQSfZ2isaI",
    "outputId": "e701703f-1c36-493d-d6f0-13309809309f"
   },
   "outputs": [
    {
     "name": "stdout",
     "output_type": "stream",
     "text": [
      "Number of misclassified points  2.4 %\n",
      "-------------------------------------------------- Confusion matrix --------------------------------------------------\n"
     ]
    },
    {
     "data": {
      "image/png": "[encoded data removed]",
      "text/plain": [
       "<Figure size 720x360 with 2 Axes>"
      ]
     },
     "metadata": {
      "needs_background": "light",
      "tags": []
     },
     "output_type": "display_data"
    }
   ],
   "source": [
    "'''\n",
    "FOR TRAINING DATA POINTS\n",
    "'''\n",
    "plot_confusion_matrix(Y_train, train_predicted_output)"
   ]
  },
  {
   "cell_type": "code",
   "execution_count": null,
   "metadata": {
    "colab": {
     "base_uri": "https://localhost:8080/",
     "height": 372
    },
    "id": "X6HxYMUxiu2p",
    "outputId": "7d53900c-13c3-4739-ac83-943ef45e2075"
   },
   "outputs": [
    {
     "name": "stdout",
     "output_type": "stream",
     "text": [
      "Number of misclassified points  10.0 %\n",
      "-------------------------------------------------- Confusion matrix --------------------------------------------------\n"
     ]
    },
    {
     "data": {
      "image/png": "[encoded data removed]",
      "text/plain": [
       "<Figure size 720x360 with 2 Axes>"
      ]
     },
     "metadata": {
      "needs_background": "light",
      "tags": []
     },
     "output_type": "display_data"
    }
   ],
   "source": [
    "'''\n",
    "FOR TESTING DATA POINTS\n",
    "'''\n",
    "plot_confusion_matrix(Y_test, test_predicted_output)"
   ]
  },
  {
   "cell_type": "markdown",
   "metadata": {
    "id": "syRgr4f_kLbp"
   },
   "source": [
    "**To store the final preprocessed datasets**"
   ]
  },
  {
   "cell_type": "code",
   "execution_count": null,
   "metadata": {
    "colab": {
     "base_uri": "https://localhost:8080/",
     "height": 202
    },
    "id": "qOkw0qMaiyU7",
    "outputId": "f5205f94-0d3e-4e2d-aaae-58f5e0f2aa55"
   },
   "outputs": [
    {
     "data": {
      "text/html": [
       "<div>\n",
       "<style scoped>\n",
       "    .dataframe tbody tr th:only-of-type {\n",
       "        vertical-align: middle;\n",
       "    }\n",
       "\n",
       "    .dataframe tbody tr th {\n",
       "        vertical-align: top;\n",
       "    }\n",
       "\n",
       "    .dataframe thead th {\n",
       "        text-align: right;\n",
       "    }\n",
       "</style>\n",
       "<table border=\"1\" class=\"dataframe\">\n",
       "  <thead>\n",
       "    <tr style=\"text-align: right;\">\n",
       "      <th></th>\n",
       "      <th>condition</th>\n",
       "    </tr>\n",
       "  </thead>\n",
       "  <tbody>\n",
       "    <tr>\n",
       "      <th>0</th>\n",
       "      <td>5</td>\n",
       "    </tr>\n",
       "    <tr>\n",
       "      <th>1</th>\n",
       "      <td>3</td>\n",
       "    </tr>\n",
       "    <tr>\n",
       "      <th>2</th>\n",
       "      <td>1</td>\n",
       "    </tr>\n",
       "    <tr>\n",
       "      <th>3</th>\n",
       "      <td>5</td>\n",
       "    </tr>\n",
       "    <tr>\n",
       "      <th>4</th>\n",
       "      <td>1</td>\n",
       "    </tr>\n",
       "  </tbody>\n",
       "</table>\n",
       "</div>"
      ],
      "text/plain": [
       "   condition\n",
       "0          5\n",
       "1          3\n",
       "2          1\n",
       "3          5\n",
       "4          1"
      ]
     },
     "execution_count": 50,
     "metadata": {
      "tags": []
     },
     "output_type": "execute_result"
    }
   ],
   "source": [
    "# to combine the X_train and Y_train and make them a single TRAINING DATASET\n",
    "Y_train_df = pd.DataFrame(Y_train)\n",
    "\n",
    "Y_train_df.columns = ['condition']\n",
    "\n",
    "Y_train_df.head()"
   ]
  },
  {
   "cell_type": "code",
   "execution_count": null,
   "metadata": {
    "colab": {
     "base_uri": "https://localhost:8080/",
     "height": 219
    },
    "id": "Py-iVa0n9lJq",
    "outputId": "9e5beb75-e839-4f11-fe1c-c6ba5878ec73"
   },
   "outputs": [
    {
     "name": "stdout",
     "output_type": "stream",
     "text": [
      "(250, 10)\n"
     ]
    },
    {
     "data": {
      "text/html": [
       "<div>\n",
       "<style scoped>\n",
       "    .dataframe tbody tr th:only-of-type {\n",
       "        vertical-align: middle;\n",
       "    }\n",
       "\n",
       "    .dataframe tbody tr th {\n",
       "        vertical-align: top;\n",
       "    }\n",
       "\n",
       "    .dataframe thead th {\n",
       "        text-align: right;\n",
       "    }\n",
       "</style>\n",
       "<table border=\"1\" class=\"dataframe\">\n",
       "  <thead>\n",
       "    <tr style=\"text-align: right;\">\n",
       "      <th></th>\n",
       "      <th>Mean</th>\n",
       "      <th>SD</th>\n",
       "      <th>Kurtosis</th>\n",
       "      <th>sum</th>\n",
       "      <th>Skewness</th>\n",
       "      <th>max</th>\n",
       "      <th>min</th>\n",
       "      <th>range</th>\n",
       "      <th>RMS</th>\n",
       "      <th>Shape factor</th>\n",
       "    </tr>\n",
       "  </thead>\n",
       "  <tbody>\n",
       "    <tr>\n",
       "      <th>0</th>\n",
       "      <td>-1.166491</td>\n",
       "      <td>-0.641888</td>\n",
       "      <td>-0.631950</td>\n",
       "      <td>-1.166651</td>\n",
       "      <td>0.326382</td>\n",
       "      <td>-0.407618</td>\n",
       "      <td>1.058829</td>\n",
       "      <td>-0.740012</td>\n",
       "      <td>0.033720</td>\n",
       "      <td>-0.413015</td>\n",
       "    </tr>\n",
       "    <tr>\n",
       "      <th>1</th>\n",
       "      <td>0.389329</td>\n",
       "      <td>0.830822</td>\n",
       "      <td>1.604929</td>\n",
       "      <td>0.389247</td>\n",
       "      <td>0.082017</td>\n",
       "      <td>1.090784</td>\n",
       "      <td>-1.204128</td>\n",
       "      <td>1.196487</td>\n",
       "      <td>0.744678</td>\n",
       "      <td>-0.432032</td>\n",
       "    </tr>\n",
       "    <tr>\n",
       "      <th>2</th>\n",
       "      <td>1.439655</td>\n",
       "      <td>-0.488640</td>\n",
       "      <td>0.576646</td>\n",
       "      <td>1.439758</td>\n",
       "      <td>1.949726</td>\n",
       "      <td>0.773832</td>\n",
       "      <td>0.418404</td>\n",
       "      <td>0.236606</td>\n",
       "      <td>0.108506</td>\n",
       "      <td>-0.619835</td>\n",
       "    </tr>\n",
       "    <tr>\n",
       "      <th>3</th>\n",
       "      <td>-0.641116</td>\n",
       "      <td>-0.718663</td>\n",
       "      <td>-0.972769</td>\n",
       "      <td>-0.641185</td>\n",
       "      <td>-0.538460</td>\n",
       "      <td>-1.190899</td>\n",
       "      <td>0.873037</td>\n",
       "      <td>-1.093864</td>\n",
       "      <td>-0.003179</td>\n",
       "      <td>-0.486737</td>\n",
       "    </tr>\n",
       "    <tr>\n",
       "      <th>4</th>\n",
       "      <td>0.658361</td>\n",
       "      <td>-0.764562</td>\n",
       "      <td>-0.388668</td>\n",
       "      <td>0.658378</td>\n",
       "      <td>-0.370158</td>\n",
       "      <td>-0.387232</td>\n",
       "      <td>-0.437583</td>\n",
       "      <td>-0.008617</td>\n",
       "      <td>-0.024884</td>\n",
       "      <td>-0.598013</td>\n",
       "    </tr>\n",
       "  </tbody>\n",
       "</table>\n",
       "</div>"
      ],
      "text/plain": [
       "      Mean         SD  Kurtosis  ...     range       RMS  Shape factor\n",
       "0 -1.166491 -0.641888 -0.631950  ... -0.740012  0.033720     -0.413015\n",
       "1  0.389329  0.830822  1.604929  ...  1.196487  0.744678     -0.432032\n",
       "2  1.439655 -0.488640  0.576646  ...  0.236606  0.108506     -0.619835\n",
       "3 -0.641116 -0.718663 -0.972769  ... -1.093864 -0.003179     -0.486737\n",
       "4  0.658361 -0.764562 -0.388668  ... -0.008617 -0.024884     -0.598013\n",
       "\n",
       "[5 rows x 10 columns]"
      ]
     },
     "execution_count": 53,
     "metadata": {
      "tags": []
     },
     "output_type": "execute_result"
    }
   ],
   "source": [
    "X_train_new_standardized.columns = ['Mean ', 'SD', 'Kurtosis', 'sum', 'Skewness ', 'max', 'min', 'range', 'RMS', 'Shape factor']\n",
    "\n",
    "print(X_train_new_standardized.shape)\n",
    "\n",
    "X_train_new_standardized.head()"
   ]
  },
  {
   "cell_type": "code",
   "execution_count": null,
   "metadata": {
    "colab": {
     "base_uri": "https://localhost:8080/",
     "height": 219
    },
    "id": "AQs7V4489lMT",
    "outputId": "43e38bd1-121d-4469-892d-384e0eaffba2"
   },
   "outputs": [
    {
     "name": "stdout",
     "output_type": "stream",
     "text": [
      "(250, 11)\n"
     ]
    },
    {
     "data": {
      "text/html": [
       "<div>\n",
       "<style scoped>\n",
       "    .dataframe tbody tr th:only-of-type {\n",
       "        vertical-align: middle;\n",
       "    }\n",
       "\n",
       "    .dataframe tbody tr th {\n",
       "        vertical-align: top;\n",
       "    }\n",
       "\n",
       "    .dataframe thead th {\n",
       "        text-align: right;\n",
       "    }\n",
       "</style>\n",
       "<table border=\"1\" class=\"dataframe\">\n",
       "  <thead>\n",
       "    <tr style=\"text-align: right;\">\n",
       "      <th></th>\n",
       "      <th>Mean</th>\n",
       "      <th>SD</th>\n",
       "      <th>Kurtosis</th>\n",
       "      <th>sum</th>\n",
       "      <th>Skewness</th>\n",
       "      <th>max</th>\n",
       "      <th>min</th>\n",
       "      <th>range</th>\n",
       "      <th>RMS</th>\n",
       "      <th>Shape factor</th>\n",
       "      <th>condition</th>\n",
       "    </tr>\n",
       "  </thead>\n",
       "  <tbody>\n",
       "    <tr>\n",
       "      <th>0</th>\n",
       "      <td>-1.166491</td>\n",
       "      <td>-0.641888</td>\n",
       "      <td>-0.631950</td>\n",
       "      <td>-1.166651</td>\n",
       "      <td>0.326382</td>\n",
       "      <td>-0.407618</td>\n",
       "      <td>1.058829</td>\n",
       "      <td>-0.740012</td>\n",
       "      <td>0.033720</td>\n",
       "      <td>-0.413015</td>\n",
       "      <td>5</td>\n",
       "    </tr>\n",
       "    <tr>\n",
       "      <th>1</th>\n",
       "      <td>0.389329</td>\n",
       "      <td>0.830822</td>\n",
       "      <td>1.604929</td>\n",
       "      <td>0.389247</td>\n",
       "      <td>0.082017</td>\n",
       "      <td>1.090784</td>\n",
       "      <td>-1.204128</td>\n",
       "      <td>1.196487</td>\n",
       "      <td>0.744678</td>\n",
       "      <td>-0.432032</td>\n",
       "      <td>3</td>\n",
       "    </tr>\n",
       "    <tr>\n",
       "      <th>2</th>\n",
       "      <td>1.439655</td>\n",
       "      <td>-0.488640</td>\n",
       "      <td>0.576646</td>\n",
       "      <td>1.439758</td>\n",
       "      <td>1.949726</td>\n",
       "      <td>0.773832</td>\n",
       "      <td>0.418404</td>\n",
       "      <td>0.236606</td>\n",
       "      <td>0.108506</td>\n",
       "      <td>-0.619835</td>\n",
       "      <td>1</td>\n",
       "    </tr>\n",
       "    <tr>\n",
       "      <th>3</th>\n",
       "      <td>-0.641116</td>\n",
       "      <td>-0.718663</td>\n",
       "      <td>-0.972769</td>\n",
       "      <td>-0.641185</td>\n",
       "      <td>-0.538460</td>\n",
       "      <td>-1.190899</td>\n",
       "      <td>0.873037</td>\n",
       "      <td>-1.093864</td>\n",
       "      <td>-0.003179</td>\n",
       "      <td>-0.486737</td>\n",
       "      <td>5</td>\n",
       "    </tr>\n",
       "    <tr>\n",
       "      <th>4</th>\n",
       "      <td>0.658361</td>\n",
       "      <td>-0.764562</td>\n",
       "      <td>-0.388668</td>\n",
       "      <td>0.658378</td>\n",
       "      <td>-0.370158</td>\n",
       "      <td>-0.387232</td>\n",
       "      <td>-0.437583</td>\n",
       "      <td>-0.008617</td>\n",
       "      <td>-0.024884</td>\n",
       "      <td>-0.598013</td>\n",
       "      <td>1</td>\n",
       "    </tr>\n",
       "  </tbody>\n",
       "</table>\n",
       "</div>"
      ],
      "text/plain": [
       "      Mean         SD  Kurtosis  ...       RMS  Shape factor  condition\n",
       "0 -1.166491 -0.641888 -0.631950  ...  0.033720     -0.413015          5\n",
       "1  0.389329  0.830822  1.604929  ...  0.744678     -0.432032          3\n",
       "2  1.439655 -0.488640  0.576646  ...  0.108506     -0.619835          1\n",
       "3 -0.641116 -0.718663 -0.972769  ... -0.003179     -0.486737          5\n",
       "4  0.658361 -0.764562 -0.388668  ... -0.024884     -0.598013          1\n",
       "\n",
       "[5 rows x 11 columns]"
      ]
     },
     "execution_count": 55,
     "metadata": {
      "tags": []
     },
     "output_type": "execute_result"
    }
   ],
   "source": [
    "final_training_df = pd.concat([X_train_new_standardized, Y_train_df], axis = 1)\n",
    "\n",
    "print(final_training_df.shape)\n",
    "\n",
    "final_training_df.head()"
   ]
  },
  {
   "cell_type": "code",
   "execution_count": null,
   "metadata": {
    "colab": {
     "base_uri": "https://localhost:8080/",
     "height": 219
    },
    "id": "iTpCdf5n-HGN",
    "outputId": "65436d7b-5dcd-4d35-d044-06b645d95845"
   },
   "outputs": [
    {
     "name": "stdout",
     "output_type": "stream",
     "text": [
      "(50, 11)\n"
     ]
    },
    {
     "data": {
      "text/html": [
       "<div>\n",
       "<style scoped>\n",
       "    .dataframe tbody tr th:only-of-type {\n",
       "        vertical-align: middle;\n",
       "    }\n",
       "\n",
       "    .dataframe tbody tr th {\n",
       "        vertical-align: top;\n",
       "    }\n",
       "\n",
       "    .dataframe thead th {\n",
       "        text-align: right;\n",
       "    }\n",
       "</style>\n",
       "<table border=\"1\" class=\"dataframe\">\n",
       "  <thead>\n",
       "    <tr style=\"text-align: right;\">\n",
       "      <th></th>\n",
       "      <th>Mean</th>\n",
       "      <th>SD</th>\n",
       "      <th>Kurtosis</th>\n",
       "      <th>sum</th>\n",
       "      <th>Skewness</th>\n",
       "      <th>max</th>\n",
       "      <th>min</th>\n",
       "      <th>range</th>\n",
       "      <th>RMS</th>\n",
       "      <th>Shape factor</th>\n",
       "      <th>condition</th>\n",
       "    </tr>\n",
       "  </thead>\n",
       "  <tbody>\n",
       "    <tr>\n",
       "      <th>0</th>\n",
       "      <td>-0.460915</td>\n",
       "      <td>-0.860746</td>\n",
       "      <td>-1.036939</td>\n",
       "      <td>-0.460855</td>\n",
       "      <td>-0.569580</td>\n",
       "      <td>-1.479807</td>\n",
       "      <td>1.343628</td>\n",
       "      <td>-1.483727</td>\n",
       "      <td>-0.071674</td>\n",
       "      <td>-0.520886</td>\n",
       "      <td>5</td>\n",
       "    </tr>\n",
       "    <tr>\n",
       "      <th>1</th>\n",
       "      <td>-0.224031</td>\n",
       "      <td>-0.100869</td>\n",
       "      <td>0.983163</td>\n",
       "      <td>-0.224191</td>\n",
       "      <td>0.073753</td>\n",
       "      <td>0.313520</td>\n",
       "      <td>-0.810453</td>\n",
       "      <td>0.567283</td>\n",
       "      <td>0.294995</td>\n",
       "      <td>-0.462754</td>\n",
       "      <td>4</td>\n",
       "    </tr>\n",
       "    <tr>\n",
       "      <th>2</th>\n",
       "      <td>-0.336128</td>\n",
       "      <td>0.531163</td>\n",
       "      <td>1.835477</td>\n",
       "      <td>-0.336130</td>\n",
       "      <td>2.019024</td>\n",
       "      <td>2.423654</td>\n",
       "      <td>-0.684162</td>\n",
       "      <td>1.700572</td>\n",
       "      <td>0.599914</td>\n",
       "      <td>-0.383252</td>\n",
       "      <td>4</td>\n",
       "    </tr>\n",
       "    <tr>\n",
       "      <th>3</th>\n",
       "      <td>0.331800</td>\n",
       "      <td>-0.372152</td>\n",
       "      <td>-0.920667</td>\n",
       "      <td>0.331941</td>\n",
       "      <td>-0.372720</td>\n",
       "      <td>-1.306980</td>\n",
       "      <td>0.615906</td>\n",
       "      <td>-1.035855</td>\n",
       "      <td>-1.967718</td>\n",
       "      <td>1.283732</td>\n",
       "      <td>0</td>\n",
       "    </tr>\n",
       "    <tr>\n",
       "      <th>4</th>\n",
       "      <td>0.415132</td>\n",
       "      <td>-0.535673</td>\n",
       "      <td>-0.822137</td>\n",
       "      <td>0.415019</td>\n",
       "      <td>-0.178914</td>\n",
       "      <td>-0.447551</td>\n",
       "      <td>0.309443</td>\n",
       "      <td>-0.402112</td>\n",
       "      <td>-1.968440</td>\n",
       "      <td>2.551908</td>\n",
       "      <td>0</td>\n",
       "    </tr>\n",
       "  </tbody>\n",
       "</table>\n",
       "</div>"
      ],
      "text/plain": [
       "      Mean         SD  Kurtosis  ...       RMS  Shape factor  condition\n",
       "0 -0.460915 -0.860746 -1.036939  ... -0.071674     -0.520886          5\n",
       "1 -0.224031 -0.100869  0.983163  ...  0.294995     -0.462754          4\n",
       "2 -0.336128  0.531163  1.835477  ...  0.599914     -0.383252          4\n",
       "3  0.331800 -0.372152 -0.920667  ... -1.967718      1.283732          0\n",
       "4  0.415132 -0.535673 -0.822137  ... -1.968440      2.551908          0\n",
       "\n",
       "[5 rows x 11 columns]"
      ]
     },
     "execution_count": 56,
     "metadata": {
      "tags": []
     },
     "output_type": "execute_result"
    }
   ],
   "source": [
    "# to combine the TEST dataframes\n",
    "X_test_new_standardized.columns = ['Mean ', 'SD', 'Kurtosis', 'sum', 'Skewness ', 'max', 'min', 'range', 'RMS', 'Shape factor']\n",
    "\n",
    "Y_test_df = pd.DataFrame(Y_test)\n",
    "Y_test_df.columns = ['condition']\n",
    "\n",
    "final_testing_df = pd.concat([X_test_new_standardized, Y_test_df], axis = 1)\n",
    "\n",
    "print(final_testing_df.shape)\n",
    "\n",
    "final_testing_df.head()"
   ]
  },
  {
   "cell_type": "code",
   "execution_count": null,
   "metadata": {
    "colab": {
     "base_uri": "https://localhost:8080/"
    },
    "id": "l9ABTFJtm4Kr",
    "outputId": "da24ca6b-789a-43f8-d864-b7b1f52f21f0"
   },
   "outputs": [
    {
     "name": "stdout",
     "output_type": "stream",
     "text": [
      "The Datasets have been stored....\n"
     ]
    }
   ],
   "source": [
    "'''\n",
    "to store both the dataframes as \"CSV\" files\n",
    "'''\n",
    "final_training_df.to_csv(path_or_buf = r'/content/drive/MyDrive/Research Paper/DATA/final_training_df.csv', index = False)\n",
    "\n",
    "final_testing_df.to_csv(path_or_buf = r'/content/drive/MyDrive/Research Paper/DATA/final_testing_df.csv', index = False)\n",
    "\n",
    "print(\"The Datasets have been stored....\")"
   ]
  },
  {
   "cell_type": "code",
   "execution_count": null,
   "metadata": {
    "id": "X_deRAuEntEr"
   },
   "outputs": [],
   "source": []
  }
 ],
 "metadata": {
  "colab": {
   "name": "Data Preprocessing and Data Analysis for Actual Data.ipynb",
   "provenance": []
  },
  "kernelspec": {
   "display_name": "Python 3",
   "language": "python",
   "name": "python3"
  },
  "language_info": {
   "codemirror_mode": {
    "name": "ipython",
    "version": 3
   },
   "file_extension": ".py",
   "mimetype": "text/x-python",
   "name": "python",
   "nbconvert_exporter": "python",
   "pygments_lexer": "ipython3",
   "version": "3.8.8"
  }
 },
 "nbformat": 4,
 "nbformat_minor": 1
}
